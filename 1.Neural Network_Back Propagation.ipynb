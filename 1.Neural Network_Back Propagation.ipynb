{
 "cells": [
  {
   "cell_type": "code",
   "execution_count": 1,
   "metadata": {
    "colab": {
     "base_uri": "https://localhost:8080/"
    },
    "executionInfo": {
     "elapsed": 3692,
     "status": "ok",
     "timestamp": 1676180685355,
     "user": {
      "displayName": "Srijit Panja",
      "userId": "08280687544370309018"
     },
     "user_tz": -330
    },
    "id": "gPQCjnuqiOdy",
    "outputId": "5b5c7450-eb4a-48b4-97ab-93611971c8a5"
   },
   "outputs": [],
   "source": [
    "#!pip install tensorflow"
   ]
  },
  {
   "cell_type": "code",
   "execution_count": 2,
   "metadata": {
    "colab": {
     "base_uri": "https://localhost:8080/"
    },
    "executionInfo": {
     "elapsed": 6828,
     "status": "ok",
     "timestamp": 1676180700180,
     "user": {
      "displayName": "Srijit Panja",
      "userId": "08280687544370309018"
     },
     "user_tz": -330
    },
    "id": "pvBp1oasiOd-",
    "outputId": "9c2f488b-f7d4-4e86-bcc5-f3be1ed6fb20"
   },
   "outputs": [],
   "source": [
    "#!pip install keras"
   ]
  },
  {
   "cell_type": "code",
   "execution_count": 3,
   "metadata": {
    "executionInfo": {
     "elapsed": 2901,
     "status": "ok",
     "timestamp": 1676180710202,
     "user": {
      "displayName": "Srijit Panja",
      "userId": "08280687544370309018"
     },
     "user_tz": -330
    },
    "id": "67fq_HUhiOd-"
   },
   "outputs": [],
   "source": [
    "from keras.models import Sequential\n",
    "from keras.layers import Dense\n",
    "import numpy"
   ]
  },
  {
   "cell_type": "code",
   "execution_count": 4,
   "metadata": {
    "executionInfo": {
     "elapsed": 492,
     "status": "ok",
     "timestamp": 1676181494704,
     "user": {
      "displayName": "Srijit Panja",
      "userId": "08280687544370309018"
     },
     "user_tz": -330
    },
    "id": "4SGSqH3wiOd_"
   },
   "outputs": [],
   "source": [
    "# fix random seed for reproducibility\n",
    "seed = 7\n",
    "numpy.random.seed(seed)\n",
    "# load pima indians dataset\n",
    "dataset = numpy.loadtxt('https://raw.githubusercontent.com/mchandak/DS_Repo10/main/Data/pima-indians-diabetes.data.csv', delimiter=\",\")\n",
    "# split into input (X) and output (Y) variables\n",
    "X = dataset[:,0:8]\n",
    "Y = dataset[:,8]\n"
   ]
  },
  {
   "cell_type": "code",
   "execution_count": 5,
   "metadata": {
    "executionInfo": {
     "elapsed": 442,
     "status": "ok",
     "timestamp": 1676182087519,
     "user": {
      "displayName": "Srijit Panja",
      "userId": "08280687544370309018"
     },
     "user_tz": -330
    },
    "id": "ZNUWXgkniOeA"
   },
   "outputs": [],
   "source": [
    "# create model\n",
    "model = Sequential()\n",
    "model.add(Dense(20, input_dim=8,  activation='relu')) #1st layer\n",
    "model.add(Dense(10,  activation='relu')) #2nd layer\n",
    "model.add(Dense(10,  activation='relu')) #3nd layer\n",
    "model.add(Dense(1, activation='sigmoid')) #4th layer or output layer"
   ]
  },
  {
   "cell_type": "code",
   "execution_count": 6,
   "metadata": {
    "executionInfo": {
     "elapsed": 440,
     "status": "ok",
     "timestamp": 1676182510332,
     "user": {
      "displayName": "Srijit Panja",
      "userId": "08280687544370309018"
     },
     "user_tz": -330
    },
    "id": "y69e5XcziOeB"
   },
   "outputs": [],
   "source": [
    "# Compile model\n",
    "model.compile(loss='binary_crossentropy', optimizer='adam', metrics=['accuracy'])"
   ]
  },
  {
   "cell_type": "code",
   "execution_count": 7,
   "metadata": {
    "colab": {
     "base_uri": "https://localhost:8080/"
    },
    "executionInfo": {
     "elapsed": 462,
     "status": "ok",
     "timestamp": 1676182516146,
     "user": {
      "displayName": "Srijit Panja",
      "userId": "08280687544370309018"
     },
     "user_tz": -330
    },
    "id": "5SUwtU3aZD_7",
    "outputId": "54f38f72-df72-4336-ad4c-ee556c6ce15f"
   },
   "outputs": [
    {
     "name": "stdout",
     "output_type": "stream",
     "text": [
      "Model: \"sequential\"\n",
      "_________________________________________________________________\n",
      " Layer (type)                Output Shape              Param #   \n",
      "=================================================================\n",
      " dense (Dense)               (None, 20)                180       \n",
      "                                                                 \n",
      " dense_1 (Dense)             (None, 10)                210       \n",
      "                                                                 \n",
      " dense_2 (Dense)             (None, 10)                110       \n",
      "                                                                 \n",
      " dense_3 (Dense)             (None, 1)                 11        \n",
      "                                                                 \n",
      "=================================================================\n",
      "Total params: 511\n",
      "Trainable params: 511\n",
      "Non-trainable params: 0\n",
      "_________________________________________________________________\n"
     ]
    }
   ],
   "source": [
    "model.summary()"
   ]
  },
  {
   "cell_type": "code",
   "execution_count": 8,
   "metadata": {
    "colab": {
     "base_uri": "https://localhost:8080/"
    },
    "executionInfo": {
     "elapsed": 84456,
     "status": "ok",
     "timestamp": 1676183863032,
     "user": {
      "displayName": "Srijit Panja",
      "userId": "08280687544370309018"
     },
     "user_tz": -330
    },
    "id": "vTEaXcpViOeB",
    "outputId": "f124b94a-79ab-4bd5-b0cc-40f6e56cb438"
   },
   "outputs": [
    {
     "name": "stdout",
     "output_type": "stream",
     "text": [
      "Epoch 1/250\n",
      "52/52 [==============================] - 2s 9ms/step - loss: 3.8484 - accuracy: 0.5545 - val_loss: 1.1905 - val_accuracy: 0.6299\n",
      "Epoch 2/250\n",
      "52/52 [==============================] - 0s 4ms/step - loss: 1.0727 - accuracy: 0.5992 - val_loss: 0.9174 - val_accuracy: 0.6693\n",
      "Epoch 3/250\n",
      "52/52 [==============================] - 0s 3ms/step - loss: 0.8714 - accuracy: 0.5875 - val_loss: 0.7077 - val_accuracy: 0.6575\n",
      "Epoch 4/250\n",
      "52/52 [==============================] - 0s 3ms/step - loss: 0.8156 - accuracy: 0.5817 - val_loss: 0.6637 - val_accuracy: 0.6811\n",
      "Epoch 5/250\n",
      "52/52 [==============================] - 0s 3ms/step - loss: 0.7490 - accuracy: 0.5992 - val_loss: 0.6599 - val_accuracy: 0.6260\n",
      "Epoch 6/250\n",
      "52/52 [==============================] - 0s 3ms/step - loss: 0.7135 - accuracy: 0.6148 - val_loss: 0.6647 - val_accuracy: 0.6220\n",
      "Epoch 7/250\n",
      "52/52 [==============================] - 0s 3ms/step - loss: 0.7453 - accuracy: 0.6206 - val_loss: 0.6341 - val_accuracy: 0.6693\n",
      "Epoch 8/250\n",
      "52/52 [==============================] - 0s 3ms/step - loss: 0.6820 - accuracy: 0.6459 - val_loss: 0.6326 - val_accuracy: 0.6693\n",
      "Epoch 9/250\n",
      "52/52 [==============================] - 0s 3ms/step - loss: 0.6612 - accuracy: 0.6556 - val_loss: 0.6882 - val_accuracy: 0.6142\n",
      "Epoch 10/250\n",
      "52/52 [==============================] - 0s 3ms/step - loss: 0.6584 - accuracy: 0.6459 - val_loss: 0.6374 - val_accuracy: 0.6378\n",
      "Epoch 11/250\n",
      "52/52 [==============================] - 0s 3ms/step - loss: 0.6722 - accuracy: 0.6673 - val_loss: 0.6091 - val_accuracy: 0.7087\n",
      "Epoch 12/250\n",
      "52/52 [==============================] - 0s 3ms/step - loss: 0.6460 - accuracy: 0.6518 - val_loss: 0.6240 - val_accuracy: 0.7047\n",
      "Epoch 13/250\n",
      "52/52 [==============================] - 0s 3ms/step - loss: 0.6204 - accuracy: 0.6809 - val_loss: 0.6353 - val_accuracy: 0.6614\n",
      "Epoch 14/250\n",
      "52/52 [==============================] - 0s 3ms/step - loss: 0.6169 - accuracy: 0.6693 - val_loss: 0.6370 - val_accuracy: 0.6339\n",
      "Epoch 15/250\n",
      "52/52 [==============================] - 0s 3ms/step - loss: 0.6355 - accuracy: 0.6712 - val_loss: 0.6186 - val_accuracy: 0.6969\n",
      "Epoch 16/250\n",
      "52/52 [==============================] - 0s 3ms/step - loss: 0.6007 - accuracy: 0.6946 - val_loss: 0.6122 - val_accuracy: 0.7008\n",
      "Epoch 17/250\n",
      "52/52 [==============================] - 0s 3ms/step - loss: 0.5953 - accuracy: 0.6965 - val_loss: 0.6169 - val_accuracy: 0.6811\n",
      "Epoch 18/250\n",
      "52/52 [==============================] - 0s 3ms/step - loss: 0.5871 - accuracy: 0.7023 - val_loss: 0.6564 - val_accuracy: 0.6811\n",
      "Epoch 19/250\n",
      "52/52 [==============================] - 0s 3ms/step - loss: 0.6072 - accuracy: 0.6848 - val_loss: 0.8913 - val_accuracy: 0.5354\n",
      "Epoch 20/250\n",
      "52/52 [==============================] - 0s 3ms/step - loss: 0.6115 - accuracy: 0.6946 - val_loss: 0.6452 - val_accuracy: 0.6890\n",
      "Epoch 21/250\n",
      "52/52 [==============================] - 0s 3ms/step - loss: 0.6188 - accuracy: 0.6887 - val_loss: 0.6288 - val_accuracy: 0.6772\n",
      "Epoch 22/250\n",
      "52/52 [==============================] - 0s 3ms/step - loss: 0.5866 - accuracy: 0.7160 - val_loss: 0.6179 - val_accuracy: 0.6890\n",
      "Epoch 23/250\n",
      "52/52 [==============================] - 0s 3ms/step - loss: 0.5708 - accuracy: 0.7082 - val_loss: 0.6158 - val_accuracy: 0.6890\n",
      "Epoch 24/250\n",
      "52/52 [==============================] - 0s 3ms/step - loss: 0.5960 - accuracy: 0.7023 - val_loss: 0.6175 - val_accuracy: 0.6811\n",
      "Epoch 25/250\n",
      "52/52 [==============================] - 0s 3ms/step - loss: 0.5682 - accuracy: 0.7412 - val_loss: 0.5863 - val_accuracy: 0.7165\n",
      "Epoch 26/250\n",
      "52/52 [==============================] - 0s 3ms/step - loss: 0.5976 - accuracy: 0.7198 - val_loss: 0.6079 - val_accuracy: 0.6890\n",
      "Epoch 27/250\n",
      "52/52 [==============================] - 0s 3ms/step - loss: 0.5941 - accuracy: 0.7160 - val_loss: 0.6035 - val_accuracy: 0.7008\n",
      "Epoch 28/250\n",
      "52/52 [==============================] - 0s 3ms/step - loss: 0.5718 - accuracy: 0.7257 - val_loss: 0.6103 - val_accuracy: 0.7205\n",
      "Epoch 29/250\n",
      "52/52 [==============================] - 0s 3ms/step - loss: 0.5845 - accuracy: 0.7082 - val_loss: 0.6198 - val_accuracy: 0.6850\n",
      "Epoch 30/250\n",
      "52/52 [==============================] - 0s 3ms/step - loss: 0.5687 - accuracy: 0.7101 - val_loss: 0.5868 - val_accuracy: 0.7283\n",
      "Epoch 31/250\n",
      "52/52 [==============================] - 0s 3ms/step - loss: 0.5682 - accuracy: 0.7237 - val_loss: 0.6077 - val_accuracy: 0.6811\n",
      "Epoch 32/250\n",
      "52/52 [==============================] - 0s 3ms/step - loss: 0.5571 - accuracy: 0.7393 - val_loss: 0.6063 - val_accuracy: 0.6929\n",
      "Epoch 33/250\n",
      "52/52 [==============================] - 0s 5ms/step - loss: 0.5459 - accuracy: 0.7393 - val_loss: 0.6215 - val_accuracy: 0.7205\n",
      "Epoch 34/250\n",
      "52/52 [==============================] - 0s 3ms/step - loss: 0.5696 - accuracy: 0.7218 - val_loss: 0.6118 - val_accuracy: 0.6969\n",
      "Epoch 35/250\n",
      "52/52 [==============================] - 0s 3ms/step - loss: 0.5679 - accuracy: 0.7160 - val_loss: 0.6150 - val_accuracy: 0.6929\n",
      "Epoch 36/250\n",
      "52/52 [==============================] - 0s 3ms/step - loss: 0.5513 - accuracy: 0.7315 - val_loss: 0.6257 - val_accuracy: 0.6654\n",
      "Epoch 37/250\n",
      "52/52 [==============================] - 0s 2ms/step - loss: 0.5444 - accuracy: 0.7276 - val_loss: 0.5891 - val_accuracy: 0.7165\n",
      "Epoch 38/250\n",
      "52/52 [==============================] - 0s 3ms/step - loss: 0.5334 - accuracy: 0.7315 - val_loss: 0.6123 - val_accuracy: 0.6850\n",
      "Epoch 39/250\n",
      "52/52 [==============================] - 0s 3ms/step - loss: 0.5550 - accuracy: 0.7335 - val_loss: 0.6191 - val_accuracy: 0.6969\n",
      "Epoch 40/250\n",
      "52/52 [==============================] - 0s 3ms/step - loss: 0.5465 - accuracy: 0.7296 - val_loss: 0.6074 - val_accuracy: 0.7087\n",
      "Epoch 41/250\n",
      "52/52 [==============================] - 0s 4ms/step - loss: 0.5565 - accuracy: 0.7160 - val_loss: 0.6048 - val_accuracy: 0.7126\n",
      "Epoch 42/250\n",
      "52/52 [==============================] - 0s 3ms/step - loss: 0.5373 - accuracy: 0.7568 - val_loss: 0.5960 - val_accuracy: 0.7402\n",
      "Epoch 43/250\n",
      "52/52 [==============================] - 0s 3ms/step - loss: 0.5482 - accuracy: 0.7276 - val_loss: 0.6053 - val_accuracy: 0.7047\n",
      "Epoch 44/250\n",
      "52/52 [==============================] - 0s 3ms/step - loss: 0.5650 - accuracy: 0.7198 - val_loss: 0.6032 - val_accuracy: 0.7008\n",
      "Epoch 45/250\n",
      "52/52 [==============================] - 0s 4ms/step - loss: 0.5328 - accuracy: 0.7490 - val_loss: 0.6817 - val_accuracy: 0.7126\n",
      "Epoch 46/250\n",
      "52/52 [==============================] - 0s 3ms/step - loss: 0.5534 - accuracy: 0.7354 - val_loss: 0.6305 - val_accuracy: 0.7047\n",
      "Epoch 47/250\n",
      "52/52 [==============================] - 0s 3ms/step - loss: 0.5423 - accuracy: 0.7374 - val_loss: 0.5915 - val_accuracy: 0.7126\n",
      "Epoch 48/250\n",
      "52/52 [==============================] - 0s 3ms/step - loss: 0.5686 - accuracy: 0.7412 - val_loss: 0.6030 - val_accuracy: 0.7205\n",
      "Epoch 49/250\n",
      "52/52 [==============================] - 0s 3ms/step - loss: 0.5295 - accuracy: 0.7529 - val_loss: 0.6939 - val_accuracy: 0.7047\n",
      "Epoch 50/250\n",
      "52/52 [==============================] - 0s 3ms/step - loss: 0.5468 - accuracy: 0.7257 - val_loss: 0.6413 - val_accuracy: 0.6457\n",
      "Epoch 51/250\n",
      "52/52 [==============================] - 0s 3ms/step - loss: 0.5327 - accuracy: 0.7335 - val_loss: 0.6205 - val_accuracy: 0.6929\n",
      "Epoch 52/250\n",
      "52/52 [==============================] - 0s 3ms/step - loss: 0.5318 - accuracy: 0.7315 - val_loss: 0.6039 - val_accuracy: 0.7205\n",
      "Epoch 53/250\n",
      "52/52 [==============================] - 0s 2ms/step - loss: 0.5418 - accuracy: 0.7354 - val_loss: 0.6338 - val_accuracy: 0.6969\n",
      "Epoch 54/250\n",
      "52/52 [==============================] - 0s 3ms/step - loss: 0.5462 - accuracy: 0.7276 - val_loss: 0.5771 - val_accuracy: 0.7283\n",
      "Epoch 55/250\n",
      "52/52 [==============================] - 0s 3ms/step - loss: 0.5240 - accuracy: 0.7374 - val_loss: 0.5809 - val_accuracy: 0.7559\n",
      "Epoch 56/250\n",
      "52/52 [==============================] - 0s 3ms/step - loss: 0.5232 - accuracy: 0.7529 - val_loss: 0.5776 - val_accuracy: 0.7480\n",
      "Epoch 57/250\n",
      "52/52 [==============================] - 0s 3ms/step - loss: 0.5247 - accuracy: 0.7471 - val_loss: 0.6212 - val_accuracy: 0.6969\n",
      "Epoch 58/250\n",
      "52/52 [==============================] - 0s 3ms/step - loss: 0.5246 - accuracy: 0.7704 - val_loss: 0.5930 - val_accuracy: 0.7323\n"
     ]
    },
    {
     "name": "stdout",
     "output_type": "stream",
     "text": [
      "Epoch 59/250\n",
      "52/52 [==============================] - 0s 3ms/step - loss: 0.5133 - accuracy: 0.7568 - val_loss: 0.5931 - val_accuracy: 0.7087\n",
      "Epoch 60/250\n",
      "52/52 [==============================] - 0s 3ms/step - loss: 0.5357 - accuracy: 0.7335 - val_loss: 0.6006 - val_accuracy: 0.7244\n",
      "Epoch 61/250\n",
      "52/52 [==============================] - 0s 3ms/step - loss: 0.5174 - accuracy: 0.7490 - val_loss: 0.5759 - val_accuracy: 0.7362\n",
      "Epoch 62/250\n",
      "52/52 [==============================] - 0s 3ms/step - loss: 0.5129 - accuracy: 0.7490 - val_loss: 0.5768 - val_accuracy: 0.7441\n",
      "Epoch 63/250\n",
      "52/52 [==============================] - 0s 3ms/step - loss: 0.5351 - accuracy: 0.7354 - val_loss: 0.5874 - val_accuracy: 0.7283\n",
      "Epoch 64/250\n",
      "52/52 [==============================] - 0s 3ms/step - loss: 0.5053 - accuracy: 0.7471 - val_loss: 0.5867 - val_accuracy: 0.7244\n",
      "Epoch 65/250\n",
      "52/52 [==============================] - 0s 3ms/step - loss: 0.5203 - accuracy: 0.7471 - val_loss: 0.5850 - val_accuracy: 0.7244\n",
      "Epoch 66/250\n",
      "52/52 [==============================] - 0s 3ms/step - loss: 0.5079 - accuracy: 0.7257 - val_loss: 0.6061 - val_accuracy: 0.7126\n",
      "Epoch 67/250\n",
      "52/52 [==============================] - 0s 3ms/step - loss: 0.5135 - accuracy: 0.7646 - val_loss: 0.5903 - val_accuracy: 0.7047\n",
      "Epoch 68/250\n",
      "52/52 [==============================] - 0s 3ms/step - loss: 0.5213 - accuracy: 0.7315 - val_loss: 0.6070 - val_accuracy: 0.7008\n",
      "Epoch 69/250\n",
      "52/52 [==============================] - 0s 3ms/step - loss: 0.5134 - accuracy: 0.7315 - val_loss: 0.5876 - val_accuracy: 0.7402\n",
      "Epoch 70/250\n",
      "52/52 [==============================] - 0s 3ms/step - loss: 0.5156 - accuracy: 0.7490 - val_loss: 0.5919 - val_accuracy: 0.7126\n",
      "Epoch 71/250\n",
      "52/52 [==============================] - 0s 3ms/step - loss: 0.5243 - accuracy: 0.7510 - val_loss: 0.6219 - val_accuracy: 0.7244\n",
      "Epoch 72/250\n",
      "52/52 [==============================] - 0s 3ms/step - loss: 0.5106 - accuracy: 0.7471 - val_loss: 0.6218 - val_accuracy: 0.7165\n",
      "Epoch 73/250\n",
      "52/52 [==============================] - 0s 3ms/step - loss: 0.5061 - accuracy: 0.7510 - val_loss: 0.6148 - val_accuracy: 0.6811\n",
      "Epoch 74/250\n",
      "52/52 [==============================] - 0s 3ms/step - loss: 0.4896 - accuracy: 0.7568 - val_loss: 0.5954 - val_accuracy: 0.7362\n",
      "Epoch 75/250\n",
      "52/52 [==============================] - 0s 3ms/step - loss: 0.5052 - accuracy: 0.7588 - val_loss: 0.5885 - val_accuracy: 0.7323\n",
      "Epoch 76/250\n",
      "52/52 [==============================] - 0s 3ms/step - loss: 0.5082 - accuracy: 0.7529 - val_loss: 0.5934 - val_accuracy: 0.7283\n",
      "Epoch 77/250\n",
      "52/52 [==============================] - 0s 3ms/step - loss: 0.4959 - accuracy: 0.7743 - val_loss: 0.5812 - val_accuracy: 0.7323\n",
      "Epoch 78/250\n",
      "52/52 [==============================] - 0s 3ms/step - loss: 0.5025 - accuracy: 0.7665 - val_loss: 0.6081 - val_accuracy: 0.7283\n",
      "Epoch 79/250\n",
      "52/52 [==============================] - 0s 2ms/step - loss: 0.5032 - accuracy: 0.7626 - val_loss: 0.5971 - val_accuracy: 0.7283\n",
      "Epoch 80/250\n",
      "52/52 [==============================] - 0s 3ms/step - loss: 0.5026 - accuracy: 0.7568 - val_loss: 0.5992 - val_accuracy: 0.7165\n",
      "Epoch 81/250\n",
      "52/52 [==============================] - 0s 3ms/step - loss: 0.5177 - accuracy: 0.7451 - val_loss: 0.6026 - val_accuracy: 0.7008\n",
      "Epoch 82/250\n",
      "52/52 [==============================] - 0s 5ms/step - loss: 0.4940 - accuracy: 0.7626 - val_loss: 0.5739 - val_accuracy: 0.7362\n",
      "Epoch 83/250\n",
      "52/52 [==============================] - 0s 4ms/step - loss: 0.4895 - accuracy: 0.7665 - val_loss: 0.5773 - val_accuracy: 0.7323\n",
      "Epoch 84/250\n",
      "52/52 [==============================] - 0s 8ms/step - loss: 0.5045 - accuracy: 0.7549 - val_loss: 0.6059 - val_accuracy: 0.7087\n",
      "Epoch 85/250\n",
      "52/52 [==============================] - 0s 5ms/step - loss: 0.5048 - accuracy: 0.7626 - val_loss: 0.7326 - val_accuracy: 0.7283\n",
      "Epoch 86/250\n",
      "52/52 [==============================] - 0s 2ms/step - loss: 0.5441 - accuracy: 0.7296 - val_loss: 0.5486 - val_accuracy: 0.7362\n",
      "Epoch 87/250\n",
      "52/52 [==============================] - 0s 3ms/step - loss: 0.5297 - accuracy: 0.7510 - val_loss: 0.6238 - val_accuracy: 0.7520\n",
      "Epoch 88/250\n",
      "52/52 [==============================] - 0s 2ms/step - loss: 0.4994 - accuracy: 0.7510 - val_loss: 0.6810 - val_accuracy: 0.6339\n",
      "Epoch 89/250\n",
      "52/52 [==============================] - 0s 2ms/step - loss: 0.5100 - accuracy: 0.7549 - val_loss: 0.5973 - val_accuracy: 0.7244\n",
      "Epoch 90/250\n",
      "52/52 [==============================] - 0s 3ms/step - loss: 0.4911 - accuracy: 0.7646 - val_loss: 0.5719 - val_accuracy: 0.7480\n",
      "Epoch 91/250\n",
      "52/52 [==============================] - 0s 3ms/step - loss: 0.4949 - accuracy: 0.7510 - val_loss: 0.5680 - val_accuracy: 0.7480\n",
      "Epoch 92/250\n",
      "52/52 [==============================] - 0s 3ms/step - loss: 0.4869 - accuracy: 0.7568 - val_loss: 0.5900 - val_accuracy: 0.7165\n",
      "Epoch 93/250\n",
      "52/52 [==============================] - 0s 3ms/step - loss: 0.4893 - accuracy: 0.7549 - val_loss: 0.5688 - val_accuracy: 0.7362\n",
      "Epoch 94/250\n",
      "52/52 [==============================] - 0s 3ms/step - loss: 0.4869 - accuracy: 0.7588 - val_loss: 0.5732 - val_accuracy: 0.7244\n",
      "Epoch 95/250\n",
      "52/52 [==============================] - 0s 3ms/step - loss: 0.4764 - accuracy: 0.7568 - val_loss: 0.5928 - val_accuracy: 0.7165\n",
      "Epoch 96/250\n",
      "52/52 [==============================] - 0s 3ms/step - loss: 0.4786 - accuracy: 0.7821 - val_loss: 0.5775 - val_accuracy: 0.7244\n",
      "Epoch 97/250\n",
      "52/52 [==============================] - 0s 3ms/step - loss: 0.5005 - accuracy: 0.7529 - val_loss: 0.6174 - val_accuracy: 0.6850\n",
      "Epoch 98/250\n",
      "52/52 [==============================] - 0s 2ms/step - loss: 0.4985 - accuracy: 0.7490 - val_loss: 0.5935 - val_accuracy: 0.7402\n",
      "Epoch 99/250\n",
      "52/52 [==============================] - 0s 3ms/step - loss: 0.4799 - accuracy: 0.7724 - val_loss: 0.6759 - val_accuracy: 0.6654\n",
      "Epoch 100/250\n",
      "52/52 [==============================] - 0s 3ms/step - loss: 0.4947 - accuracy: 0.7607 - val_loss: 0.5950 - val_accuracy: 0.7283\n",
      "Epoch 101/250\n",
      "52/52 [==============================] - 0s 3ms/step - loss: 0.4753 - accuracy: 0.7743 - val_loss: 0.5847 - val_accuracy: 0.7165\n",
      "Epoch 102/250\n",
      "52/52 [==============================] - 0s 2ms/step - loss: 0.4798 - accuracy: 0.7665 - val_loss: 0.5735 - val_accuracy: 0.7441\n",
      "Epoch 103/250\n",
      "52/52 [==============================] - 0s 3ms/step - loss: 0.4752 - accuracy: 0.7665 - val_loss: 0.5943 - val_accuracy: 0.6929\n",
      "Epoch 104/250\n",
      "52/52 [==============================] - 0s 3ms/step - loss: 0.4756 - accuracy: 0.7724 - val_loss: 0.5787 - val_accuracy: 0.7323\n",
      "Epoch 105/250\n",
      "52/52 [==============================] - 0s 2ms/step - loss: 0.4846 - accuracy: 0.7665 - val_loss: 0.5865 - val_accuracy: 0.7205\n",
      "Epoch 106/250\n",
      "52/52 [==============================] - 0s 3ms/step - loss: 0.4781 - accuracy: 0.7704 - val_loss: 0.5749 - val_accuracy: 0.7402\n",
      "Epoch 107/250\n",
      "52/52 [==============================] - 0s 3ms/step - loss: 0.4716 - accuracy: 0.7763 - val_loss: 0.5739 - val_accuracy: 0.7402\n",
      "Epoch 108/250\n",
      "52/52 [==============================] - 0s 3ms/step - loss: 0.5045 - accuracy: 0.7549 - val_loss: 0.6600 - val_accuracy: 0.6654\n",
      "Epoch 109/250\n",
      "52/52 [==============================] - 0s 3ms/step - loss: 0.4893 - accuracy: 0.7743 - val_loss: 0.6085 - val_accuracy: 0.7244\n",
      "Epoch 110/250\n",
      "52/52 [==============================] - 0s 3ms/step - loss: 0.5067 - accuracy: 0.7588 - val_loss: 0.5825 - val_accuracy: 0.7323\n",
      "Epoch 111/250\n",
      "52/52 [==============================] - 0s 3ms/step - loss: 0.4754 - accuracy: 0.7685 - val_loss: 0.5725 - val_accuracy: 0.7559\n",
      "Epoch 112/250\n",
      "52/52 [==============================] - 0s 3ms/step - loss: 0.4765 - accuracy: 0.7782 - val_loss: 0.5713 - val_accuracy: 0.7402\n",
      "Epoch 113/250\n",
      "52/52 [==============================] - 0s 3ms/step - loss: 0.4725 - accuracy: 0.7626 - val_loss: 0.6026 - val_accuracy: 0.7008\n",
      "Epoch 114/250\n",
      "52/52 [==============================] - 0s 2ms/step - loss: 0.4906 - accuracy: 0.7646 - val_loss: 0.5857 - val_accuracy: 0.7520\n",
      "Epoch 115/250\n",
      "52/52 [==============================] - 0s 3ms/step - loss: 0.4799 - accuracy: 0.7607 - val_loss: 0.5787 - val_accuracy: 0.7598\n",
      "Epoch 116/250\n"
     ]
    },
    {
     "name": "stdout",
     "output_type": "stream",
     "text": [
      "52/52 [==============================] - 0s 3ms/step - loss: 0.4900 - accuracy: 0.7607 - val_loss: 0.6210 - val_accuracy: 0.6969\n",
      "Epoch 117/250\n",
      "52/52 [==============================] - 0s 3ms/step - loss: 0.4756 - accuracy: 0.7840 - val_loss: 0.5627 - val_accuracy: 0.7598\n",
      "Epoch 118/250\n",
      "52/52 [==============================] - 0s 3ms/step - loss: 0.4792 - accuracy: 0.7588 - val_loss: 0.6498 - val_accuracy: 0.7087\n",
      "Epoch 119/250\n",
      "52/52 [==============================] - 0s 3ms/step - loss: 0.4895 - accuracy: 0.7646 - val_loss: 0.5604 - val_accuracy: 0.7402\n",
      "Epoch 120/250\n",
      "52/52 [==============================] - 0s 3ms/step - loss: 0.4749 - accuracy: 0.7685 - val_loss: 0.5751 - val_accuracy: 0.7402\n",
      "Epoch 121/250\n",
      "52/52 [==============================] - 0s 3ms/step - loss: 0.4761 - accuracy: 0.7743 - val_loss: 0.5805 - val_accuracy: 0.7323\n",
      "Epoch 122/250\n",
      "52/52 [==============================] - 0s 3ms/step - loss: 0.4720 - accuracy: 0.7743 - val_loss: 0.5746 - val_accuracy: 0.7283\n",
      "Epoch 123/250\n",
      "52/52 [==============================] - 0s 3ms/step - loss: 0.4842 - accuracy: 0.7588 - val_loss: 0.5524 - val_accuracy: 0.7441\n",
      "Epoch 124/250\n",
      "52/52 [==============================] - 0s 2ms/step - loss: 0.4753 - accuracy: 0.7665 - val_loss: 0.5529 - val_accuracy: 0.7441\n",
      "Epoch 125/250\n",
      "52/52 [==============================] - 0s 3ms/step - loss: 0.4659 - accuracy: 0.7763 - val_loss: 0.6677 - val_accuracy: 0.7087\n",
      "Epoch 126/250\n",
      "52/52 [==============================] - 0s 3ms/step - loss: 0.5258 - accuracy: 0.7354 - val_loss: 0.5802 - val_accuracy: 0.7323\n",
      "Epoch 127/250\n",
      "52/52 [==============================] - 0s 3ms/step - loss: 0.4717 - accuracy: 0.7646 - val_loss: 0.5739 - val_accuracy: 0.7441\n",
      "Epoch 128/250\n",
      "52/52 [==============================] - 0s 3ms/step - loss: 0.4781 - accuracy: 0.7743 - val_loss: 0.5727 - val_accuracy: 0.7244\n",
      "Epoch 129/250\n",
      "52/52 [==============================] - 0s 3ms/step - loss: 0.4677 - accuracy: 0.7626 - val_loss: 0.5872 - val_accuracy: 0.7047\n",
      "Epoch 130/250\n",
      "52/52 [==============================] - 0s 3ms/step - loss: 0.4645 - accuracy: 0.7743 - val_loss: 0.5751 - val_accuracy: 0.7441\n",
      "Epoch 131/250\n",
      "52/52 [==============================] - 0s 3ms/step - loss: 0.4654 - accuracy: 0.7840 - val_loss: 0.5937 - val_accuracy: 0.7126\n",
      "Epoch 132/250\n",
      "52/52 [==============================] - 0s 3ms/step - loss: 0.4869 - accuracy: 0.7646 - val_loss: 0.5606 - val_accuracy: 0.7520\n",
      "Epoch 133/250\n",
      "52/52 [==============================] - 0s 3ms/step - loss: 0.4783 - accuracy: 0.7646 - val_loss: 0.5736 - val_accuracy: 0.7402\n",
      "Epoch 134/250\n",
      "52/52 [==============================] - 0s 3ms/step - loss: 0.4670 - accuracy: 0.7685 - val_loss: 0.5930 - val_accuracy: 0.7283\n",
      "Epoch 135/250\n",
      "52/52 [==============================] - 0s 3ms/step - loss: 0.4677 - accuracy: 0.7977 - val_loss: 0.5622 - val_accuracy: 0.7677\n",
      "Epoch 136/250\n",
      "52/52 [==============================] - 0s 3ms/step - loss: 0.4591 - accuracy: 0.7665 - val_loss: 0.5612 - val_accuracy: 0.7480\n",
      "Epoch 137/250\n",
      "52/52 [==============================] - 0s 3ms/step - loss: 0.4732 - accuracy: 0.7626 - val_loss: 0.6424 - val_accuracy: 0.7362\n",
      "Epoch 138/250\n",
      "52/52 [==============================] - 0s 3ms/step - loss: 0.4697 - accuracy: 0.7704 - val_loss: 0.5560 - val_accuracy: 0.7638\n",
      "Epoch 139/250\n",
      "52/52 [==============================] - 0s 2ms/step - loss: 0.4678 - accuracy: 0.7704 - val_loss: 0.5750 - val_accuracy: 0.7323\n",
      "Epoch 140/250\n",
      "52/52 [==============================] - 0s 3ms/step - loss: 0.4784 - accuracy: 0.7743 - val_loss: 0.5607 - val_accuracy: 0.7520\n",
      "Epoch 141/250\n",
      "52/52 [==============================] - 0s 3ms/step - loss: 0.4432 - accuracy: 0.7957 - val_loss: 0.5779 - val_accuracy: 0.7480\n",
      "Epoch 142/250\n",
      "52/52 [==============================] - 0s 3ms/step - loss: 0.4581 - accuracy: 0.7821 - val_loss: 0.5888 - val_accuracy: 0.7244\n",
      "Epoch 143/250\n",
      "52/52 [==============================] - 0s 3ms/step - loss: 0.4610 - accuracy: 0.7724 - val_loss: 0.5549 - val_accuracy: 0.7598\n",
      "Epoch 144/250\n",
      "52/52 [==============================] - 0s 2ms/step - loss: 0.4621 - accuracy: 0.7899 - val_loss: 0.5826 - val_accuracy: 0.7441\n",
      "Epoch 145/250\n",
      "52/52 [==============================] - 0s 2ms/step - loss: 0.4461 - accuracy: 0.7724 - val_loss: 0.5949 - val_accuracy: 0.7441\n",
      "Epoch 146/250\n",
      "52/52 [==============================] - 0s 3ms/step - loss: 0.4673 - accuracy: 0.7782 - val_loss: 0.5925 - val_accuracy: 0.7362\n",
      "Epoch 147/250\n",
      "52/52 [==============================] - 0s 2ms/step - loss: 0.4650 - accuracy: 0.7704 - val_loss: 0.5982 - val_accuracy: 0.7283\n",
      "Epoch 148/250\n",
      "52/52 [==============================] - 0s 3ms/step - loss: 0.4576 - accuracy: 0.7802 - val_loss: 0.5698 - val_accuracy: 0.7441\n",
      "Epoch 149/250\n",
      "52/52 [==============================] - 0s 3ms/step - loss: 0.4692 - accuracy: 0.7704 - val_loss: 0.5814 - val_accuracy: 0.7559\n",
      "Epoch 150/250\n",
      "52/52 [==============================] - 0s 2ms/step - loss: 0.4614 - accuracy: 0.7646 - val_loss: 0.5806 - val_accuracy: 0.7126\n",
      "Epoch 151/250\n",
      "52/52 [==============================] - 0s 3ms/step - loss: 0.5038 - accuracy: 0.7549 - val_loss: 0.6291 - val_accuracy: 0.7165\n",
      "Epoch 152/250\n",
      "52/52 [==============================] - 0s 3ms/step - loss: 0.4695 - accuracy: 0.7899 - val_loss: 0.5656 - val_accuracy: 0.7402\n",
      "Epoch 153/250\n",
      "52/52 [==============================] - 0s 3ms/step - loss: 0.4656 - accuracy: 0.7724 - val_loss: 0.5805 - val_accuracy: 0.7283\n",
      "Epoch 154/250\n",
      "52/52 [==============================] - 0s 3ms/step - loss: 0.4507 - accuracy: 0.7724 - val_loss: 0.6680 - val_accuracy: 0.7283\n",
      "Epoch 155/250\n",
      "52/52 [==============================] - 0s 3ms/step - loss: 0.4546 - accuracy: 0.7743 - val_loss: 0.6535 - val_accuracy: 0.6693\n",
      "Epoch 156/250\n",
      "52/52 [==============================] - 0s 3ms/step - loss: 0.4820 - accuracy: 0.7802 - val_loss: 0.5984 - val_accuracy: 0.7283\n",
      "Epoch 157/250\n",
      "52/52 [==============================] - 0s 3ms/step - loss: 0.4560 - accuracy: 0.7821 - val_loss: 0.5906 - val_accuracy: 0.7402\n",
      "Epoch 158/250\n",
      "52/52 [==============================] - 0s 2ms/step - loss: 0.4438 - accuracy: 0.7918 - val_loss: 0.6611 - val_accuracy: 0.6575\n",
      "Epoch 159/250\n",
      "52/52 [==============================] - 0s 2ms/step - loss: 0.4540 - accuracy: 0.7763 - val_loss: 0.5702 - val_accuracy: 0.7323\n",
      "Epoch 160/250\n",
      "52/52 [==============================] - 0s 3ms/step - loss: 0.4415 - accuracy: 0.7840 - val_loss: 0.6210 - val_accuracy: 0.7402\n",
      "Epoch 161/250\n",
      "52/52 [==============================] - 0s 3ms/step - loss: 0.4483 - accuracy: 0.7918 - val_loss: 0.5764 - val_accuracy: 0.7283\n",
      "Epoch 162/250\n",
      "52/52 [==============================] - 0s 3ms/step - loss: 0.4625 - accuracy: 0.7821 - val_loss: 0.5704 - val_accuracy: 0.7362\n",
      "Epoch 163/250\n",
      "52/52 [==============================] - 0s 3ms/step - loss: 0.4456 - accuracy: 0.7899 - val_loss: 0.5912 - val_accuracy: 0.7205\n",
      "Epoch 164/250\n",
      "52/52 [==============================] - 0s 3ms/step - loss: 0.4505 - accuracy: 0.7840 - val_loss: 0.5852 - val_accuracy: 0.7323\n",
      "Epoch 165/250\n",
      "52/52 [==============================] - 0s 2ms/step - loss: 0.4446 - accuracy: 0.7821 - val_loss: 0.5757 - val_accuracy: 0.7402\n",
      "Epoch 166/250\n",
      "52/52 [==============================] - 0s 3ms/step - loss: 0.4489 - accuracy: 0.7840 - val_loss: 0.5983 - val_accuracy: 0.7441\n",
      "Epoch 167/250\n",
      "52/52 [==============================] - 0s 3ms/step - loss: 0.4528 - accuracy: 0.7743 - val_loss: 0.5777 - val_accuracy: 0.7283\n",
      "Epoch 168/250\n",
      "52/52 [==============================] - 0s 3ms/step - loss: 0.4558 - accuracy: 0.7840 - val_loss: 0.6770 - val_accuracy: 0.6339\n",
      "Epoch 169/250\n",
      "52/52 [==============================] - 0s 3ms/step - loss: 0.4698 - accuracy: 0.7665 - val_loss: 0.6400 - val_accuracy: 0.7402\n",
      "Epoch 170/250\n",
      "52/52 [==============================] - 0s 3ms/step - loss: 0.4573 - accuracy: 0.7899 - val_loss: 0.5730 - val_accuracy: 0.7323\n",
      "Epoch 171/250\n",
      "52/52 [==============================] - 0s 3ms/step - loss: 0.4461 - accuracy: 0.7782 - val_loss: 0.5824 - val_accuracy: 0.7283\n",
      "Epoch 172/250\n",
      "52/52 [==============================] - 0s 3ms/step - loss: 0.4474 - accuracy: 0.7860 - val_loss: 0.6061 - val_accuracy: 0.6969\n",
      "Epoch 173/250\n"
     ]
    },
    {
     "name": "stdout",
     "output_type": "stream",
     "text": [
      "52/52 [==============================] - 0s 3ms/step - loss: 0.4734 - accuracy: 0.7821 - val_loss: 0.6285 - val_accuracy: 0.6850\n",
      "Epoch 174/250\n",
      "52/52 [==============================] - 0s 2ms/step - loss: 0.4541 - accuracy: 0.7782 - val_loss: 0.5926 - val_accuracy: 0.7283\n",
      "Epoch 175/250\n",
      "52/52 [==============================] - 0s 2ms/step - loss: 0.4576 - accuracy: 0.7938 - val_loss: 0.5806 - val_accuracy: 0.7559\n",
      "Epoch 176/250\n",
      "52/52 [==============================] - 0s 3ms/step - loss: 0.4483 - accuracy: 0.7860 - val_loss: 0.6184 - val_accuracy: 0.7323\n",
      "Epoch 177/250\n",
      "52/52 [==============================] - 0s 3ms/step - loss: 0.4685 - accuracy: 0.7782 - val_loss: 0.6744 - val_accuracy: 0.7283\n",
      "Epoch 178/250\n",
      "52/52 [==============================] - 0s 3ms/step - loss: 0.4635 - accuracy: 0.7763 - val_loss: 0.5730 - val_accuracy: 0.7283\n",
      "Epoch 179/250\n",
      "52/52 [==============================] - 0s 3ms/step - loss: 0.4507 - accuracy: 0.7899 - val_loss: 0.5845 - val_accuracy: 0.7244\n",
      "Epoch 180/250\n",
      "52/52 [==============================] - 0s 3ms/step - loss: 0.4417 - accuracy: 0.7840 - val_loss: 0.6594 - val_accuracy: 0.7047\n",
      "Epoch 181/250\n",
      "52/52 [==============================] - 0s 3ms/step - loss: 0.4439 - accuracy: 0.7782 - val_loss: 0.6035 - val_accuracy: 0.7402\n",
      "Epoch 182/250\n",
      "52/52 [==============================] - 0s 2ms/step - loss: 0.4304 - accuracy: 0.7821 - val_loss: 0.5864 - val_accuracy: 0.7283\n",
      "Epoch 183/250\n",
      "52/52 [==============================] - 0s 3ms/step - loss: 0.4415 - accuracy: 0.7879 - val_loss: 0.6077 - val_accuracy: 0.7244\n",
      "Epoch 184/250\n",
      "52/52 [==============================] - 0s 3ms/step - loss: 0.4546 - accuracy: 0.7802 - val_loss: 0.6082 - val_accuracy: 0.7283\n",
      "Epoch 185/250\n",
      "52/52 [==============================] - 0s 3ms/step - loss: 0.4442 - accuracy: 0.7724 - val_loss: 0.7100 - val_accuracy: 0.6142\n",
      "Epoch 186/250\n",
      "52/52 [==============================] - 0s 3ms/step - loss: 0.4493 - accuracy: 0.7879 - val_loss: 0.6102 - val_accuracy: 0.7402\n",
      "Epoch 187/250\n",
      "52/52 [==============================] - 0s 3ms/step - loss: 0.4291 - accuracy: 0.7996 - val_loss: 0.5940 - val_accuracy: 0.7480\n",
      "Epoch 188/250\n",
      "52/52 [==============================] - 0s 3ms/step - loss: 0.4338 - accuracy: 0.7918 - val_loss: 0.5969 - val_accuracy: 0.7362\n",
      "Epoch 189/250\n",
      "52/52 [==============================] - 0s 2ms/step - loss: 0.4542 - accuracy: 0.7743 - val_loss: 0.6226 - val_accuracy: 0.7165\n",
      "Epoch 190/250\n",
      "52/52 [==============================] - 0s 2ms/step - loss: 0.4453 - accuracy: 0.7802 - val_loss: 0.5994 - val_accuracy: 0.7283\n",
      "Epoch 191/250\n",
      "52/52 [==============================] - 0s 3ms/step - loss: 0.4368 - accuracy: 0.7977 - val_loss: 0.5815 - val_accuracy: 0.7283\n",
      "Epoch 192/250\n",
      "52/52 [==============================] - 0s 3ms/step - loss: 0.4372 - accuracy: 0.7802 - val_loss: 0.5781 - val_accuracy: 0.7441\n",
      "Epoch 193/250\n",
      "52/52 [==============================] - 0s 3ms/step - loss: 0.4327 - accuracy: 0.7938 - val_loss: 0.6085 - val_accuracy: 0.7087\n",
      "Epoch 194/250\n",
      "52/52 [==============================] - 0s 3ms/step - loss: 0.4359 - accuracy: 0.7821 - val_loss: 0.6403 - val_accuracy: 0.7402\n",
      "Epoch 195/250\n",
      "52/52 [==============================] - 0s 3ms/step - loss: 0.4722 - accuracy: 0.7938 - val_loss: 0.5749 - val_accuracy: 0.7402\n",
      "Epoch 196/250\n",
      "52/52 [==============================] - 0s 3ms/step - loss: 0.4406 - accuracy: 0.7743 - val_loss: 0.6109 - val_accuracy: 0.7244\n",
      "Epoch 197/250\n",
      "52/52 [==============================] - 0s 2ms/step - loss: 0.4563 - accuracy: 0.7918 - val_loss: 0.6094 - val_accuracy: 0.7205\n",
      "Epoch 198/250\n",
      "52/52 [==============================] - 0s 3ms/step - loss: 0.4485 - accuracy: 0.7879 - val_loss: 0.6112 - val_accuracy: 0.7205\n",
      "Epoch 199/250\n",
      "52/52 [==============================] - 0s 3ms/step - loss: 0.4397 - accuracy: 0.7957 - val_loss: 0.5921 - val_accuracy: 0.7283\n",
      "Epoch 200/250\n",
      "52/52 [==============================] - 0s 2ms/step - loss: 0.4381 - accuracy: 0.7840 - val_loss: 0.5852 - val_accuracy: 0.7441\n",
      "Epoch 201/250\n",
      "52/52 [==============================] - 0s 3ms/step - loss: 0.4294 - accuracy: 0.8074 - val_loss: 0.5947 - val_accuracy: 0.7402\n",
      "Epoch 202/250\n",
      "52/52 [==============================] - 0s 2ms/step - loss: 0.4435 - accuracy: 0.7918 - val_loss: 0.6072 - val_accuracy: 0.7402\n",
      "Epoch 203/250\n",
      "52/52 [==============================] - 0s 2ms/step - loss: 0.4498 - accuracy: 0.7724 - val_loss: 0.5802 - val_accuracy: 0.7205\n",
      "Epoch 204/250\n",
      "52/52 [==============================] - 0s 3ms/step - loss: 0.4342 - accuracy: 0.7957 - val_loss: 0.6333 - val_accuracy: 0.7402\n",
      "Epoch 205/250\n",
      "52/52 [==============================] - 0s 3ms/step - loss: 0.4371 - accuracy: 0.7899 - val_loss: 0.5975 - val_accuracy: 0.7362\n",
      "Epoch 206/250\n",
      "52/52 [==============================] - 0s 2ms/step - loss: 0.4304 - accuracy: 0.7840 - val_loss: 0.6036 - val_accuracy: 0.7244\n",
      "Epoch 207/250\n",
      "52/52 [==============================] - 0s 2ms/step - loss: 0.4457 - accuracy: 0.7821 - val_loss: 0.5945 - val_accuracy: 0.7244\n",
      "Epoch 208/250\n",
      "52/52 [==============================] - 0s 3ms/step - loss: 0.4341 - accuracy: 0.8016 - val_loss: 0.5854 - val_accuracy: 0.7441\n",
      "Epoch 209/250\n",
      "52/52 [==============================] - 0s 2ms/step - loss: 0.4350 - accuracy: 0.7938 - val_loss: 0.5918 - val_accuracy: 0.7402\n",
      "Epoch 210/250\n",
      "52/52 [==============================] - 0s 2ms/step - loss: 0.4540 - accuracy: 0.7840 - val_loss: 0.6124 - val_accuracy: 0.7008\n",
      "Epoch 211/250\n",
      "52/52 [==============================] - 0s 3ms/step - loss: 0.4271 - accuracy: 0.8035 - val_loss: 0.6206 - val_accuracy: 0.7008\n",
      "Epoch 212/250\n",
      "52/52 [==============================] - 0s 3ms/step - loss: 0.4307 - accuracy: 0.7879 - val_loss: 0.6095 - val_accuracy: 0.7402\n",
      "Epoch 213/250\n",
      "52/52 [==============================] - 0s 3ms/step - loss: 0.4346 - accuracy: 0.7899 - val_loss: 0.6182 - val_accuracy: 0.7205\n",
      "Epoch 214/250\n",
      "52/52 [==============================] - 0s 3ms/step - loss: 0.4304 - accuracy: 0.7918 - val_loss: 0.5992 - val_accuracy: 0.7205\n",
      "Epoch 215/250\n",
      "52/52 [==============================] - 0s 3ms/step - loss: 0.4393 - accuracy: 0.7918 - val_loss: 0.6063 - val_accuracy: 0.7441\n",
      "Epoch 216/250\n",
      "52/52 [==============================] - 0s 3ms/step - loss: 0.4254 - accuracy: 0.8074 - val_loss: 0.6013 - val_accuracy: 0.7480\n",
      "Epoch 217/250\n",
      "52/52 [==============================] - 0s 3ms/step - loss: 0.4374 - accuracy: 0.7977 - val_loss: 0.6591 - val_accuracy: 0.7126\n",
      "Epoch 218/250\n",
      "52/52 [==============================] - 0s 3ms/step - loss: 0.4266 - accuracy: 0.7996 - val_loss: 0.6108 - val_accuracy: 0.7441\n",
      "Epoch 219/250\n",
      "52/52 [==============================] - 0s 3ms/step - loss: 0.4208 - accuracy: 0.7996 - val_loss: 0.6162 - val_accuracy: 0.7126\n",
      "Epoch 220/250\n",
      "52/52 [==============================] - 0s 3ms/step - loss: 0.4308 - accuracy: 0.8054 - val_loss: 0.6437 - val_accuracy: 0.7402\n",
      "Epoch 221/250\n",
      "52/52 [==============================] - 0s 2ms/step - loss: 0.4241 - accuracy: 0.8016 - val_loss: 0.5689 - val_accuracy: 0.7559\n",
      "Epoch 222/250\n",
      "52/52 [==============================] - 0s 3ms/step - loss: 0.4328 - accuracy: 0.8132 - val_loss: 0.6036 - val_accuracy: 0.7047\n",
      "Epoch 223/250\n",
      "52/52 [==============================] - 0s 3ms/step - loss: 0.4273 - accuracy: 0.7821 - val_loss: 0.6009 - val_accuracy: 0.7362\n",
      "Epoch 224/250\n",
      "52/52 [==============================] - 0s 3ms/step - loss: 0.4624 - accuracy: 0.7743 - val_loss: 0.5885 - val_accuracy: 0.7441\n",
      "Epoch 225/250\n",
      "52/52 [==============================] - 0s 3ms/step - loss: 0.4272 - accuracy: 0.7996 - val_loss: 0.6404 - val_accuracy: 0.7008\n",
      "Epoch 226/250\n",
      "52/52 [==============================] - 0s 3ms/step - loss: 0.4297 - accuracy: 0.8152 - val_loss: 0.6088 - val_accuracy: 0.7205\n",
      "Epoch 227/250\n",
      "52/52 [==============================] - 0s 3ms/step - loss: 0.4339 - accuracy: 0.7938 - val_loss: 0.6197 - val_accuracy: 0.7323\n",
      "Epoch 228/250\n",
      "52/52 [==============================] - 0s 3ms/step - loss: 0.4281 - accuracy: 0.8054 - val_loss: 0.5854 - val_accuracy: 0.7126\n",
      "Epoch 229/250\n",
      "52/52 [==============================] - 0s 3ms/step - loss: 0.4301 - accuracy: 0.7879 - val_loss: 0.6318 - val_accuracy: 0.7362\n",
      "Epoch 230/250\n"
     ]
    },
    {
     "name": "stdout",
     "output_type": "stream",
     "text": [
      "52/52 [==============================] - 0s 3ms/step - loss: 0.4260 - accuracy: 0.7899 - val_loss: 0.6048 - val_accuracy: 0.7441\n",
      "Epoch 231/250\n",
      "52/52 [==============================] - 0s 3ms/step - loss: 0.4273 - accuracy: 0.8016 - val_loss: 0.6281 - val_accuracy: 0.7087\n",
      "Epoch 232/250\n",
      "52/52 [==============================] - 0s 3ms/step - loss: 0.4222 - accuracy: 0.8054 - val_loss: 0.6227 - val_accuracy: 0.7362\n",
      "Epoch 233/250\n",
      "52/52 [==============================] - 0s 3ms/step - loss: 0.4095 - accuracy: 0.8093 - val_loss: 0.6252 - val_accuracy: 0.7165\n",
      "Epoch 234/250\n",
      "52/52 [==============================] - 0s 3ms/step - loss: 0.4364 - accuracy: 0.7957 - val_loss: 0.6173 - val_accuracy: 0.7323\n",
      "Epoch 235/250\n",
      "52/52 [==============================] - 0s 3ms/step - loss: 0.4203 - accuracy: 0.8113 - val_loss: 0.6452 - val_accuracy: 0.7087\n",
      "Epoch 236/250\n",
      "52/52 [==============================] - 0s 3ms/step - loss: 0.4156 - accuracy: 0.7957 - val_loss: 0.7481 - val_accuracy: 0.6890\n",
      "Epoch 237/250\n",
      "52/52 [==============================] - 0s 3ms/step - loss: 0.4565 - accuracy: 0.7704 - val_loss: 0.5855 - val_accuracy: 0.7283\n",
      "Epoch 238/250\n",
      "52/52 [==============================] - 0s 3ms/step - loss: 0.4359 - accuracy: 0.7918 - val_loss: 0.6427 - val_accuracy: 0.7244\n",
      "Epoch 239/250\n",
      "52/52 [==============================] - 0s 3ms/step - loss: 0.4132 - accuracy: 0.8093 - val_loss: 0.6492 - val_accuracy: 0.7165\n",
      "Epoch 240/250\n",
      "52/52 [==============================] - 0s 3ms/step - loss: 0.4264 - accuracy: 0.7977 - val_loss: 0.6410 - val_accuracy: 0.7165\n",
      "Epoch 241/250\n",
      "52/52 [==============================] - 0s 3ms/step - loss: 0.4208 - accuracy: 0.8035 - val_loss: 0.6211 - val_accuracy: 0.7323\n",
      "Epoch 242/250\n",
      "52/52 [==============================] - 0s 3ms/step - loss: 0.4354 - accuracy: 0.7763 - val_loss: 0.6278 - val_accuracy: 0.7323\n",
      "Epoch 243/250\n",
      "52/52 [==============================] - 0s 3ms/step - loss: 0.4178 - accuracy: 0.7918 - val_loss: 0.6389 - val_accuracy: 0.7323\n",
      "Epoch 244/250\n",
      "52/52 [==============================] - 0s 3ms/step - loss: 0.4181 - accuracy: 0.8093 - val_loss: 0.6097 - val_accuracy: 0.7520\n",
      "Epoch 245/250\n",
      "52/52 [==============================] - 0s 3ms/step - loss: 0.4196 - accuracy: 0.8054 - val_loss: 0.6162 - val_accuracy: 0.7362\n",
      "Epoch 246/250\n",
      "52/52 [==============================] - 0s 3ms/step - loss: 0.4186 - accuracy: 0.7957 - val_loss: 0.6096 - val_accuracy: 0.7205\n",
      "Epoch 247/250\n",
      "52/52 [==============================] - 0s 3ms/step - loss: 0.4195 - accuracy: 0.7821 - val_loss: 0.6588 - val_accuracy: 0.7165\n",
      "Epoch 248/250\n",
      "52/52 [==============================] - 0s 3ms/step - loss: 0.4077 - accuracy: 0.8016 - val_loss: 0.6537 - val_accuracy: 0.7283\n",
      "Epoch 249/250\n",
      "52/52 [==============================] - 0s 3ms/step - loss: 0.4188 - accuracy: 0.8035 - val_loss: 0.6404 - val_accuracy: 0.7480\n",
      "Epoch 250/250\n",
      "52/52 [==============================] - 0s 3ms/step - loss: 0.4319 - accuracy: 0.7957 - val_loss: 0.6456 - val_accuracy: 0.7165\n"
     ]
    }
   ],
   "source": [
    "# Fit the model\n",
    "history = model.fit(X, Y, validation_split=0.33, epochs=250, batch_size=10)"
   ]
  },
  {
   "cell_type": "code",
   "execution_count": 9,
   "metadata": {
    "colab": {
     "base_uri": "https://localhost:8080/"
    },
    "executionInfo": {
     "elapsed": 23,
     "status": "ok",
     "timestamp": 1664355563002,
     "user": {
      "displayName": "Salem Sameer Shaikh",
      "userId": "05291575250389740253"
     },
     "user_tz": -330
    },
    "id": "QDxQes17iOeC",
    "outputId": "a1654a43-57a1-4e90-d43d-7ac11ea54948"
   },
   "outputs": [
    {
     "name": "stdout",
     "output_type": "stream",
     "text": [
      "24/24 [==============================] - 0s 1ms/step - loss: 0.4844 - accuracy: 0.7799\n"
     ]
    }
   ],
   "source": [
    "# evaluate the model\n",
    "scores = model.evaluate(X, Y)\n"
   ]
  },
  {
   "cell_type": "code",
   "execution_count": 10,
   "metadata": {},
   "outputs": [
    {
     "name": "stdout",
     "output_type": "stream",
     "text": [
      "accuracy: 77.99%\n"
     ]
    }
   ],
   "source": [
    "print(\"%s: %.2f%%\" % (model.metrics_names[1], scores[1]*100))"
   ]
  },
  {
   "cell_type": "code",
   "execution_count": 11,
   "metadata": {
    "colab": {
     "base_uri": "https://localhost:8080/"
    },
    "executionInfo": {
     "elapsed": 20,
     "status": "ok",
     "timestamp": 1664355563002,
     "user": {
      "displayName": "Salem Sameer Shaikh",
      "userId": "05291575250389740253"
     },
     "user_tz": -330
    },
    "id": "qXJjG0hyiOeC",
    "outputId": "4803c441-4e72-4f01-9bbc-c0cf9e0ba7df"
   },
   "outputs": [
    {
     "data": {
      "text/plain": [
       "dict_keys(['loss', 'accuracy', 'val_loss', 'val_accuracy'])"
      ]
     },
     "execution_count": 11,
     "metadata": {},
     "output_type": "execute_result"
    }
   ],
   "source": [
    "# Visualize training history\n",
    "\n",
    "# list all data in history\n",
    "history.history.keys()\n",
    "\n"
   ]
  },
  {
   "cell_type": "code",
   "execution_count": 12,
   "metadata": {
    "colab": {
     "base_uri": "https://localhost:8080/",
     "height": 573
    },
    "executionInfo": {
     "elapsed": 1340,
     "status": "ok",
     "timestamp": 1664355564324,
     "user": {
      "displayName": "Salem Sameer Shaikh",
      "userId": "05291575250389740253"
     },
     "user_tz": -330
    },
    "id": "rg48aQ4ziOeC",
    "outputId": "bb6ea769-1b34-4d01-933b-f7a6db7cb8b2"
   },
   "outputs": [
    {
     "data": {
      "image/png": "[encoded data removed]",
      "text/plain": [
       "<Figure size 640x480 with 1 Axes>"
      ]
     },
     "metadata": {},
     "output_type": "display_data"
    },
    {
     "data": {
      "image/png": "[encoded data removed]",
      "text/plain": [
       "<Figure size 640x480 with 1 Axes>"
      ]
     },
     "metadata": {},
     "output_type": "display_data"
    }
   ],
   "source": [
    "# summarize history for accuracy\n",
    "import matplotlib.pyplot as plt\n",
    "plt.plot(history.history['accuracy'])\n",
    "plt.plot(history.history['val_accuracy'])\n",
    "plt.title('model accuracy')\n",
    "plt.ylabel('accuracy')\n",
    "plt.xlabel('epoch')\n",
    "plt.legend(['train', 'test'], loc='upper left')\n",
    "plt.show()\n",
    "\n",
    "# summarize history for loss\n",
    "plt.plot(history.history['loss'])\n",
    "plt.plot(history.history['val_loss'])\n",
    "plt.title('model loss')\n",
    "plt.ylabel('loss')\n",
    "plt.xlabel('epoch')\n",
    "plt.legend(['train', 'test'], loc='upper left')\n",
    "plt.show()\n"
   ]
  },
  {
   "cell_type": "code",
   "execution_count": null,
   "metadata": {
    "id": "6e57Dg0-iOeD"
   },
   "outputs": [],
   "source": []
  }
 ],
 "metadata": {
  "colab": {
   "provenance": []
  },
  "kernelspec": {
   "display_name": "Python 3 (ipykernel)",
   "language": "python",
   "name": "python3"
  },
  "language_info": {
   "codemirror_mode": {
    "name": "ipython",
    "version": 3
   },
   "file_extension": ".py",
   "mimetype": "text/x-python",
   "name": "python",
   "nbconvert_exporter": "python",
   "pygments_lexer": "ipython3",
   "version": "3.10.9"
  }
 },
 "nbformat": 4,
 "nbformat_minor": 1
}
