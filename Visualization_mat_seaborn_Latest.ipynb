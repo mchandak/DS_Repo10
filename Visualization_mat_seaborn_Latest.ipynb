{
 "cells": [
  {
   "cell_type": "code",
   "execution_count": null,
   "metadata": {
    "id": "QweWdcZ_nZ4D"
   },
   "outputs": [],
   "source": [
    "#install and then import matplotlib\n",
    "import matplotlib.pyplot as plt\n",
    "import numpy as np\n",
    "import pandas as pd"
   ]
  },
  {
   "cell_type": "code",
   "execution_count": null,
   "metadata": {
    "id": "8X0Il_f1nZ4I"
   },
   "outputs": [],
   "source": [
    "#matplotlib to render plots in the notebook\n",
    "%matplotlib inline"
   ]
  },
  {
   "cell_type": "code",
   "execution_count": null,
   "metadata": {
    "id": "PAfVoG3xnZ4K"
   },
   "outputs": [],
   "source": [
    "x = np.arange(1,201,2)\n",
    "y = np.random.randint(1,10,100) "
   ]
  },
  {
   "cell_type": "code",
   "execution_count": null,
   "metadata": {
    "colab": {
     "base_uri": "https://localhost:8080/"
    },
    "executionInfo": {
     "elapsed": 406,
     "status": "ok",
     "timestamp": 1669777889135,
     "user": {
      "displayName": "ANANYA GHOSH",
      "userId": "07636421272032694955"
     },
     "user_tz": -330
    },
    "id": "GrOsWuW8Z30l",
    "outputId": "001150e3-be0f-4363-c5fc-6b34266538b8"
   },
   "outputs": [],
   "source": [
    "y"
   ]
  },
  {
   "cell_type": "markdown",
   "metadata": {
    "id": "l-y9Jux9nZ4h"
   },
   "source": [
    "#### Matplotlib"
   ]
  },
  {
   "cell_type": "code",
   "execution_count": null,
   "metadata": {
    "colab": {
     "base_uri": "https://localhost:8080/",
     "height": 379
    },
    "executionInfo": {
     "elapsed": 1164,
     "status": "ok",
     "timestamp": 1673161922886,
     "user": {
      "displayName": "Srijit Panja",
      "userId": "08280687544370309018"
     },
     "user_tz": -330
    },
    "id": "4ygzI_bznZ4P",
    "outputId": "14acce36-1b04-471b-cd2b-8838c056b4c0"
   },
   "outputs": [],
   "source": [
    "plt.figure(figsize=(15,5))\n",
    "plt.axes(facecolor='pink')\n",
    "plt.plot(x, y,color='black',label='Line chart') #Line Chart\n",
    "plt.xlim(0, 200) \n",
    "# plt.xticks(1)\n",
    "plt.ylim(0, 10)\n",
    "plt.xlabel('Sales',color='blue')\n",
    "plt.ylabel('product')\n",
    "plt.title('Line Plot')\n",
    "plt.suptitle('Sales Comparison', size=20, y=1.05)\n",
    "plt.savefig('Save.png')\n",
    "plt.legend()\n",
    "plt.show()\n"
   ]
  },
  {
   "cell_type": "code",
   "execution_count": null,
   "metadata": {
    "id": "7S2k6bBZnZ4S"
   },
   "outputs": [],
   "source": [
    "# fig.savefig('example.png', dpi=300, bbox_inches='tight')"
   ]
  },
  {
   "cell_type": "code",
   "execution_count": null,
   "metadata": {
    "colab": {
     "base_uri": "https://localhost:8080/",
     "height": 206
    },
    "executionInfo": {
     "elapsed": 364,
     "status": "ok",
     "timestamp": 1669778355014,
     "user": {
      "displayName": "ANANYA GHOSH",
      "userId": "07636421272032694955"
     },
     "user_tz": -330
    },
    "id": "KykMMLFU7EOo",
    "outputId": "8cbf7870-f391-45a7-e381-6217565370ae"
   },
   "outputs": [],
   "source": [
    "import pandas as pd\n",
    "\n",
    "df=pd.read_csv('https://raw.githubusercontent.com/Apress/data-analysis-and-visualization-using-python/master/Ch07/Salaries.csv')\n",
    "df.head()"
   ]
  },
  {
   "cell_type": "code",
   "execution_count": null,
   "metadata": {
    "colab": {
     "base_uri": "https://localhost:8080/",
     "height": 297
    },
    "executionInfo": {
     "elapsed": 1063,
     "status": "ok",
     "timestamp": 1669540422836,
     "user": {
      "displayName": "ANANYA GHOSH",
      "userId": "07636421272032694955"
     },
     "user_tz": -330
    },
    "id": "M9YNVwJAnZ4d",
    "outputId": "d2817111-10a0-4e68-9bd3-e22c63fb1c66"
   },
   "outputs": [],
   "source": [
    "fig, ax = plt.subplots(nrows=2, ncols=2)\n",
    "ax[0,0].set_title('Plot 1')\n",
    "ax[0,0].plot(x,y)\n",
    "ax[0,1].hist(df['salary'])\n",
    "ax[1,0].boxplot(df.salary)\n",
    "ax[1,1].hist(df.service)\n",
    "plt.suptitle('Sales Comparison', size=20)\n",
    "plt.tight_layout()"
   ]
  },
  {
   "cell_type": "code",
   "execution_count": null,
   "metadata": {
    "colab": {
     "base_uri": "https://localhost:8080/",
     "height": 263
    },
    "executionInfo": {
     "elapsed": 12624,
     "status": "ok",
     "timestamp": 1669860799002,
     "user": {
      "displayName": "ANANYA GHOSH",
      "userId": "07636421272032694955"
     },
     "user_tz": -330
    },
    "id": "LHZI1mpknZ4h",
    "outputId": "960c4639-9aef-4d31-c28f-144bee5bc618"
   },
   "outputs": [],
   "source": [
    "mtcars = pd.read_csv(\"https://raw.githubusercontent.com/mchandak/DS_Repo10/main/Data/mtcars.csv\")\n",
    "mtcars.head()"
   ]
  },
  {
   "cell_type": "code",
   "execution_count": null,
   "metadata": {
    "colab": {
     "base_uri": "https://localhost:8080/",
     "height": 364
    },
    "executionInfo": {
     "elapsed": 375,
     "status": "ok",
     "timestamp": 1669860864042,
     "user": {
      "displayName": "ANANYA GHOSH",
      "userId": "07636421272032694955"
     },
     "user_tz": -330
    },
    "id": "CVEv0SqHsQ_I",
    "outputId": "b998571f-13b2-46b7-889d-047f4a1dc131"
   },
   "outputs": [],
   "source": [
    "mtcars.describe()"
   ]
  },
  {
   "cell_type": "code",
   "execution_count": null,
   "metadata": {
    "colab": {
     "base_uri": "https://localhost:8080/"
    },
    "executionInfo": {
     "elapsed": 371,
     "status": "ok",
     "timestamp": 1669860894467,
     "user": {
      "displayName": "ANANYA GHOSH",
      "userId": "07636421272032694955"
     },
     "user_tz": -330
    },
    "id": "1iR0PmlUPMG6",
    "outputId": "26d890a5-a5dd-4d0e-c358-1ce6cdd0e739"
   },
   "outputs": [],
   "source": [
    "mtcars.info()"
   ]
  },
  {
   "cell_type": "code",
   "execution_count": null,
   "metadata": {
    "colab": {
     "base_uri": "https://localhost:8080/",
     "height": 265
    },
    "executionInfo": {
     "elapsed": 634,
     "status": "ok",
     "timestamp": 1669861628032,
     "user": {
      "displayName": "ANANYA GHOSH",
      "userId": "07636421272032694955"
     },
     "user_tz": -330
    },
    "id": "KE7H-SkvnZ48",
    "outputId": "9b189ca5-ff51-400d-dd93-f0674dd6cd98"
   },
   "outputs": [],
   "source": [
    "# Graphical Representation of data\n",
    "# Histogram\n",
    "plt.hist(mtcars['mpg']) \n",
    "plt.show()"
   ]
  },
  {
   "cell_type": "code",
   "execution_count": null,
   "metadata": {
    "colab": {
     "base_uri": "https://localhost:8080/",
     "height": 265
    },
    "executionInfo": {
     "elapsed": 453,
     "status": "ok",
     "timestamp": 1669861674890,
     "user": {
      "displayName": "ANANYA GHOSH",
      "userId": "07636421272032694955"
     },
     "user_tz": -330
    },
    "id": "Gfr6Zby0nZ4-",
    "outputId": "17469596-c456-4494-ae58-2e950014ee2d"
   },
   "outputs": [],
   "source": [
    "#creates histogram with 5bins and colours filled init.\n",
    "plt.hist(mtcars['mpg'],facecolor =\"peru\",edgecolor =\"blue\",bins =5)\n",
    "plt.show()"
   ]
  },
  {
   "cell_type": "code",
   "execution_count": null,
   "metadata": {
    "colab": {
     "base_uri": "https://localhost:8080/",
     "height": 283
    },
    "executionInfo": {
     "elapsed": 483,
     "status": "ok",
     "timestamp": 1669859835507,
     "user": {
      "displayName": "ANANYA GHOSH",
      "userId": "07636421272032694955"
     },
     "user_tz": -330
    },
    "id": "0zT4f-fftp22",
    "outputId": "6d8b7475-d0fa-42bf-98c7-e138504ec2a4"
   },
   "outputs": [],
   "source": [
    "mtcars['mpg'].hist(grid=False);               #Directly with dataframe"
   ]
  },
  {
   "cell_type": "code",
   "execution_count": null,
   "metadata": {
    "colab": {
     "base_uri": "https://localhost:8080/",
     "height": 336
    },
    "executionInfo": {
     "elapsed": 1680,
     "status": "ok",
     "timestamp": 1669861014483,
     "user": {
      "displayName": "ANANYA GHOSH",
      "userId": "07636421272032694955"
     },
     "user_tz": -330
    },
    "id": "9KJVBR6vdgZz",
    "outputId": "1fb37eff-8f9c-4a7a-de1c-03dce0d17202"
   },
   "outputs": [],
   "source": [
    "mtcars.hist(figsize=(15,5))\n",
    "plt.show()"
   ]
  },
  {
   "cell_type": "code",
   "execution_count": null,
   "metadata": {
    "colab": {
     "base_uri": "https://localhost:8080/",
     "height": 865
    },
    "executionInfo": {
     "elapsed": 4,
     "status": "ok",
     "timestamp": 1669859971080,
     "user": {
      "displayName": "ANANYA GHOSH",
      "userId": "07636421272032694955"
     },
     "user_tz": -330
    },
    "id": "WommxAHZnZ4v",
    "outputId": "17d373a5-e62c-4077-d8a5-738566e99cd9"
   },
   "outputs": [],
   "source": [
    "# table \n",
    "pd.crosstab(mtcars.gear,mtcars.cyl)"
   ]
  },
  {
   "cell_type": "code",
   "execution_count": null,
   "metadata": {
    "colab": {
     "base_uri": "https://localhost:8080/",
     "height": 276
    },
    "executionInfo": {
     "elapsed": 613,
     "status": "ok",
     "timestamp": 1669861202205,
     "user": {
      "displayName": "ANANYA GHOSH",
      "userId": "07636421272032694955"
     },
     "user_tz": -330
    },
    "id": "gd_GXjZInZ4x",
    "outputId": "970e8c7e-15dc-4824-aae0-d74c4e66be41"
   },
   "outputs": [],
   "source": [
    "# bar plot between 2 different categories \n",
    "pd.crosstab(mtcars.gear,mtcars.cyl).plot(kind=\"bar\")\n",
    "plt.show()"
   ]
  },
  {
   "cell_type": "code",
   "execution_count": null,
   "metadata": {
    "colab": {
     "base_uri": "https://localhost:8080/"
    },
    "executionInfo": {
     "elapsed": 337,
     "status": "ok",
     "timestamp": 1669861278162,
     "user": {
      "displayName": "ANANYA GHOSH",
      "userId": "07636421272032694955"
     },
     "user_tz": -330
    },
    "id": "NX_yu4eJuFVj",
    "outputId": "64c184f6-f931-428f-bb41-b84d721f1351"
   },
   "outputs": [],
   "source": [
    "mtcars[\"gear\"].value_counts()"
   ]
  },
  {
   "cell_type": "code",
   "execution_count": null,
   "metadata": {},
   "outputs": [],
   "source": [
    "mtcars.gear.value_counts().plot(kind=\"bar\")\n",
    "plt.show()"
   ]
  },
  {
   "cell_type": "code",
   "execution_count": null,
   "metadata": {
    "colab": {
     "base_uri": "https://localhost:8080/",
     "height": 248
    },
    "executionInfo": {
     "elapsed": 397,
     "status": "ok",
     "timestamp": 1669861320137,
     "user": {
      "displayName": "ANANYA GHOSH",
      "userId": "07636421272032694955"
     },
     "user_tz": -330
    },
    "id": "E0Ve7ecYnZ4z",
    "outputId": "6d5144ca-5824-4a49-e381-adb9924f2c72"
   },
   "outputs": [],
   "source": [
    "mtcars.gear.value_counts().plot(kind=\"pie\")\n",
    "plt.show()"
   ]
  },
  {
   "cell_type": "code",
   "execution_count": null,
   "metadata": {
    "colab": {
     "base_uri": "https://localhost:8080/",
     "height": 295
    },
    "executionInfo": {
     "elapsed": 393,
     "status": "ok",
     "timestamp": 1669861599854,
     "user": {
      "displayName": "ANANYA GHOSH",
      "userId": "07636421272032694955"
     },
     "user_tz": -330
    },
    "id": "nS4W0mSPnZ46",
    "outputId": "cd25011d-33ed-46fc-9334-c4f2375f12ec"
   },
   "outputs": [],
   "source": [
    "plt.scatter(mtcars.mpg,mtcars.qsec);## scatter plot of two variables"
   ]
  },
  {
   "cell_type": "code",
   "execution_count": null,
   "metadata": {
    "colab": {
     "base_uri": "https://localhost:8080/",
     "height": 269
    },
    "executionInfo": {
     "elapsed": 1111,
     "status": "ok",
     "timestamp": 1669861689758,
     "user": {
      "displayName": "ANANYA GHOSH",
      "userId": "07636421272032694955"
     },
     "user_tz": -330
    },
    "id": "dwztDftYnZ5A",
    "outputId": "0e079455-df12-4ed4-f872-57e3599888ab"
   },
   "outputs": [],
   "source": [
    "#Boxplot\n",
    "#help(plt.boxplot)\n",
    "plt.boxplot(mtcars['mpg'])\n",
    "plt.ylabel(\"MPG\")\n",
    "plt.xlabel(\"Boxplot\")\n",
    "plt.title(\"Boxplot\")  ;"
   ]
  },
  {
   "cell_type": "code",
   "execution_count": null,
   "metadata": {
    "colab": {
     "base_uri": "https://localhost:8080/",
     "height": 313
    },
    "executionInfo": {
     "elapsed": 391,
     "status": "ok",
     "timestamp": 1669861731216,
     "user": {
      "displayName": "ANANYA GHOSH",
      "userId": "07636421272032694955"
     },
     "user_tz": -330
    },
    "id": "4IfbGudInZ5C",
    "outputId": "cb7df676-6d15-4c41-9d6f-e2823acd3d42"
   },
   "outputs": [],
   "source": [
    "# vertical Boxplot\n",
    "plt.boxplot(mtcars['mpg'],vert =False)\n",
    "plt.ylabel(\"MPG\")\n",
    "plt.xlabel(\"Boxplot\")\n",
    "plt.title(\"Boxplot\")  ;"
   ]
  },
  {
   "cell_type": "markdown",
   "metadata": {
    "id": "cBaipI82nZ5c"
   },
   "source": [
    "# seaborn"
   ]
  },
  {
   "cell_type": "code",
   "execution_count": null,
   "metadata": {
    "id": "pCovzCbonZ5c"
   },
   "outputs": [],
   "source": [
    "import pandas as pd\n",
    "import matplotlib.pyplot as plt\n",
    "import seaborn as sns"
   ]
  },
  {
   "cell_type": "code",
   "execution_count": null,
   "metadata": {
    "id": "NFEw7V20nZ5e"
   },
   "outputs": [],
   "source": [
    "tips =sns.load_dataset('tips')"
   ]
  },
  {
   "cell_type": "code",
   "execution_count": null,
   "metadata": {
    "colab": {
     "base_uri": "https://localhost:8080/",
     "height": 206
    },
    "executionInfo": {
     "elapsed": 803,
     "status": "ok",
     "timestamp": 1669863285079,
     "user": {
      "displayName": "ANANYA GHOSH",
      "userId": "07636421272032694955"
     },
     "user_tz": -330
    },
    "id": "uvW-2Yy9nZ5g",
    "outputId": "d874f398-d6f3-4494-fea1-d88ac09df810"
   },
   "outputs": [],
   "source": [
    "tips.head()"
   ]
  },
  {
   "cell_type": "markdown",
   "metadata": {
    "id": "gwepy3MJnZ5q"
   },
   "source": [
    "## Univariate → “one variable” data visualization"
   ]
  },
  {
   "cell_type": "markdown",
   "metadata": {
    "id": "BDnEr2d-nZ54"
   },
   "source": [
    "### Box and Violin plot"
   ]
  },
  {
   "cell_type": "code",
   "execution_count": null,
   "metadata": {
    "colab": {
     "base_uri": "https://localhost:8080/",
     "height": 606
    },
    "executionInfo": {
     "elapsed": 1455,
     "status": "ok",
     "timestamp": 1669091178207,
     "user": {
      "displayName": "ANANYA GHOSH",
      "userId": "07636421272032694955"
     },
     "user_tz": -330
    },
    "id": "81HzwK2vnZ54",
    "outputId": "61d8191f-ff49-407b-d9d5-0f6ff7a9ea79"
   },
   "outputs": [],
   "source": [
    "sns.boxplot(x='day', y='tip', data=tips)\n",
    "plt.ylabel('tip ($)');"
   ]
  },
  {
   "cell_type": "code",
   "execution_count": null,
   "metadata": {
    "colab": {
     "base_uri": "https://localhost:8080/",
     "height": 279
    },
    "executionInfo": {
     "elapsed": 441,
     "status": "ok",
     "timestamp": 1669091185419,
     "user": {
      "displayName": "ANANYA GHOSH",
      "userId": "07636421272032694955"
     },
     "user_tz": -330
    },
    "id": "ExShL4IfnZ56",
    "outputId": "9f7d7b92-1298-449d-eb0b-b3350d9f03b0"
   },
   "outputs": [],
   "source": [
    "sns.violinplot(x='day', y='tip', data=tips)\n",
    "plt.ylabel('tip ($)');"
   ]
  },
  {
   "cell_type": "code",
   "execution_count": null,
   "metadata": {
    "colab": {
     "base_uri": "https://localhost:8080/",
     "height": 279
    },
    "executionInfo": {
     "elapsed": 484,
     "status": "ok",
     "timestamp": 1669091361401,
     "user": {
      "displayName": "ANANYA GHOSH",
      "userId": "07636421272032694955"
     },
     "user_tz": -330
    },
    "id": "5vIAo13FnZ58",
    "outputId": "5157fa58-e64c-48f0-cab5-be02c088edb4"
   },
   "outputs": [],
   "source": [
    "# subplots\n",
    "plt.figure(figsize=(10,5))\n",
    "plt.subplot(1,2,1)\n",
    "sns.boxplot(x='day', y='tip', data=tips)\n",
    "plt.ylabel('tip ($)')\n",
    "\n",
    "plt.subplot(1,2,2)\n",
    "sns.violinplot(x='day', y='tip', data=tips)\n",
    "plt.ylabel('tip ($)')\n",
    "\n",
    "plt.show()"
   ]
  },
  {
   "cell_type": "code",
   "execution_count": null,
   "metadata": {
    "colab": {
     "base_uri": "https://localhost:8080/",
     "height": 371
    },
    "executionInfo": {
     "elapsed": 846,
     "status": "ok",
     "timestamp": 1669091039367,
     "user": {
      "displayName": "ANANYA GHOSH",
      "userId": "07636421272032694955"
     },
     "user_tz": -330
    },
    "id": "G6g9dEhtnZ50",
    "outputId": "2e564c2a-b306-4433-9296-983256b72922"
   },
   "outputs": [],
   "source": [
    "sns.swarmplot(x='day', y='tip', data=tips, hue='sex')\n",
    "plt.ylabel('tip ($)');"
   ]
  },
  {
   "cell_type": "code",
   "execution_count": null,
   "metadata": {
    "colab": {
     "base_uri": "https://localhost:8080/",
     "height": 269
    },
    "executionInfo": {
     "elapsed": 1212,
     "status": "ok",
     "timestamp": 1669091201818,
     "user": {
      "displayName": "ANANYA GHOSH",
      "userId": "07636421272032694955"
     },
     "user_tz": -330
    },
    "id": "KLgxMYZkBkqs",
    "outputId": "e6d44ad1-8e2e-4c47-96a3-23cd2fbb35b6"
   },
   "outputs": [],
   "source": [
    "#fig,ax=plt.subplots(nrows=2,ncols=2)"
   ]
  },
  {
   "cell_type": "code",
   "execution_count": null,
   "metadata": {
    "colab": {
     "base_uri": "https://localhost:8080/",
     "height": 279
    },
    "executionInfo": {
     "elapsed": 1359,
     "status": "ok",
     "timestamp": 1669091027527,
     "user": {
      "displayName": "ANANYA GHOSH",
      "userId": "07636421272032694955"
     },
     "user_tz": -330
    },
    "id": "59nZsoX2nZ5v",
    "outputId": "1b72b8d6-82a8-4156-bd3b-bae090d7e9fa"
   },
   "outputs": [],
   "source": [
    "sns.stripplot(x='day', y='tip', data=tips, size=4,jitter=False)\n",
    "plt.ylabel('tip ($)');"
   ]
  },
  {
   "cell_type": "code",
   "execution_count": null,
   "metadata": {
    "colab": {
     "base_uri": "https://localhost:8080/",
     "height": 279
    },
    "executionInfo": {
     "elapsed": 597,
     "status": "ok",
     "timestamp": 1669091374672,
     "user": {
      "displayName": "ANANYA GHOSH",
      "userId": "07636421272032694955"
     },
     "user_tz": -330
    },
    "id": "NIvIm3o2nZ5-",
    "outputId": "e84d56ce-f1bd-4d15-b51a-8c31b91a06c4"
   },
   "outputs": [],
   "source": [
    "##Combining plots\n",
    "\n",
    "sns.violinplot(x='day', y='tip', data=tips, color='lightgray')\n",
    "sns.stripplot(x='day', y='tip', data=tips, size=4,jitter=True)\n",
    "plt.ylabel('tip ($)')\n",
    "plt.show()"
   ]
  },
  {
   "cell_type": "markdown",
   "metadata": {
    "id": "eotqlD1onZ6C"
   },
   "source": [
    "## Bivariate → “two variables” data visualization"
   ]
  },
  {
   "cell_type": "code",
   "execution_count": null,
   "metadata": {},
   "outputs": [],
   "source": [
    "sns.regplot(x='total_bill',y='tip',fit_reg=False,data= tips);"
   ]
  },
  {
   "cell_type": "code",
   "execution_count": null,
   "metadata": {
    "colab": {
     "base_uri": "https://localhost:8080/",
     "height": 550
    },
    "executionInfo": {
     "elapsed": 4162,
     "status": "ok",
     "timestamp": 1669091412248,
     "user": {
      "displayName": "ANANYA GHOSH",
      "userId": "07636421272032694955"
     },
     "user_tz": -330
    },
    "id": "GeCxIRyBnZ6J",
    "outputId": "5b9fc578-8118-4b35-d617-cb242ec61db7"
   },
   "outputs": [],
   "source": [
    "#Pair plot\n",
    "sns.pairplot(tips)\n",
    "plt.show()"
   ]
  },
  {
   "cell_type": "code",
   "execution_count": null,
   "metadata": {
    "colab": {
     "base_uri": "https://localhost:8080/",
     "height": 441
    },
    "executionInfo": {
     "elapsed": 1163,
     "status": "ok",
     "timestamp": 1669091383552,
     "user": {
      "displayName": "ANANYA GHOSH",
      "userId": "07636421272032694955"
     },
     "user_tz": -330
    },
    "id": "5vMcvzBxnZ6C",
    "outputId": "3fe54bea-5e3d-429f-e975-902cd2a214df"
   },
   "outputs": [],
   "source": [
    "#Joint plot\n",
    "\n",
    "sns.jointplot(x= 'total_bill', y= 'tip', data=tips)\n",
    "plt.show()"
   ]
  },
  {
   "cell_type": "code",
   "execution_count": null,
   "metadata": {
    "colab": {
     "base_uri": "https://localhost:8080/",
     "height": 280
    },
    "executionInfo": {
     "elapsed": 1097,
     "status": "ok",
     "timestamp": 1669091400371,
     "user": {
      "displayName": "ANANYA GHOSH",
      "userId": "07636421272032694955"
     },
     "user_tz": -330
    },
    "id": "h8E-7R65jF2_",
    "outputId": "25a952e1-c43c-4061-eb05-2ce9dcd971d1"
   },
   "outputs": [],
   "source": [
    "pd.plotting.scatter_matrix(tips)\n",
    "plt.show()"
   ]
  },
  {
   "cell_type": "markdown",
   "metadata": {
    "id": "Vq_D038GnZ6W"
   },
   "source": [
    "# Titanic data visualization"
   ]
  },
  {
   "cell_type": "code",
   "execution_count": null,
   "metadata": {
    "_uuid": "6785d87b77ba61ff565188b5dc3ff1018d21afdd",
    "id": "FSUht7uinZ6W"
   },
   "outputs": [],
   "source": [
    "import numpy as np\n",
    "import pandas as pd\n",
    "import matplotlib.pyplot as plt\n",
    "import seaborn as sns\n",
    "%matplotlib inline\n",
    "\n",
    "import warnings\n",
    "warnings.filterwarnings(\"ignore\")\n",
    "\n"
   ]
  },
  {
   "cell_type": "markdown",
   "metadata": {
    "_uuid": "f1be92a3a9aa56e98c310aa603a954e87a97b0bc",
    "id": "rMTdpD_rnZ6a"
   },
   "source": [
    "### Loading dataset"
   ]
  },
  {
   "cell_type": "code",
   "execution_count": null,
   "metadata": {
    "_uuid": "6f7691827054359855b6801206e884f7dd1a0b34",
    "colab": {
     "base_uri": "https://localhost:8080/",
     "height": 411
    },
    "executionInfo": {
     "elapsed": 14024,
     "status": "ok",
     "timestamp": 1669860113344,
     "user": {
      "displayName": "ANANYA GHOSH",
      "userId": "07636421272032694955"
     },
     "user_tz": -330
    },
    "id": "k6LP9bQAnZ6a",
    "outputId": "802001ff-c4a4-45e5-81fa-85c6bf036c72"
   },
   "outputs": [],
   "source": [
    "data = pd.read_csv(\"https://raw.githubusercontent.com/mchandak/DS_Repo10/main/Ttrain.csv\")\n",
    "data.head()"
   ]
  },
  {
   "cell_type": "markdown",
   "metadata": {
    "id": "Q4Q77V2CnZ6d"
   },
   "source": [
    "\n",
    "#survival - Survival (0 = No; 1 = Yes)\n",
    "class - Passenger Class (1 = 1st; 2 = 2nd; 3 = 3rd)\n",
    "name - Name\n",
    "sex - Sex\n",
    "age - Age\n",
    "sibsp - Number of Siblings/Spouses Aboard\n",
    "parch - Number of Parents/Children Aboard\n",
    "ticket - Ticket Number\n",
    "fare - Passenger Fare\n",
    "cabin - Cabin\n",
    "embarked - Port of Embarkation (C = Cherbourg; Q = Queenstown; S = Southampton)"
   ]
  },
  {
   "cell_type": "markdown",
   "metadata": {
    "_uuid": "3abc8af913a55dac3549fca3162613ebf7a34954",
    "id": "WRqd85_snZ6d"
   },
   "source": [
    "### Data types"
   ]
  },
  {
   "cell_type": "code",
   "execution_count": null,
   "metadata": {
    "_uuid": "9db84b957e1d5ce4d9113eea6fb854021486edb1",
    "colab": {
     "base_uri": "https://localhost:8080/"
    },
    "executionInfo": {
     "elapsed": 364,
     "status": "ok",
     "timestamp": 1669860121714,
     "user": {
      "displayName": "ANANYA GHOSH",
      "userId": "07636421272032694955"
     },
     "user_tz": -330
    },
    "id": "2cnKVMyBnZ6d",
    "outputId": "1e731f02-4253-4632-f8d4-b79b87514100"
   },
   "outputs": [],
   "source": [
    "data.dtypes"
   ]
  },
  {
   "cell_type": "markdown",
   "metadata": {
    "_uuid": "83e5bb463ae71370cc8ea8eb90c9ea41012b9887",
    "id": "_WVg9ZewnZ6h"
   },
   "source": [
    "### Proportion of target (Survived)"
   ]
  },
  {
   "cell_type": "code",
   "execution_count": null,
   "metadata": {
    "_uuid": "575291c275e3a14c7a511125d8878b2de0ee5fe0",
    "colab": {
     "base_uri": "https://localhost:8080/"
    },
    "executionInfo": {
     "elapsed": 341,
     "status": "ok",
     "timestamp": 1669860128727,
     "user": {
      "displayName": "ANANYA GHOSH",
      "userId": "07636421272032694955"
     },
     "user_tz": -330
    },
    "id": "vaVuFgnDnZ6h",
    "outputId": "d74227d5-ca61-40fa-e5a1-186cdc3d8566"
   },
   "outputs": [],
   "source": [
    "data.groupby('Survived')['PassengerId'].count()"
   ]
  },
  {
   "cell_type": "markdown",
   "metadata": {
    "_uuid": "caddeddbf8403ef11f872621ed80c536bcb6c78a",
    "id": "NoV7ltEonZ6k"
   },
   "source": [
    "### Visual Exploration"
   ]
  },
  {
   "cell_type": "code",
   "execution_count": null,
   "metadata": {
    "_uuid": "5692bc4d0a3c324588a4ade61e77c22957bb89fe",
    "id": "knNdLJFDnZ6k"
   },
   "outputs": [],
   "source": [
    "# f, ax = plt.subplots(figsize=(11,5))\n",
    "plt.figure(figsize=(10,5))\n",
    "sns.boxplot(x='Survived', y=\"Age\",  data=data);"
   ]
  },
  {
   "cell_type": "code",
   "execution_count": null,
   "metadata": {
    "_uuid": "72a1723fcbb75647f62d3af01e15037cfd3b6387",
    "id": "gS1h-98anZ6o"
   },
   "outputs": [],
   "source": [
    "# f, ax = plt.subplots(figsize=(10,8))\n",
    "plt.figure(figsize=(10,8))\n",
    "sns.barplot(x='Sex', y=\"Survived\",  data=data);"
   ]
  },
  {
   "cell_type": "code",
   "execution_count": null,
   "metadata": {
    "_uuid": "b60b9de0f951faf43a4ca3efb5f843e687f169ff",
    "id": "ENLO8hInnZ6s"
   },
   "outputs": [],
   "source": [
    "# f, ax = plt.subplots(figsize=(11,5))\n",
    "plt.figure(figsize=(11,5))\n",
    "sns.boxplot(x=\"Sex\", y=\"Age\", hue=\"Survived\", data=data);"
   ]
  },
  {
   "cell_type": "code",
   "execution_count": null,
   "metadata": {
    "_uuid": "b90d13e9e013e5eb6e75c68f7a9b42695cfe1014",
    "id": "fZBniDtVnZ6v"
   },
   "outputs": [],
   "source": [
    "sns.barplot(x=\"Pclass\", y=\"Survived\", data=data);"
   ]
  },
  {
   "cell_type": "code",
   "execution_count": null,
   "metadata": {
    "_uuid": "31241c7cec7d98bb2c0f46dba0546f4574e0f409",
    "id": "Ha8S0yRmnZ6x"
   },
   "outputs": [],
   "source": [
    "sns.barplot(x=\"Pclass\", y=\"Survived\",hue=\"Sex\", data=data);"
   ]
  },
  {
   "cell_type": "code",
   "execution_count": null,
   "metadata": {
    "_uuid": "77f976d69f39ccc4c9ae48fc5cb05b37eb360143",
    "id": "1obKiMi1nZ60"
   },
   "outputs": [],
   "source": [
    "sns.barplot(x=\"SibSp\", y=\"Survived\", data=data);"
   ]
  },
  {
   "cell_type": "code",
   "execution_count": null,
   "metadata": {
    "_uuid": "c525f8f35729055e759365c278f00c62ee3bae69",
    "id": "uHDFzlftnZ64"
   },
   "outputs": [],
   "source": [
    "sns.barplot(x=\"Parch\", y=\"Survived\", data=data);"
   ]
  },
  {
   "cell_type": "code",
   "execution_count": null,
   "metadata": {
    "_uuid": "891e6dc073cdc89f292d00acabd57bc3c71c4a34",
    "id": "t7uaLYVLnZ6-"
   },
   "outputs": [],
   "source": [
    "survived = data.loc[data['Survived']==1,\"Age\"].dropna()\n",
    "sns.displot(survived)\n",
    "plt.title(\"Survived\");"
   ]
  },
  {
   "cell_type": "code",
   "execution_count": null,
   "metadata": {
    "_uuid": "d8e6cb4fd3dd829b60fd1ece0e447557e16a5ef6",
    "id": "iGuMwxQvnZ7A"
   },
   "outputs": [],
   "source": [
    "not_survived = data.loc[data['Survived']==0,\"Age\"].dropna()\n",
    "sns.displot(not_survived)\n",
    "plt.title(\"Not Survived\");"
   ]
  },
  {
   "cell_type": "code",
   "execution_count": null,
   "metadata": {},
   "outputs": [],
   "source": [
    "not_survived = data.loc[data['Survived']==0,\"Age\"].dropna()\n",
    "sns.displot(not_survived, kind='kde')\n",
    "plt.title(\"Not Survived\");"
   ]
  },
  {
   "cell_type": "code",
   "execution_count": null,
   "metadata": {
    "_uuid": "2ce74e90143466e7605639121e0deb18b272bad9",
    "id": "4EI5WN0wnZ7D"
   },
   "outputs": [],
   "source": [
    "sns.pairplot(data);"
   ]
  },
  {
   "cell_type": "code",
   "execution_count": null,
   "metadata": {
    "id": "aDhXA4gsnZ7F"
   },
   "outputs": [],
   "source": [
    "# Pclass vs Survive\n",
    "grid = sns.FacetGrid(data, col='Survived', row='Pclass',  aspect=1.5)\n",
    "grid.map(plt.hist, 'Age', alpha=.5, bins=20)\n",
    "grid.add_legend();"
   ]
  },
  {
   "cell_type": "code",
   "execution_count": null,
   "metadata": {
    "id": "mzPbOcW7nZ7T",
    "scrolled": true
   },
   "outputs": [],
   "source": [
    "figbi, axesbi = plt.subplots(2, 4, figsize=(18, 10))\n",
    "data.groupby('Pclass')['Survived'].mean().plot(kind='barh',ax=axesbi[0,0],xlim=[0,1])\n",
    "data.groupby('SibSp')['Survived'].mean().plot(kind='barh',ax=axesbi[0,1],xlim=[0,1])\n",
    "data.groupby('Parch')['Survived'].mean().plot(kind='barh',ax=axesbi[0,2],xlim=[0,1])\n",
    "data.groupby('Sex')['Survived'].mean().plot(kind='barh',ax=axesbi[0,3],xlim=[0,1])\n",
    "data.groupby('Embarked')['Survived'].mean().plot(kind='barh',ax=axesbi[1,0],xlim=[0,1])\n",
    "sns.boxplot(x=\"Survived\", y=\"Age\", data=data,ax=axesbi[1,1])\n",
    "sns.boxplot(x=\"Survived\", y=\"Fare\", data=data,ax=axesbi[1,2])\n",
    "plt.show()"
   ]
  },
  {
   "cell_type": "code",
   "execution_count": null,
   "metadata": {},
   "outputs": [],
   "source": []
  }
 ],
 "metadata": {
  "colab": {
   "collapsed_sections": [
    "cBaipI82nZ5c"
   ],
   "provenance": []
  },
  "kernelspec": {
   "display_name": "Python 3 (ipykernel)",
   "language": "python",
   "name": "python3"
  },
  "language_info": {
   "codemirror_mode": {
    "name": "ipython",
    "version": 3
   },
   "file_extension": ".py",
   "mimetype": "text/x-python",
   "name": "python",
   "nbconvert_exporter": "python",
   "pygments_lexer": "ipython3",
   "version": "3.10.9"
  }
 },
 "nbformat": 4,
 "nbformat_minor": 1
}
