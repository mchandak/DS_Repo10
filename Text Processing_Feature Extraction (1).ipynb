{
 "cells": [
  {
   "cell_type": "code",
   "execution_count": null,
   "metadata": {
    "id": "cmGly4TloaGi"
   },
   "outputs": [],
   "source": [
    "#!pip install spacy\n",
    "#!python -m spacy download en\n",
    "#!pip install nltk\n",
    "#!pip install wordcloud\n",
    "\n",
    "import warnings\n",
    "warnings.filterwarnings('ignore')\n",
    "\n",
    "\n",
    "# # !python -m spacy download en_core_web_md"
   ]
  },
  {
   "cell_type": "code",
   "execution_count": null,
   "metadata": {
    "colab": {
     "base_uri": "https://localhost:8080/"
    },
    "executionInfo": {
     "elapsed": 7987,
     "status": "ok",
     "timestamp": 1676787353167,
     "user": {
      "displayName": "Srijit Panja",
      "userId": "08280687544370309018"
     },
     "user_tz": -330
    },
    "id": "7Qdil9XcoaGg",
    "outputId": "ac9f1a1a-7613-4ee6-9157-15e7218be38a"
   },
   "outputs": [],
   "source": [
    "import numpy as np # linear algebra\n",
    "import pandas as pd # data processing, CSV file I/O (e.g. pd.read_csv)\n",
    "import string # special operations on strings\n",
    "import spacy # language models\n",
    "\n",
    "from matplotlib.pyplot import imread\n",
    "from matplotlib import pyplot as plt\n",
    "from wordcloud import WordCloud\n",
    "%matplotlib inline"
   ]
  },
  {
   "cell_type": "code",
   "execution_count": null,
   "metadata": {
    "colab": {
     "base_uri": "https://localhost:8080/"
    },
    "executionInfo": {
     "elapsed": 59,
     "status": "ok",
     "timestamp": 1668574656072,
     "user": {
      "displayName": "Salem Sameer Shaikh",
      "userId": "05291575250389740253"
     },
     "user_tz": -330
    },
    "id": "_B5-gPwCoaGj",
    "outputId": "0147b8db-3c67-4775-f9e6-81cfa12fb97e"
   },
   "outputs": [],
   "source": [
    "#import pandas\n",
    "book=pd.read_csv(\"https://raw.githubusercontent.com/mchandak/DS_Repo10/main/apple.txt\",on_bad_lines ='skip')"
   ]
  },
  {
   "cell_type": "code",
   "execution_count": null,
   "metadata": {
    "colab": {
     "base_uri": "https://localhost:8080/",
     "height": 1000
    },
    "executionInfo": {
     "elapsed": 58,
     "status": "ok",
     "timestamp": 1668574656074,
     "user": {
      "displayName": "Salem Sameer Shaikh",
      "userId": "05291575250389740253"
     },
     "user_tz": -330
    },
    "id": "h_1JEZ32oaGj",
    "outputId": "2673b220-deb4-4aef-ca85-85110924eeba"
   },
   "outputs": [],
   "source": [
    "book.head()"
   ]
  },
  {
   "cell_type": "code",
   "execution_count": null,
   "metadata": {},
   "outputs": [],
   "source": [
    "book.info()"
   ]
  },
  {
   "cell_type": "code",
   "execution_count": null,
   "metadata": {
    "colab": {
     "base_uri": "https://localhost:8080/",
     "height": 35
    },
    "executionInfo": {
     "elapsed": 15,
     "status": "ok",
     "timestamp": 1676788433943,
     "user": {
      "displayName": "Srijit Panja",
      "userId": "08280687544370309018"
     },
     "user_tz": -330
    },
    "id": "OCxwUpFWYJqk",
    "outputId": "5a642bec-3762-4a46-ab12-3d0e9ed80ace"
   },
   "outputs": [],
   "source": [
    "f = '     hi     '\n",
    "f = f.strip()\n",
    "f"
   ]
  },
  {
   "cell_type": "code",
   "execution_count": null,
   "metadata": {
    "colab": {
     "base_uri": "https://localhost:8080/"
    },
    "executionInfo": {
     "elapsed": 57,
     "status": "ok",
     "timestamp": 1668574656075,
     "user": {
      "displayName": "Salem Sameer Shaikh",
      "userId": "05291575250389740253"
     },
     "user_tz": -330
    },
    "id": "MTsctAppoaGk",
    "outputId": "746052d7-394d-4042-ac06-9b560008b582"
   },
   "outputs": [],
   "source": [
    "book1 = [x.strip() for x in book.x] # remove both the leading and the trailing characters\n",
    "book2 = [x for x in book1 if x] # removes empty strings, because they are considered in Python as False\n",
    "book2[0:5]"
   ]
  },
  {
   "cell_type": "code",
   "execution_count": null,
   "metadata": {
    "colab": {
     "base_uri": "https://localhost:8080/",
     "height": 179
    },
    "executionInfo": {
     "elapsed": 51,
     "status": "ok",
     "timestamp": 1668574656081,
     "user": {
      "displayName": "Salem Sameer Shaikh",
      "userId": "05291575250389740253"
     },
     "user_tz": -330
    },
    "id": "SaNVncnzoaGk",
    "outputId": "76aad34f-a6d3-4a89-e0ab-3e054f2d8eff"
   },
   "outputs": [],
   "source": [
    "# Joining the list into one string/text\n",
    "text = ' '.join(book2)\n",
    "text"
   ]
  },
  {
   "cell_type": "code",
   "execution_count": null,
   "metadata": {},
   "outputs": [],
   "source": [
    "print(len(book2))\n",
    "print(len(text))"
   ]
  },
  {
   "cell_type": "code",
   "execution_count": null,
   "metadata": {
    "colab": {
     "base_uri": "https://localhost:8080/",
     "height": 35
    },
    "executionInfo": {
     "elapsed": 11,
     "status": "ok",
     "timestamp": 1676789409979,
     "user": {
      "displayName": "Srijit Panja",
      "userId": "08280687544370309018"
     },
     "user_tz": -330
    },
    "id": "yqcUjc3RbiKR",
    "outputId": "4bfe32d9-6ed0-44ea-aa3c-eebf3c3331ae"
   },
   "outputs": [],
   "source": [
    "t = 'ki!#s2q%'\n",
    "to_remove = ['!', '#', '%']\n",
    "for each in to_remove:\n",
    "  t = t.replace(each, '')\n",
    "\n",
    "t"
   ]
  },
  {
   "cell_type": "code",
   "execution_count": null,
   "metadata": {
    "colab": {
     "base_uri": "https://localhost:8080/",
     "height": 179
    },
    "executionInfo": {
     "elapsed": 51,
     "status": "ok",
     "timestamp": 1668574656083,
     "user": {
      "displayName": "Salem Sameer Shaikh",
      "userId": "05291575250389740253"
     },
     "user_tz": -330
    },
    "id": "iPCYQ3B4oaGl",
    "outputId": "5d88c519-2901-48ba-e4ce-59fcc5e36e33"
   },
   "outputs": [],
   "source": [
    "#Punctuation\n",
    "no_punc_text = text.translate(str.maketrans('', '', string.punctuation)) #with arguments (x, y, z) where 'x' and 'y'\n",
    "# must be equal-length strings and characters in 'x' are replaced by characters in 'y'. \n",
    "# 'z' is a string needs to be deleted.(string.punctuation here)\n",
    "no_punc_text"
   ]
  },
  {
   "cell_type": "code",
   "execution_count": null,
   "metadata": {
    "colab": {
     "base_uri": "https://localhost:8080/"
    },
    "executionInfo": {
     "elapsed": 52,
     "status": "ok",
     "timestamp": 1668574656085,
     "user": {
      "displayName": "Salem Sameer Shaikh",
      "userId": "05291575250389740253"
     },
     "user_tz": -330
    },
    "id": "7ODYZ5yr2zMt",
    "outputId": "2a6cc903-05f3-440c-a7b0-775f63deb785"
   },
   "outputs": [],
   "source": [
    "import nltk\n",
    "nltk.download('punkt')\n",
    "nltk.download('stopwords')"
   ]
  },
  {
   "cell_type": "code",
   "execution_count": null,
   "metadata": {
    "colab": {
     "base_uri": "https://localhost:8080/"
    },
    "executionInfo": {
     "elapsed": 41,
     "status": "ok",
     "timestamp": 1668574656086,
     "user": {
      "displayName": "Salem Sameer Shaikh",
      "userId": "05291575250389740253"
     },
     "user_tz": -330
    },
    "id": "AcLe_eQ7oaGl",
    "outputId": "d962a3aa-d715-47a2-f52f-20e08997ec23"
   },
   "outputs": [],
   "source": [
    "#Tokenization\n",
    "import nltk\n",
    "from nltk.tokenize import word_tokenize\n",
    "text_tokens = word_tokenize(no_punc_text)\n",
    "print(text_tokens[0:40])"
   ]
  },
  {
   "cell_type": "code",
   "execution_count": null,
   "metadata": {
    "colab": {
     "base_uri": "https://localhost:8080/"
    },
    "executionInfo": {
     "elapsed": 40,
     "status": "ok",
     "timestamp": 1668574656088,
     "user": {
      "displayName": "Salem Sameer Shaikh",
      "userId": "05291575250389740253"
     },
     "user_tz": -330
    },
    "id": "3p_kmh6coaGm",
    "outputId": "67e8ee81-1728-483a-a9cf-30ff9bdd271f"
   },
   "outputs": [],
   "source": [
    "#Remove stopwords\n",
    "import nltk\n",
    "from nltk.corpus import stopwords\n",
    "my_stop_words = stopwords.words('english')\n",
    "my_stop_words.append('the')\n",
    "my_stop_words.append('Its')\n",
    "\n",
    "no_stop_tokens = [word for word in text_tokens if not word in my_stop_words]\n",
    "print(no_stop_tokens[0:25])"
   ]
  },
  {
   "cell_type": "code",
   "execution_count": null,
   "metadata": {
    "colab": {
     "base_uri": "https://localhost:8080/"
    },
    "executionInfo": {
     "elapsed": 38,
     "status": "ok",
     "timestamp": 1668574656088,
     "user": {
      "displayName": "Salem Sameer Shaikh",
      "userId": "05291575250389740253"
     },
     "user_tz": -330
    },
    "id": "HwjJ4RW0oaGm",
    "outputId": "a6d007e5-29f9-4b67-8757-280f70dea312"
   },
   "outputs": [],
   "source": [
    "#Lowercase the data\n",
    "lower_words = [x.lower() for x in no_stop_tokens]\n",
    "print(lower_words[0:25])"
   ]
  },
  {
   "cell_type": "code",
   "execution_count": null,
   "metadata": {
    "colab": {
     "base_uri": "https://localhost:8080/"
    },
    "executionInfo": {
     "elapsed": 37,
     "status": "ok",
     "timestamp": 1668574656089,
     "user": {
      "displayName": "Salem Sameer Shaikh",
      "userId": "05291575250389740253"
     },
     "user_tz": -330
    },
    "id": "97uS3VhPoaGm",
    "outputId": "484555f9-f634-476a-e00d-7022120e4d31"
   },
   "outputs": [],
   "source": [
    "#Stemming\n",
    "from nltk.stem import PorterStemmer\n",
    "ps = PorterStemmer()\n",
    "stemmed_tokens = [ps.stem(word) for word in lower_words]\n",
    "print(stemmed_tokens[0:10])"
   ]
  },
  {
   "cell_type": "code",
   "execution_count": null,
   "metadata": {
    "colab": {
     "base_uri": "https://localhost:8080/"
    },
    "executionInfo": {
     "elapsed": 10682,
     "status": "ok",
     "timestamp": 1668574670996,
     "user": {
      "displayName": "Salem Sameer Shaikh",
      "userId": "05291575250389740253"
     },
     "user_tz": -330
    },
    "id": "pW-HRC-FoaGn",
    "outputId": "42b004de-8950-4ee9-e756-3d96268f7e89"
   },
   "outputs": [],
   "source": [
    "     "
   ]
  },
  {
   "cell_type": "code",
   "execution_count": null,
   "metadata": {
    "id": "D60eioKfoaGn"
   },
   "outputs": [],
   "source": [
    "# NLP english language model of spacy library\n",
    "nlp = spacy.load('en_core_web_sm') "
   ]
  },
  {
   "cell_type": "code",
   "execution_count": null,
   "metadata": {
    "colab": {
     "base_uri": "https://localhost:8080/"
    },
    "executionInfo": {
     "elapsed": 1516,
     "status": "ok",
     "timestamp": 1668574674198,
     "user": {
      "displayName": "Salem Sameer Shaikh",
      "userId": "05291575250389740253"
     },
     "user_tz": -330
    },
    "id": "74t_Uoy9oaGn",
    "outputId": "7b2e56b0-cadc-4088-d402-7a643d018c68"
   },
   "outputs": [],
   "source": [
    "# lemmas being one of them, but mostly POS, which will follow later\n",
    "doc = nlp(' '.join(lower_words))\n",
    "print(doc[0:40])"
   ]
  },
  {
   "cell_type": "code",
   "execution_count": null,
   "metadata": {
    "colab": {
     "base_uri": "https://localhost:8080/"
    },
    "executionInfo": {
     "elapsed": 55,
     "status": "ok",
     "timestamp": 1668574674199,
     "user": {
      "displayName": "Salem Sameer Shaikh",
      "userId": "05291575250389740253"
     },
     "user_tz": -330
    },
    "id": "eCiDqiywoaGo",
    "outputId": "eac0caab-e068-44f3-c2f9-5d932af71443"
   },
   "outputs": [],
   "source": [
    "lemmas = [token.lemma_ for token in doc]\n",
    "print(lemmas[0:25])"
   ]
  },
  {
   "cell_type": "markdown",
   "metadata": {
    "id": "FpEXQTBDoaGo"
   },
   "source": [
    "#### Feature Extraction"
   ]
  },
  {
   "cell_type": "code",
   "execution_count": null,
   "metadata": {
    "id": "3Din83FEoaGo"
   },
   "outputs": [],
   "source": [
    "from sklearn.feature_extraction.text import CountVectorizer\n",
    "vectorizer = CountVectorizer(max_df=.6, min_df=2, max_features=100)\n",
    "X = vectorizer.fit_transform(lemmas)"
   ]
  },
  {
   "cell_type": "code",
   "execution_count": null,
   "metadata": {},
   "outputs": [],
   "source": [
    "#vectorizer.vocabulary_.keys()"
   ]
  },
  {
   "cell_type": "code",
   "execution_count": null,
   "metadata": {
    "colab": {
     "base_uri": "https://localhost:8080/"
    },
    "executionInfo": {
     "elapsed": 47,
     "status": "ok",
     "timestamp": 1668574674202,
     "user": {
      "displayName": "Salem Sameer Shaikh",
      "userId": "05291575250389740253"
     },
     "user_tz": -330
    },
    "id": "9fn5ausMoaGp",
    "outputId": "c59ce14d-2279-467c-edaf-5ec22bc663fc"
   },
   "outputs": [],
   "source": [
    "#vectorizer.vocabulary_"
   ]
  },
  {
   "cell_type": "code",
   "execution_count": null,
   "metadata": {
    "colab": {
     "base_uri": "https://localhost:8080/"
    },
    "executionInfo": {
     "elapsed": 32,
     "status": "ok",
     "timestamp": 1668574674202,
     "user": {
      "displayName": "Salem Sameer Shaikh",
      "userId": "05291575250389740253"
     },
     "user_tz": -330
    },
    "id": "gM5E_g1IoaGp",
    "outputId": "54f56152-2c51-4d3c-a4f5-7d87e84efcca",
    "scrolled": true
   },
   "outputs": [],
   "source": [
    "print(vectorizer.get_feature_names_out())\n",
    "print(X.toarray())\n"
   ]
  },
  {
   "cell_type": "code",
   "execution_count": null,
   "metadata": {},
   "outputs": [],
   "source": [
    "cv_df = pd.DataFrame(X.toarray(),columns=list(vectorizer.get_feature_names_out()))\n",
    "cv_df"
   ]
  },
  {
   "cell_type": "markdown",
   "metadata": {
    "id": "vcqHsFNzoaGq"
   },
   "source": [
    "#### Let's see how can bigrams and trigrams can be included here"
   ]
  },
  {
   "cell_type": "code",
   "execution_count": null,
   "metadata": {
    "id": "gIj2YCwhoaGq"
   },
   "outputs": [],
   "source": [
    "vectorizer_ngram_range = CountVectorizer(analyzer='word',ngram_range=(2,3),max_features = 100)\n",
    "bow_matrix_ngram =vectorizer_ngram_range.fit_transform(book2)"
   ]
  },
  {
   "cell_type": "code",
   "execution_count": null,
   "metadata": {
    "colab": {
     "base_uri": "https://localhost:8080/"
    },
    "executionInfo": {
     "elapsed": 24,
     "status": "ok",
     "timestamp": 1668574674204,
     "user": {
      "displayName": "Salem Sameer Shaikh",
      "userId": "05291575250389740253"
     },
     "user_tz": -330
    },
    "id": "IAAN7_tbXZDe",
    "outputId": "b131cb4f-8343-4731-ade9-c561d2b12ce9"
   },
   "outputs": [],
   "source": [
    "bow_matrix_ngram"
   ]
  },
  {
   "cell_type": "code",
   "execution_count": null,
   "metadata": {
    "colab": {
     "base_uri": "https://localhost:8080/"
    },
    "executionInfo": {
     "elapsed": 22,
     "status": "ok",
     "timestamp": 1668574674204,
     "user": {
      "displayName": "Salem Sameer Shaikh",
      "userId": "05291575250389740253"
     },
     "user_tz": -330
    },
    "id": "k0XciMIToaGq",
    "outputId": "2888020d-6e0f-4ecc-97f0-0ca3ae52a122"
   },
   "outputs": [],
   "source": [
    "print(vectorizer_ngram_range.get_feature_names_out())\n",
    "print(bow_matrix_ngram.toarray())"
   ]
  },
  {
   "cell_type": "markdown",
   "metadata": {
    "id": "Fhjctb3IoaGq"
   },
   "source": [
    "#### TFidf vectorizer"
   ]
  },
  {
   "cell_type": "code",
   "execution_count": null,
   "metadata": {
    "id": "gXJXJJLeoaGq"
   },
   "outputs": [],
   "source": [
    "from sklearn.feature_extraction.text import TfidfVectorizer\n",
    "vectorizer_n_gram_max_features = TfidfVectorizer(ngram_range=(1,2), max_features = 20)\n",
    "tf_idf_matrix_n_gram_max_features = vectorizer_n_gram_max_features.fit_transform(lemmas)\n",
    "print(vectorizer_n_gram_max_features.get_feature_names_out())\n",
    "print(tf_idf_matrix_n_gram_max_features.toarray())"
   ]
  },
  {
   "cell_type": "code",
   "execution_count": null,
   "metadata": {},
   "outputs": [],
   "source": [
    "from sklearn.feature_extraction.text import TfidfVectorizer\n",
    "vectorizer1 = TfidfVectorizer(max_df=.6, min_df=2, max_features=20)\n",
    "X = vectorizer1.fit_transform(lemmas)"
   ]
  },
  {
   "cell_type": "code",
   "execution_count": null,
   "metadata": {},
   "outputs": [],
   "source": [
    "tf_df = pd.DataFrame(X.toarray(),columns=list(vectorizer1.get_feature_names_out()))\n",
    "tf_df"
   ]
  },
  {
   "cell_type": "markdown",
   "metadata": {
    "id": "xqP5chuAoaGr"
   },
   "source": [
    "####  Generate wordcloud"
   ]
  },
  {
   "cell_type": "code",
   "execution_count": null,
   "metadata": {
    "id": "pox2Yk3woaGr"
   },
   "outputs": [],
   "source": [
    "# Import packages\n",
    "import matplotlib.pyplot as plt\n",
    "%matplotlib inline\n",
    "from wordcloud import WordCloud, STOPWORDS\n",
    "\n",
    "# Define a function to plot word cloud\n",
    "def plot_cloud(wordcloud):\n",
    "    # Set figure size\n",
    "    plt.figure(figsize=(40, 30))\n",
    "    # Display image\n",
    "    plt.imshow(wordcloud) \n",
    "    # No axis details\n",
    "    plt.axis(\"off\");"
   ]
  },
  {
   "cell_type": "code",
   "execution_count": null,
   "metadata": {
    "colab": {
     "background_save": true
    },
    "id": "7UmyK9YWoaGr",
    "outputId": "c470788f-0a79-4cf8-bba9-644066206197"
   },
   "outputs": [],
   "source": [
    "# Generate wordcloud\n",
    "stopwords = STOPWORDS\n",
    "stopwords.add('will')\n",
    "stopwords.add('apple')\n",
    "stopwords.add('Amazon')\n",
    "stopwords.add('laptop')\n",
    "\n",
    "wordcloud = WordCloud(width = 3000, height = 2000, background_color='black', max_words=100,colormap='Set2',stopwords=stopwords).generate(text)\n",
    "# Plot\n",
    "plot_cloud(wordcloud)"
   ]
  },
  {
   "cell_type": "code",
   "execution_count": null,
   "metadata": {
    "colab": {
     "background_save": true
    },
    "id": "_fBSWWYzoaGs"
   },
   "outputs": [],
   "source": [
    "# Save image\n",
    "wordcloud.to_file(\"wordcloud.png\")"
   ]
  },
  {
   "cell_type": "code",
   "execution_count": null,
   "metadata": {},
   "outputs": [],
   "source": []
  }
 ],
 "metadata": {
  "colab": {
   "provenance": []
  },
  "kernelspec": {
   "display_name": "Python 3 (ipykernel)",
   "language": "python",
   "name": "python3"
  },
  "language_info": {
   "codemirror_mode": {
    "name": "ipython",
    "version": 3
   },
   "file_extension": ".py",
   "mimetype": "text/x-python",
   "name": "python",
   "nbconvert_exporter": "python",
   "pygments_lexer": "ipython3",
   "version": "3.10.9"
  }
 },
 "nbformat": 4,
 "nbformat_minor": 1
}
