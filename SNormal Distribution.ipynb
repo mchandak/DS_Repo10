{
 "cells": [
  {
   "cell_type": "code",
   "execution_count": null,
   "metadata": {
    "executionInfo": {
     "elapsed": 1043,
     "status": "ok",
     "timestamp": 1675326841834,
     "user": {
      "displayName": "Snehal Shinde",
      "userId": "07402917734247451463"
     },
     "user_tz": -330
    },
    "id": "TUbiSTSFeQ-5"
   },
   "outputs": [],
   "source": [
    "import pandas as pd\n",
    "import numpy as np\n",
    "\n",
    "import warnings\n",
    "warnings.filterwarnings('ignore')"
   ]
  },
  {
   "cell_type": "code",
   "execution_count": null,
   "metadata": {
    "id": "AnMOpzmyeQ_E"
   },
   "outputs": [],
   "source": [
    "beml_df = pd.read_csv(\"E:\\\\DS_data\\\\BEML.csv\")\n",
    "beml_df.head()"
   ]
  },
  {
   "cell_type": "code",
   "execution_count": null,
   "metadata": {
    "id": "TumB0_BreQ_H"
   },
   "outputs": [],
   "source": [
    "glaxo_df = pd.read_csv(\"E:\\\\DS_data\\\\GLAXO.csv\")\n",
    "glaxo_df.head()"
   ]
  },
  {
   "cell_type": "code",
   "execution_count": null,
   "metadata": {
    "executionInfo": {
     "elapsed": 384,
     "status": "ok",
     "timestamp": 1675327488322,
     "user": {
      "displayName": "Snehal Shinde",
      "userId": "07402917734247451463"
     },
     "user_tz": -330
    },
    "id": "gJ5MhIy9eQ_J"
   },
   "outputs": [],
   "source": [
    "beml_df = beml_df[['Date', 'Close']]\n",
    "glaxo_df = glaxo_df[['Date', 'Close']]"
   ]
  },
  {
   "cell_type": "code",
   "execution_count": null,
   "metadata": {
    "colab": {
     "base_uri": "https://localhost:8080/",
     "height": 423
    },
    "executionInfo": {
     "elapsed": 404,
     "status": "ok",
     "timestamp": 1675327653781,
     "user": {
      "displayName": "Snehal Shinde",
      "userId": "07402917734247451463"
     },
     "user_tz": -330
    },
    "id": "RjDrMXwFeQ_L",
    "outputId": "e287f1bf-235b-4de9-ecc7-5d7a3dfec693"
   },
   "outputs": [],
   "source": [
    "beml_df.head()"
   ]
  },
  {
   "cell_type": "code",
   "execution_count": null,
   "metadata": {
    "id": "SUPOvmUEJLEy"
   },
   "outputs": [],
   "source": [
    "glaxo_df.head()"
   ]
  },
  {
   "cell_type": "code",
   "execution_count": null,
   "metadata": {
    "colab": {
     "base_uri": "https://localhost:8080/"
    },
    "executionInfo": {
     "elapsed": 401,
     "status": "ok",
     "timestamp": 1675327607988,
     "user": {
      "displayName": "Snehal Shinde",
      "userId": "07402917734247451463"
     },
     "user_tz": -330
    },
    "id": "q8u12AQbP8a0",
    "outputId": "52d3f71a-32ca-41e6-a23b-905bbe934760"
   },
   "outputs": [],
   "source": [
    "beml_df.dtypes"
   ]
  },
  {
   "cell_type": "code",
   "execution_count": null,
   "metadata": {
    "colab": {
     "base_uri": "https://localhost:8080/"
    },
    "executionInfo": {
     "elapsed": 6,
     "status": "ok",
     "timestamp": 1675327633752,
     "user": {
      "displayName": "Snehal Shinde",
      "userId": "07402917734247451463"
     },
     "user_tz": -330
    },
    "id": "yEAkfoMyJjX7",
    "outputId": "1b88c560-0ee0-4f0e-ce04-b717932d607c"
   },
   "outputs": [],
   "source": [
    "glaxo_df.dtypes"
   ]
  },
  {
   "cell_type": "code",
   "execution_count": null,
   "metadata": {
    "executionInfo": {
     "elapsed": 408,
     "status": "ok",
     "timestamp": 1675327975803,
     "user": {
      "displayName": "Snehal Shinde",
      "userId": "07402917734247451463"
     },
     "user_tz": -330
    },
    "id": "9vBebEeseQ_N"
   },
   "outputs": [],
   "source": [
    "#The DataFrames have a date column, so we can create a DatetimeIndex index from this column Date. \n",
    "#It will ensure that the rows are sorted by time in ascending order.\n",
    "glaxo_df = glaxo_df.set_index(pd.DatetimeIndex(glaxo_df['Date']))\n",
    "beml_df = beml_df.set_index(pd.DatetimeIndex(beml_df['Date']))"
   ]
  },
  {
   "cell_type": "code",
   "execution_count": null,
   "metadata": {
    "id": "OPxq9MRpWoEQ"
   },
   "outputs": [],
   "source": [
    "beml_df.head() # now date col is acting as an index"
   ]
  },
  {
   "cell_type": "code",
   "execution_count": null,
   "metadata": {
    "id": "eFBKd5KaWYtr"
   },
   "outputs": [],
   "source": [
    "glaxo_df.head()"
   ]
  },
  {
   "cell_type": "code",
   "execution_count": null,
   "metadata": {
    "id": "JdVLGz2OeQ_P"
   },
   "outputs": [],
   "source": [
    "import matplotlib.pyplot as plt\n",
    "import seaborn as sn\n",
    "plt.plot(glaxo_df.Close)\n",
    "plt.xlabel('Time')\n",
    "plt.ylabel('Close Price');"
   ]
  },
  {
   "cell_type": "code",
   "execution_count": null,
   "metadata": {
    "id": "3Q_hex19eQ_S"
   },
   "outputs": [],
   "source": [
    "plt.plot(beml_df.Close);\n",
    "plt.xlabel('Time');\n",
    "plt.ylabel('Close');"
   ]
  },
  {
   "cell_type": "code",
   "execution_count": null,
   "metadata": {
    "executionInfo": {
     "elapsed": 564,
     "status": "ok",
     "timestamp": 1675328735169,
     "user": {
      "displayName": "Snehal Shinde",
      "userId": "07402917734247451463"
     },
     "user_tz": -330
    },
    "id": "pbC5G6E3eQ_V"
   },
   "outputs": [],
   "source": [
    "glaxo_df['gain'] = glaxo_df.Close.pct_change(periods = 1)\n",
    "beml_df['gain'] = beml_df.Close.pct_change(periods = 1)"
   ]
  },
  {
   "cell_type": "code",
   "execution_count": null,
   "metadata": {
    "id": "zxMxPdrqJzWB"
   },
   "outputs": [],
   "source": [
    "glaxo_df"
   ]
  },
  {
   "cell_type": "code",
   "execution_count": null,
   "metadata": {
    "id": "jvDChi-3N52z"
   },
   "outputs": [],
   "source": [
    "beml_df"
   ]
  },
  {
   "cell_type": "code",
   "execution_count": null,
   "metadata": {
    "executionInfo": {
     "elapsed": 3,
     "status": "ok",
     "timestamp": 1675328985521,
     "user": {
      "displayName": "Snehal Shinde",
      "userId": "07402917734247451463"
     },
     "user_tz": -330
    },
    "id": "VMyWvGUleQ_X"
   },
   "outputs": [],
   "source": [
    "#drop first row since it is NaN\n",
    "glaxo_df = glaxo_df.dropna()\n",
    "beml_df = beml_df.dropna()"
   ]
  },
  {
   "cell_type": "code",
   "execution_count": null,
   "metadata": {
    "id": "YLTbMUFVvAdE"
   },
   "outputs": [],
   "source": [
    "glaxo_df"
   ]
  },
  {
   "cell_type": "code",
   "execution_count": null,
   "metadata": {
    "id": "41lzgXjePzMK"
   },
   "outputs": [],
   "source": [
    "beml_df"
   ]
  },
  {
   "cell_type": "code",
   "execution_count": null,
   "metadata": {
    "id": "Ik8xNPlaeQ_Z"
   },
   "outputs": [],
   "source": [
    "#Plot the gains\n",
    "plt.figure(figsize = (8, 5))\n",
    "plt.plot(glaxo_df.gain)\n",
    "plt.xlabel('Time')\n",
    "plt.ylabel('gain');"
   ]
  },
  {
   "cell_type": "code",
   "execution_count": null,
   "metadata": {
    "id": "Q7Il_pT12Ky3"
   },
   "outputs": [],
   "source": [
    "plt.figure(figsize = (8, 5))\n",
    "plt.plot(beml_df.gain)\n",
    "plt.xlabel('Time')\n",
    "plt.ylabel('gain');"
   ]
  },
  {
   "cell_type": "code",
   "execution_count": null,
   "metadata": {
    "colab": {
     "base_uri": "https://localhost:8080/",
     "height": 387
    },
    "executionInfo": {
     "elapsed": 1902,
     "status": "ok",
     "timestamp": 1675329732920,
     "user": {
      "displayName": "Snehal Shinde",
      "userId": "07402917734247451463"
     },
     "user_tz": -330
    },
    "id": "78LDPK_deQ_b",
    "outputId": "8edd80d0-fda0-4b03-c87e-092b3d4e9a76"
   },
   "outputs": [],
   "source": [
    "plt.figure(figsize=(10,5))\n",
    "plt.subplot(1,2,1)\n",
    "plt.suptitle('Distribution',fontsize=15)\n",
    "\n",
    "sn.distplot(glaxo_df.gain, label = 'Glaxo')\n",
    "\n",
    "plt.xlabel('gain of Glaxo')\n",
    "plt.ylabel('Density')\n",
    "\n",
    "plt.subplot(1,2,2)\n",
    "sn.distplot(beml_df.gain, label = 'BEML')\n",
    "\n",
    "plt.xlabel('gain of BEML')\n",
    "plt.ylabel('Density');"
   ]
  },
  {
   "cell_type": "code",
   "execution_count": null,
   "metadata": {
    "colab": {
     "base_uri": "https://localhost:8080/"
    },
    "executionInfo": {
     "elapsed": 7,
     "status": "ok",
     "timestamp": 1675329616933,
     "user": {
      "displayName": "Snehal Shinde",
      "userId": "07402917734247451463"
     },
     "user_tz": -330
    },
    "id": "vFg60v1zeQ_f",
    "outputId": "50fc43e4-5220-49b7-b9e0-fb17bab6bd59"
   },
   "outputs": [],
   "source": [
    "print('Mean:', round(glaxo_df.gain.mean(), 4))\n",
    "print('Standard Deviation: ', round(glaxo_df.gain.std(), 4))"
   ]
  },
  {
   "cell_type": "code",
   "execution_count": null,
   "metadata": {
    "colab": {
     "base_uri": "https://localhost:8080/"
    },
    "executionInfo": {
     "elapsed": 6,
     "status": "ok",
     "timestamp": 1675329709680,
     "user": {
      "displayName": "Snehal Shinde",
      "userId": "07402917734247451463"
     },
     "user_tz": -330
    },
    "id": "3WzumF2AeQ_g",
    "outputId": "8de7cb23-8bc5-445d-ac3b-dd749a24eee9"
   },
   "outputs": [],
   "source": [
    "print('Mean: ', round(beml_df.gain.mean(), 4))\n",
    "print('Standard Deviation: ', round(beml_df.gain.std(), 4))"
   ]
  },
  {
   "cell_type": "code",
   "execution_count": 1,
   "metadata": {
    "colab": {
     "base_uri": "https://localhost:8080/"
    },
    "executionInfo": {
     "elapsed": 11,
     "status": "ok",
     "timestamp": 1675329905794,
     "user": {
      "displayName": "Snehal Shinde",
      "userId": "07402917734247451463"
     },
     "user_tz": -330
    },
    "id": "JHYKccrCeQ_h",
    "outputId": "a612fc99-cac9-493b-cfa6-c477dfaf6e05"
   },
   "outputs": [
    {
     "data": {
      "text/plain": [
       "0.06395593743937553"
      ]
     },
     "execution_count": 1,
     "metadata": {},
     "output_type": "execute_result"
    }
   ],
   "source": [
    "from scipy import stats\n",
    "# import scipy\n",
    "#Probability of making 2% loss or higher in Glaxo - left of 0 i.e.e -0.02\n",
    "stats.norm.cdf(-0.02,0.0004, 0.0134)\n",
    "#loc=glaxo_df.gain.mean(),\n",
    "#scale=glaxo_df.gain.std()) # there are 6% of chances having 2% or higher loss"
   ]
  },
  {
   "cell_type": "code",
   "execution_count": 2,
   "metadata": {},
   "outputs": [
    {
     "data": {
      "text/plain": [
       "0.9282234182680936"
      ]
     },
     "execution_count": 2,
     "metadata": {},
     "output_type": "execute_result"
    }
   ],
   "source": [
    "stats.norm.cdf(0.02,0.0004, 0.0134)"
   ]
  },
  {
   "cell_type": "code",
   "execution_count": 3,
   "metadata": {
    "colab": {
     "base_uri": "https://localhost:8080/"
    },
    "executionInfo": {
     "elapsed": 380,
     "status": "ok",
     "timestamp": 1675329958733,
     "user": {
      "displayName": "Snehal Shinde",
      "userId": "07402917734247451463"
     },
     "user_tz": -330
    },
    "id": "9z5RjFTVeQ_i",
    "outputId": "2c0c636c-a32c-4172-ee42-b6ec38bfb9a1"
   },
   "outputs": [
    {
     "data": {
      "text/plain": [
       "0.07177658173190637"
      ]
     },
     "execution_count": 3,
     "metadata": {},
     "output_type": "execute_result"
    }
   ],
   "source": [
    "#Probability of making 2% gain or higher in Glaxo - to the right of 0.02\n",
    "1 - stats.norm.cdf(0.02,0.0004, 0.0134) # 7% chances of having at least 2% or higher gain, Glaxo seems safer than BEML\n"
   ]
  },
  {
   "cell_type": "markdown",
   "metadata": {
    "id": "e9ztAiy6eQ_j"
   },
   "source": [
    "### Inclass Exercise"
   ]
  },
  {
   "cell_type": "markdown",
   "metadata": {
    "id": "id2fv20ceQ_m"
   },
   "source": [
    "### Compute 2% loss or gain for BEML"
   ]
  },
  {
   "cell_type": "code",
   "execution_count": 4,
   "metadata": {
    "colab": {
     "base_uri": "https://localhost:8080/"
    },
    "executionInfo": {
     "elapsed": 2179,
     "status": "ok",
     "timestamp": 1673936063940,
     "user": {
      "displayName": "Snehal Shinde",
      "userId": "07402917734247451463"
     },
     "user_tz": -330
    },
    "id": "ufXA5SqZeQ_m",
    "outputId": "8065f22e-21f5-4a72-c83e-5338de733c13"
   },
   "outputs": [
    {
     "ename": "NameError",
     "evalue": "name 'beml_df' is not defined",
     "output_type": "error",
     "traceback": [
      "\u001b[1;31m---------------------------------------------------------------------------\u001b[0m",
      "\u001b[1;31mNameError\u001b[0m                                 Traceback (most recent call last)",
      "Cell \u001b[1;32mIn[4], line 2\u001b[0m\n\u001b[0;32m      1\u001b[0m stats\u001b[38;5;241m.\u001b[39mnorm\u001b[38;5;241m.\u001b[39mcdf( \u001b[38;5;241m-\u001b[39m\u001b[38;5;241m0.02\u001b[39m,\n\u001b[1;32m----> 2\u001b[0m loc\u001b[38;5;241m=\u001b[39m\u001b[43mbeml_df\u001b[49m\u001b[38;5;241m.\u001b[39mgain\u001b[38;5;241m.\u001b[39mmean(),\n\u001b[0;32m      3\u001b[0m scale\u001b[38;5;241m=\u001b[39mbeml_df\u001b[38;5;241m.\u001b[39mgain\u001b[38;5;241m.\u001b[39mstd())\n",
      "\u001b[1;31mNameError\u001b[0m: name 'beml_df' is not defined"
     ]
    }
   ],
   "source": [
    "stats.norm.cdf( -0.02,\n",
    "loc=beml_df.gain.mean(),\n",
    "scale=beml_df.gain.std())"
   ]
  },
  {
   "cell_type": "code",
   "execution_count": null,
   "metadata": {
    "colab": {
     "base_uri": "https://localhost:8080/"
    },
    "executionInfo": {
     "elapsed": 3,
     "status": "ok",
     "timestamp": 1673936066170,
     "user": {
      "displayName": "Snehal Shinde",
      "userId": "07402917734247451463"
     },
     "user_tz": -330
    },
    "id": "vAk2SRjLeQ_r",
    "outputId": "2e016352-4d89-4660-c430-6f92d8e9e6e9"
   },
   "outputs": [],
   "source": [
    "#Probability of making 2% gain or higher in BEML\n",
    "1 - stats.norm.cdf(0.02,\n",
    "loc=beml_df.gain.mean(),\n",
    "scale=beml_df.gain.std())"
   ]
  },
  {
   "cell_type": "code",
   "execution_count": null,
   "metadata": {},
   "outputs": [],
   "source": []
  }
 ],
 "metadata": {
  "colab": {
   "provenance": []
  },
  "kernelspec": {
   "display_name": "Python 3 (ipykernel)",
   "language": "python",
   "name": "python3"
  },
  "language_info": {
   "codemirror_mode": {
    "name": "ipython",
    "version": 3
   },
   "file_extension": ".py",
   "mimetype": "text/x-python",
   "name": "python",
   "nbconvert_exporter": "python",
   "pygments_lexer": "ipython3",
   "version": "3.10.9"
  }
 },
 "nbformat": 4,
 "nbformat_minor": 1
}
