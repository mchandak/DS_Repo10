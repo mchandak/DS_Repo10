{
 "cells": [
  {
   "cell_type": "code",
   "execution_count": 1,
   "metadata": {
    "executionInfo": {
     "elapsed": 4240,
     "status": "ok",
     "timestamp": 1676781849170,
     "user": {
      "displayName": "Srijit Panja",
      "userId": "08280687544370309018"
     },
     "user_tz": -330
    },
    "id": "i-_FihnXhADb"
   },
   "outputs": [],
   "source": [
    "# Importing the necessary packages\n",
    "import pandas as pd\n",
    "import numpy as np\n",
    "import keras\n",
    "from sklearn.preprocessing import StandardScaler\n",
    "\n",
    "import warnings\n",
    "warnings.filterwarnings('ignore')"
   ]
  },
  {
   "cell_type": "code",
   "execution_count": 2,
   "metadata": {
    "executionInfo": {
     "elapsed": 397,
     "status": "ok",
     "timestamp": 1676781852749,
     "user": {
      "displayName": "Srijit Panja",
      "userId": "08280687544370309018"
     },
     "user_tz": -330
    },
    "id": "vWIZ80XAhADl"
   },
   "outputs": [],
   "source": [
    "# load pima indians dataset\n",
    "dataset = np.loadtxt('https://raw.githubusercontent.com/mchandak/DS_Repo10/main/Data/pima-indians-diabetes.data.csv', delimiter=\",\")"
   ]
  },
  {
   "cell_type": "code",
   "execution_count": 3,
   "metadata": {
    "executionInfo": {
     "elapsed": 4,
     "status": "ok",
     "timestamp": 1676781856298,
     "user": {
      "displayName": "Srijit Panja",
      "userId": "08280687544370309018"
     },
     "user_tz": -330
    },
    "id": "iLY_EMxJhADm"
   },
   "outputs": [],
   "source": [
    "X = dataset[:,0:8]\n",
    "y = dataset[:,8]"
   ]
  },
  {
   "cell_type": "code",
   "execution_count": 4,
   "metadata": {
    "colab": {
     "base_uri": "https://localhost:8080/"
    },
    "executionInfo": {
     "elapsed": 14,
     "status": "ok",
     "timestamp": 1676781862907,
     "user": {
      "displayName": "Srijit Panja",
      "userId": "08280687544370309018"
     },
     "user_tz": -330
    },
    "id": "D_pBwJ_q_Kky",
    "outputId": "a43d5032-e1ce-407c-8a85-e9ed0f7a51a6"
   },
   "outputs": [
    {
     "data": {
      "text/plain": [
       "array([[  6.   , 148.   ,  72.   , ...,   0.627,  50.   ,   1.   ],\n",
       "       [  1.   ,  85.   ,  66.   , ...,   0.351,  31.   ,   0.   ],\n",
       "       [  8.   , 183.   ,  64.   , ...,   0.672,  32.   ,   1.   ],\n",
       "       ...,\n",
       "       [  5.   , 121.   ,  72.   , ...,   0.245,  30.   ,   0.   ],\n",
       "       [  1.   , 126.   ,  60.   , ...,   0.349,  47.   ,   1.   ],\n",
       "       [  1.   ,  93.   ,  70.   , ...,   0.315,  23.   ,   0.   ]])"
      ]
     },
     "execution_count": 4,
     "metadata": {},
     "output_type": "execute_result"
    }
   ],
   "source": [
    "dataset"
   ]
  },
  {
   "cell_type": "code",
   "execution_count": 5,
   "metadata": {
    "executionInfo": {
     "elapsed": 396,
     "status": "ok",
     "timestamp": 1676783871326,
     "user": {
      "displayName": "Srijit Panja",
      "userId": "08280687544370309018"
     },
     "user_tz": -330
    },
    "id": "xTfxHY7ZhADn"
   },
   "outputs": [],
   "source": [
    "# Standardization\n",
    "a = StandardScaler()\n",
    "a.fit(X)\n",
    "X_standardized = a.transform(X)"
   ]
  },
  {
   "cell_type": "code",
   "execution_count": 6,
   "metadata": {
    "colab": {
     "base_uri": "https://localhost:8080/",
     "height": 433
    },
    "executionInfo": {
     "elapsed": 386,
     "status": "ok",
     "timestamp": 1676783874909,
     "user": {
      "displayName": "Srijit Panja",
      "userId": "08280687544370309018"
     },
     "user_tz": -330
    },
    "id": "fboz61zohADn",
    "outputId": "12f44ff3-b7ef-4ec3-c6e7-19e50e570785"
   },
   "outputs": [
    {
     "data": {
      "text/html": [
       "<div>\n",
       "<style scoped>\n",
       "    .dataframe tbody tr th:only-of-type {\n",
       "        vertical-align: middle;\n",
       "    }\n",
       "\n",
       "    .dataframe tbody tr th {\n",
       "        vertical-align: top;\n",
       "    }\n",
       "\n",
       "    .dataframe thead th {\n",
       "        text-align: right;\n",
       "    }\n",
       "</style>\n",
       "<table border=\"1\" class=\"dataframe\">\n",
       "  <thead>\n",
       "    <tr style=\"text-align: right;\">\n",
       "      <th></th>\n",
       "      <th>0</th>\n",
       "      <th>1</th>\n",
       "      <th>2</th>\n",
       "      <th>3</th>\n",
       "      <th>4</th>\n",
       "      <th>5</th>\n",
       "      <th>6</th>\n",
       "      <th>7</th>\n",
       "    </tr>\n",
       "  </thead>\n",
       "  <tbody>\n",
       "    <tr>\n",
       "      <th>count</th>\n",
       "      <td>7.680000e+02</td>\n",
       "      <td>7.680000e+02</td>\n",
       "      <td>7.680000e+02</td>\n",
       "      <td>7.680000e+02</td>\n",
       "      <td>7.680000e+02</td>\n",
       "      <td>7.680000e+02</td>\n",
       "      <td>7.680000e+02</td>\n",
       "      <td>7.680000e+02</td>\n",
       "    </tr>\n",
       "    <tr>\n",
       "      <th>mean</th>\n",
       "      <td>-8.789266e-17</td>\n",
       "      <td>-9.251859e-18</td>\n",
       "      <td>1.503427e-17</td>\n",
       "      <td>8.211024e-17</td>\n",
       "      <td>-4.972874e-17</td>\n",
       "      <td>2.960595e-15</td>\n",
       "      <td>1.905883e-15</td>\n",
       "      <td>2.081668e-16</td>\n",
       "    </tr>\n",
       "    <tr>\n",
       "      <th>std</th>\n",
       "      <td>1.000652e+00</td>\n",
       "      <td>1.000652e+00</td>\n",
       "      <td>1.000652e+00</td>\n",
       "      <td>1.000652e+00</td>\n",
       "      <td>1.000652e+00</td>\n",
       "      <td>1.000652e+00</td>\n",
       "      <td>1.000652e+00</td>\n",
       "      <td>1.000652e+00</td>\n",
       "    </tr>\n",
       "    <tr>\n",
       "      <th>min</th>\n",
       "      <td>-1.141852e+00</td>\n",
       "      <td>-3.783654e+00</td>\n",
       "      <td>-3.572597e+00</td>\n",
       "      <td>-1.288212e+00</td>\n",
       "      <td>-6.928906e-01</td>\n",
       "      <td>-4.060474e+00</td>\n",
       "      <td>-1.189553e+00</td>\n",
       "      <td>-1.041549e+00</td>\n",
       "    </tr>\n",
       "    <tr>\n",
       "      <th>25%</th>\n",
       "      <td>-8.448851e-01</td>\n",
       "      <td>-6.852363e-01</td>\n",
       "      <td>-3.673367e-01</td>\n",
       "      <td>-1.288212e+00</td>\n",
       "      <td>-6.928906e-01</td>\n",
       "      <td>-5.955785e-01</td>\n",
       "      <td>-6.889685e-01</td>\n",
       "      <td>-7.862862e-01</td>\n",
       "    </tr>\n",
       "    <tr>\n",
       "      <th>50%</th>\n",
       "      <td>-2.509521e-01</td>\n",
       "      <td>-1.218877e-01</td>\n",
       "      <td>1.496408e-01</td>\n",
       "      <td>1.545332e-01</td>\n",
       "      <td>-4.280622e-01</td>\n",
       "      <td>9.419788e-04</td>\n",
       "      <td>-3.001282e-01</td>\n",
       "      <td>-3.608474e-01</td>\n",
       "    </tr>\n",
       "    <tr>\n",
       "      <th>75%</th>\n",
       "      <td>6.399473e-01</td>\n",
       "      <td>6.057709e-01</td>\n",
       "      <td>5.632228e-01</td>\n",
       "      <td>7.190857e-01</td>\n",
       "      <td>4.120079e-01</td>\n",
       "      <td>5.847705e-01</td>\n",
       "      <td>4.662269e-01</td>\n",
       "      <td>6.602056e-01</td>\n",
       "    </tr>\n",
       "    <tr>\n",
       "      <th>max</th>\n",
       "      <td>3.906578e+00</td>\n",
       "      <td>2.444478e+00</td>\n",
       "      <td>2.734528e+00</td>\n",
       "      <td>4.921866e+00</td>\n",
       "      <td>6.652839e+00</td>\n",
       "      <td>4.455807e+00</td>\n",
       "      <td>5.883565e+00</td>\n",
       "      <td>4.063716e+00</td>\n",
       "    </tr>\n",
       "  </tbody>\n",
       "</table>\n",
       "</div>"
      ],
      "text/plain": [
       "                  0             1             2             3             4  \\\n",
       "count  7.680000e+02  7.680000e+02  7.680000e+02  7.680000e+02  7.680000e+02   \n",
       "mean  -8.789266e-17 -9.251859e-18  1.503427e-17  8.211024e-17 -4.972874e-17   \n",
       "std    1.000652e+00  1.000652e+00  1.000652e+00  1.000652e+00  1.000652e+00   \n",
       "min   -1.141852e+00 -3.783654e+00 -3.572597e+00 -1.288212e+00 -6.928906e-01   \n",
       "25%   -8.448851e-01 -6.852363e-01 -3.673367e-01 -1.288212e+00 -6.928906e-01   \n",
       "50%   -2.509521e-01 -1.218877e-01  1.496408e-01  1.545332e-01 -4.280622e-01   \n",
       "75%    6.399473e-01  6.057709e-01  5.632228e-01  7.190857e-01  4.120079e-01   \n",
       "max    3.906578e+00  2.444478e+00  2.734528e+00  4.921866e+00  6.652839e+00   \n",
       "\n",
       "                  5             6             7  \n",
       "count  7.680000e+02  7.680000e+02  7.680000e+02  \n",
       "mean   2.960595e-15  1.905883e-15  2.081668e-16  \n",
       "std    1.000652e+00  1.000652e+00  1.000652e+00  \n",
       "min   -4.060474e+00 -1.189553e+00 -1.041549e+00  \n",
       "25%   -5.955785e-01 -6.889685e-01 -7.862862e-01  \n",
       "50%    9.419788e-04 -3.001282e-01 -3.608474e-01  \n",
       "75%    5.847705e-01  4.662269e-01  6.602056e-01  \n",
       "max    4.455807e+00  5.883565e+00  4.063716e+00  "
      ]
     },
     "execution_count": 6,
     "metadata": {},
     "output_type": "execute_result"
    }
   ],
   "source": [
    "pd.DataFrame(X_standardized).describe()"
   ]
  },
  {
   "cell_type": "markdown",
   "metadata": {
    "id": "DpWliCLZhADo"
   },
   "source": [
    "#### ****Tuning of Hyperparameters :- ****\n",
    "\n",
    "1.   Batch Size\n",
    "2.   Epochs\n",
    "\n"
   ]
  },
  {
   "cell_type": "code",
   "execution_count": 7,
   "metadata": {
    "executionInfo": {
     "elapsed": 403,
     "status": "ok",
     "timestamp": 1676783879472,
     "user": {
      "displayName": "Srijit Panja",
      "userId": "08280687544370309018"
     },
     "user_tz": -330
    },
    "id": "n1Vqrv7ghADo"
   },
   "outputs": [],
   "source": [
    "# Importing the necessary packages\n",
    "from sklearn.model_selection import GridSearchCV, KFold\n",
    "from keras.models import Sequential\n",
    "from keras.layers import Dense\n",
    "from keras.wrappers.scikit_learn import KerasClassifier\n",
    "#from keras.optimizers import Adam\n",
    "#from keras.optimizers import adam_v2\n",
    "from tensorflow.keras.optimizers import Adam"
   ]
  },
  {
   "cell_type": "code",
   "execution_count": 8,
   "metadata": {
    "executionInfo": {
     "elapsed": 498,
     "status": "ok",
     "timestamp": 1676783884246,
     "user": {
      "displayName": "Srijit Panja",
      "userId": "08280687544370309018"
     },
     "user_tz": -330
    },
    "id": "HnKEQ98KhADo"
   },
   "outputs": [],
   "source": [
    "# create model\n",
    "def create_model():\n",
    "    model = Sequential(name='Hypterparameter-Tuning-Dummy')\n",
    "    model.add(Dense(12, input_dim=8, kernel_initializer='uniform', activation='relu'))\n",
    "    model.add(Dense(8,kernel_initializer='uniform', activation='relu'))\n",
    "    model.add(Dense(1, kernel_initializer='uniform', activation='sigmoid'))\n",
    "    \n",
    "    adam=Adam(learning_rate=0.01)\n",
    "    model.compile(loss='binary_crossentropy', optimizer=adam, metrics=['accuracy'])\n",
    "    return model"
   ]
  },
  {
   "cell_type": "code",
   "execution_count": 9,
   "metadata": {
    "colab": {
     "base_uri": "https://localhost:8080/"
    },
    "executionInfo": {
     "elapsed": 398214,
     "status": "ok",
     "timestamp": 1676784492649,
     "user": {
      "displayName": "Srijit Panja",
      "userId": "08280687544370309018"
     },
     "user_tz": -330
    },
    "id": "Zj4JYVHthADp",
    "outputId": "425bafff-7a44-4858-cac4-f00f79073be7"
   },
   "outputs": [
    {
     "name": "stdout",
     "output_type": "stream",
     "text": [
      "Fitting 5 folds for each of 9 candidates, totalling 45 fits\n",
      "[CV 1/5; 1/9] START batch_size=10, epochs=50....................................\n",
      "[CV 1/5; 1/9] END .....batch_size=10, epochs=50;, score=0.740 total time=   5.4s\n",
      "[CV 2/5; 1/9] START batch_size=10, epochs=50....................................\n",
      "[CV 2/5; 1/9] END .....batch_size=10, epochs=50;, score=0.701 total time=   5.3s\n",
      "[CV 3/5; 1/9] START batch_size=10, epochs=50....................................\n",
      "[CV 3/5; 1/9] END .....batch_size=10, epochs=50;, score=0.773 total time=   5.2s\n",
      "[CV 4/5; 1/9] START batch_size=10, epochs=50....................................\n",
      "[CV 4/5; 1/9] END .....batch_size=10, epochs=50;, score=0.824 total time=   4.9s\n",
      "[CV 5/5; 1/9] START batch_size=10, epochs=50....................................\n",
      "[CV 5/5; 1/9] END .....batch_size=10, epochs=50;, score=0.765 total time=   5.2s\n",
      "[CV 1/5; 2/9] START batch_size=10, epochs=100...................................\n",
      "[CV 1/5; 2/9] END ....batch_size=10, epochs=100;, score=0.727 total time=   9.0s\n",
      "[CV 2/5; 2/9] START batch_size=10, epochs=100...................................\n",
      "[CV 2/5; 2/9] END ....batch_size=10, epochs=100;, score=0.675 total time=   9.6s\n",
      "[CV 3/5; 2/9] START batch_size=10, epochs=100...................................\n",
      "[CV 3/5; 2/9] END ....batch_size=10, epochs=100;, score=0.766 total time=  12.1s\n",
      "[CV 4/5; 2/9] START batch_size=10, epochs=100...................................\n",
      "[CV 4/5; 2/9] END ....batch_size=10, epochs=100;, score=0.824 total time=  10.7s\n",
      "[CV 5/5; 2/9] START batch_size=10, epochs=100...................................\n",
      "[CV 5/5; 2/9] END ....batch_size=10, epochs=100;, score=0.791 total time=  11.4s\n",
      "[CV 1/5; 3/9] START batch_size=10, epochs=150...................................\n",
      "[CV 1/5; 3/9] END ....batch_size=10, epochs=150;, score=0.766 total time=  15.1s\n",
      "[CV 2/5; 3/9] START batch_size=10, epochs=150...................................\n",
      "[CV 2/5; 3/9] END ....batch_size=10, epochs=150;, score=0.708 total time=  15.7s\n",
      "[CV 3/5; 3/9] START batch_size=10, epochs=150...................................\n",
      "[CV 3/5; 3/9] END ....batch_size=10, epochs=150;, score=0.766 total time=  14.9s\n",
      "[CV 4/5; 3/9] START batch_size=10, epochs=150...................................\n",
      "[CV 4/5; 3/9] END ....batch_size=10, epochs=150;, score=0.797 total time=  16.7s\n",
      "[CV 5/5; 3/9] START batch_size=10, epochs=150...................................\n",
      "[CV 5/5; 3/9] END ....batch_size=10, epochs=150;, score=0.791 total time=  17.3s\n",
      "[CV 1/5; 4/9] START batch_size=20, epochs=50....................................\n",
      "[CV 1/5; 4/9] END .....batch_size=20, epochs=50;, score=0.727 total time=   4.1s\n",
      "[CV 2/5; 4/9] START batch_size=20, epochs=50....................................\n",
      "[CV 2/5; 4/9] END .....batch_size=20, epochs=50;, score=0.682 total time=   3.8s\n",
      "[CV 3/5; 4/9] START batch_size=20, epochs=50....................................\n",
      "[CV 3/5; 4/9] END .....batch_size=20, epochs=50;, score=0.753 total time=   3.2s\n",
      "[CV 4/5; 4/9] START batch_size=20, epochs=50....................................\n",
      "[CV 4/5; 4/9] END .....batch_size=20, epochs=50;, score=0.830 total time=   3.2s\n",
      "[CV 5/5; 4/9] START batch_size=20, epochs=50....................................\n",
      "[CV 5/5; 4/9] END .....batch_size=20, epochs=50;, score=0.765 total time=   3.1s\n",
      "[CV 1/5; 5/9] START batch_size=20, epochs=100...................................\n",
      "[CV 1/5; 5/9] END ....batch_size=20, epochs=100;, score=0.747 total time=   5.2s\n",
      "[CV 2/5; 5/9] START batch_size=20, epochs=100...................................\n",
      "[CV 2/5; 5/9] END ....batch_size=20, epochs=100;, score=0.708 total time=   5.4s\n",
      "[CV 3/5; 5/9] START batch_size=20, epochs=100...................................\n",
      "[CV 3/5; 5/9] END ....batch_size=20, epochs=100;, score=0.779 total time=   5.2s\n",
      "[CV 4/5; 5/9] START batch_size=20, epochs=100...................................\n",
      "[CV 4/5; 5/9] END ....batch_size=20, epochs=100;, score=0.745 total time=   5.3s\n",
      "[CV 5/5; 5/9] START batch_size=20, epochs=100...................................\n",
      "[CV 5/5; 5/9] END ....batch_size=20, epochs=100;, score=0.778 total time=   5.3s\n",
      "[CV 1/5; 6/9] START batch_size=20, epochs=150...................................\n",
      "[CV 1/5; 6/9] END ....batch_size=20, epochs=150;, score=0.760 total time=   7.4s\n",
      "[CV 2/5; 6/9] START batch_size=20, epochs=150...................................\n",
      "[CV 2/5; 6/9] END ....batch_size=20, epochs=150;, score=0.701 total time=   7.4s\n",
      "[CV 3/5; 6/9] START batch_size=20, epochs=150...................................\n",
      "[CV 3/5; 6/9] END ....batch_size=20, epochs=150;, score=0.812 total time=   7.3s\n",
      "[CV 4/5; 6/9] START batch_size=20, epochs=150...................................\n",
      "[CV 4/5; 6/9] END ....batch_size=20, epochs=150;, score=0.791 total time=   7.5s\n",
      "[CV 5/5; 6/9] START batch_size=20, epochs=150...................................\n",
      "[CV 5/5; 6/9] END ....batch_size=20, epochs=150;, score=0.725 total time=   7.9s\n",
      "[CV 1/5; 7/9] START batch_size=40, epochs=50....................................\n",
      "[CV 1/5; 7/9] END .....batch_size=40, epochs=50;, score=0.753 total time=   2.5s\n",
      "[CV 2/5; 7/9] START batch_size=40, epochs=50....................................\n",
      "[CV 2/5; 7/9] END .....batch_size=40, epochs=50;, score=0.714 total time=   2.5s\n",
      "[CV 3/5; 7/9] START batch_size=40, epochs=50....................................\n",
      "[CV 3/5; 7/9] END .....batch_size=40, epochs=50;, score=0.766 total time=   2.5s\n",
      "[CV 4/5; 7/9] START batch_size=40, epochs=50....................................\n",
      "[CV 4/5; 7/9] END .....batch_size=40, epochs=50;, score=0.830 total time=   2.1s\n",
      "[CV 5/5; 7/9] START batch_size=40, epochs=50....................................\n",
      "[CV 5/5; 7/9] END .....batch_size=40, epochs=50;, score=0.771 total time=   2.2s\n",
      "[CV 1/5; 8/9] START batch_size=40, epochs=100...................................\n",
      "[CV 1/5; 8/9] END ....batch_size=40, epochs=100;, score=0.721 total time=   3.2s\n",
      "[CV 2/5; 8/9] START batch_size=40, epochs=100...................................\n",
      "[CV 2/5; 8/9] END ....batch_size=40, epochs=100;, score=0.669 total time=   3.4s\n",
      "[CV 3/5; 8/9] START batch_size=40, epochs=100...................................\n",
      "[CV 3/5; 8/9] END ....batch_size=40, epochs=100;, score=0.792 total time=   3.4s\n",
      "[CV 4/5; 8/9] START batch_size=40, epochs=100...................................\n",
      "[CV 4/5; 8/9] END ....batch_size=40, epochs=100;, score=0.804 total time=   3.6s\n",
      "[CV 5/5; 8/9] START batch_size=40, epochs=100...................................\n",
      "[CV 5/5; 8/9] END ....batch_size=40, epochs=100;, score=0.778 total time=   3.6s\n",
      "[CV 1/5; 9/9] START batch_size=40, epochs=150...................................\n",
      "[CV 1/5; 9/9] END ....batch_size=40, epochs=150;, score=0.721 total time=   4.9s\n",
      "[CV 2/5; 9/9] START batch_size=40, epochs=150...................................\n",
      "[CV 2/5; 9/9] END ....batch_size=40, epochs=150;, score=0.734 total time=   4.4s\n",
      "[CV 3/5; 9/9] START batch_size=40, epochs=150...................................\n",
      "[CV 3/5; 9/9] END ....batch_size=40, epochs=150;, score=0.747 total time=   4.9s\n",
      "[CV 4/5; 9/9] START batch_size=40, epochs=150...................................\n",
      "[CV 4/5; 9/9] END ....batch_size=40, epochs=150;, score=0.719 total time=   4.6s\n",
      "[CV 5/5; 9/9] START batch_size=40, epochs=150...................................\n",
      "[CV 5/5; 9/9] END ....batch_size=40, epochs=150;, score=0.791 total time=   4.4s\n"
     ]
    }
   ],
   "source": [
    "# Create the model\n",
    "model = KerasClassifier(build_fn = create_model,verbose = 0)\n",
    "# Define the grid search parameters\n",
    "batch_size = [10,20,40]\n",
    "epochs = [50,100,150]\n",
    "# Make a dictionary of the grid search parameters\n",
    "param_grid = dict(batch_size = batch_size,epochs = epochs)\n",
    "# Build and fit the GridSearchCV\n",
    "grid = GridSearchCV(estimator = model,param_grid = param_grid,cv = KFold(),verbose = 10)\n",
    "grid_result = grid.fit(X_standardized,y)"
   ]
  },
  {
   "cell_type": "code",
   "execution_count": 10,
   "metadata": {
    "colab": {
     "base_uri": "https://localhost:8080/"
    },
    "executionInfo": {
     "elapsed": 645,
     "status": "ok",
     "timestamp": 1676784642360,
     "user": {
      "displayName": "Srijit Panja",
      "userId": "08280687544370309018"
     },
     "user_tz": -330
    },
    "id": "WURcRcDDhADq",
    "outputId": "496e10c9-5cff-4505-f754-3a4dbaf942d9"
   },
   "outputs": [
    {
     "name": "stdout",
     "output_type": "stream",
     "text": [
      "Best : 0.7670146822929382, using {'batch_size': 40, 'epochs': 50}\n",
      "0.7605042099952698,0.040135676318675935 with: {'batch_size': 10, 'epochs': 50}\n",
      "0.7566420555114746,0.051402634628635695 with: {'batch_size': 10, 'epochs': 100}\n",
      "0.7656990051269531,0.03159229804539973 with: {'batch_size': 10, 'epochs': 150}\n",
      "0.7514217853546142,0.048564283549136895 with: {'batch_size': 20, 'epochs': 50}\n",
      "0.751328420639038,0.026201914995678224 with: {'batch_size': 20, 'epochs': 100}\n",
      "0.7578134298324585,0.040586481386219966 with: {'batch_size': 20, 'epochs': 150}\n",
      "0.7670146822929382,0.03731961109561036 with: {'batch_size': 40, 'epochs': 50}\n",
      "0.7527035117149353,0.05072736132748933 with: {'batch_size': 40, 'epochs': 100}\n",
      "0.7422205448150635,0.0262977690070821 with: {'batch_size': 40, 'epochs': 150}\n"
     ]
    }
   ],
   "source": [
    "# Summarize the results\n",
    "print('Best : {}, using {}'.format(grid_result.best_score_,grid_result.best_params_))\n",
    "means = grid_result.cv_results_['mean_test_score']\n",
    "stds = grid_result.cv_results_['std_test_score']\n",
    "params = grid_result.cv_results_['params']\n",
    "for mean, stdev, param in zip(means, stds, params):\n",
    "  print('{},{} with: {}'.format(mean, stdev, param))"
   ]
  },
  {
   "cell_type": "markdown",
   "metadata": {
    "id": "BOB3gqGdhADr"
   },
   "source": [
    "#### Tuning of Hyperparameters:- Learning rate and Drop out rate"
   ]
  },
  {
   "cell_type": "code",
   "execution_count": 11,
   "metadata": {
    "colab": {
     "base_uri": "https://localhost:8080/"
    },
    "executionInfo": {
     "elapsed": 93374,
     "status": "ok",
     "timestamp": 1664206452186,
     "user": {
      "displayName": "Salem Sameer Shaikh",
      "userId": "05291575250389740253"
     },
     "user_tz": -330
    },
    "id": "SQib5WqnhADr",
    "outputId": "2d8b410d-5b6d-4a44-cb51-e06237764d3a"
   },
   "outputs": [
    {
     "name": "stdout",
     "output_type": "stream",
     "text": [
      "Fitting 5 folds for each of 9 candidates, totalling 45 fits\n",
      "[CV 1/5; 1/9] START dropout_rate=0.0, learning_rate=0.001.......................\n",
      "[CV 1/5; 1/9] END dropout_rate=0.0, learning_rate=0.001;, score=0.753 total time=   2.2s\n",
      "[CV 2/5; 1/9] START dropout_rate=0.0, learning_rate=0.001.......................\n",
      "[CV 2/5; 1/9] END dropout_rate=0.0, learning_rate=0.001;, score=0.721 total time=   2.2s\n",
      "[CV 3/5; 1/9] START dropout_rate=0.0, learning_rate=0.001.......................\n",
      "[CV 3/5; 1/9] END dropout_rate=0.0, learning_rate=0.001;, score=0.773 total time=   2.2s\n",
      "[CV 4/5; 1/9] START dropout_rate=0.0, learning_rate=0.001.......................\n",
      "[CV 4/5; 1/9] END dropout_rate=0.0, learning_rate=0.001;, score=0.843 total time=   2.4s\n",
      "[CV 5/5; 1/9] START dropout_rate=0.0, learning_rate=0.001.......................\n",
      "[CV 5/5; 1/9] END dropout_rate=0.0, learning_rate=0.001;, score=0.771 total time=   2.2s\n",
      "[CV 1/5; 2/9] START dropout_rate=0.0, learning_rate=0.01........................\n",
      "[CV 1/5; 2/9] END dropout_rate=0.0, learning_rate=0.01;, score=0.760 total time=   2.2s\n",
      "[CV 2/5; 2/9] START dropout_rate=0.0, learning_rate=0.01........................\n",
      "[CV 2/5; 2/9] END dropout_rate=0.0, learning_rate=0.01;, score=0.701 total time=   3.5s\n",
      "[CV 3/5; 2/9] START dropout_rate=0.0, learning_rate=0.01........................\n",
      "[CV 3/5; 2/9] END dropout_rate=0.0, learning_rate=0.01;, score=0.766 total time=   2.5s\n",
      "[CV 4/5; 2/9] START dropout_rate=0.0, learning_rate=0.01........................\n",
      "[CV 4/5; 2/9] END dropout_rate=0.0, learning_rate=0.01;, score=0.784 total time=   2.6s\n",
      "[CV 5/5; 2/9] START dropout_rate=0.0, learning_rate=0.01........................\n",
      "[CV 5/5; 2/9] END dropout_rate=0.0, learning_rate=0.01;, score=0.778 total time=   2.3s\n",
      "[CV 1/5; 3/9] START dropout_rate=0.0, learning_rate=0.1.........................\n",
      "[CV 1/5; 3/9] END dropout_rate=0.0, learning_rate=0.1;, score=0.695 total time=   2.4s\n",
      "[CV 2/5; 3/9] START dropout_rate=0.0, learning_rate=0.1.........................\n",
      "[CV 2/5; 3/9] END dropout_rate=0.0, learning_rate=0.1;, score=0.669 total time=   2.3s\n",
      "[CV 3/5; 3/9] START dropout_rate=0.0, learning_rate=0.1.........................\n",
      "[CV 3/5; 3/9] END dropout_rate=0.0, learning_rate=0.1;, score=0.766 total time=   2.3s\n",
      "[CV 4/5; 3/9] START dropout_rate=0.0, learning_rate=0.1.........................\n",
      "[CV 4/5; 3/9] END dropout_rate=0.0, learning_rate=0.1;, score=0.804 total time=   2.5s\n",
      "[CV 5/5; 3/9] START dropout_rate=0.0, learning_rate=0.1.........................\n",
      "[CV 5/5; 3/9] END dropout_rate=0.0, learning_rate=0.1;, score=0.739 total time=   2.3s\n",
      "[CV 1/5; 4/9] START dropout_rate=0.1, learning_rate=0.001.......................\n",
      "[CV 1/5; 4/9] END dropout_rate=0.1, learning_rate=0.001;, score=0.753 total time=   2.6s\n",
      "[CV 2/5; 4/9] START dropout_rate=0.1, learning_rate=0.001.......................\n",
      "[CV 2/5; 4/9] END dropout_rate=0.1, learning_rate=0.001;, score=0.734 total time=   2.6s\n",
      "[CV 3/5; 4/9] START dropout_rate=0.1, learning_rate=0.001.......................\n",
      "[CV 3/5; 4/9] END dropout_rate=0.1, learning_rate=0.001;, score=0.773 total time=   2.9s\n",
      "[CV 4/5; 4/9] START dropout_rate=0.1, learning_rate=0.001.......................\n",
      "[CV 4/5; 4/9] END dropout_rate=0.1, learning_rate=0.001;, score=0.850 total time=   2.6s\n",
      "[CV 5/5; 4/9] START dropout_rate=0.1, learning_rate=0.001.......................\n",
      "[CV 5/5; 4/9] END dropout_rate=0.1, learning_rate=0.001;, score=0.765 total time=   2.8s\n",
      "[CV 1/5; 5/9] START dropout_rate=0.1, learning_rate=0.01........................\n",
      "[CV 1/5; 5/9] END dropout_rate=0.1, learning_rate=0.01;, score=0.747 total time=   2.9s\n",
      "[CV 2/5; 5/9] START dropout_rate=0.1, learning_rate=0.01........................\n",
      "[CV 2/5; 5/9] END dropout_rate=0.1, learning_rate=0.01;, score=0.695 total time=   2.9s\n",
      "[CV 3/5; 5/9] START dropout_rate=0.1, learning_rate=0.01........................\n",
      "[CV 3/5; 5/9] END dropout_rate=0.1, learning_rate=0.01;, score=0.760 total time=   2.8s\n",
      "[CV 4/5; 5/9] START dropout_rate=0.1, learning_rate=0.01........................\n",
      "[CV 4/5; 5/9] END dropout_rate=0.1, learning_rate=0.01;, score=0.817 total time=   2.9s\n",
      "[CV 5/5; 5/9] START dropout_rate=0.1, learning_rate=0.01........................\n",
      "[CV 5/5; 5/9] END dropout_rate=0.1, learning_rate=0.01;, score=0.745 total time=   2.8s\n",
      "[CV 1/5; 6/9] START dropout_rate=0.1, learning_rate=0.1.........................\n",
      "[CV 1/5; 6/9] END dropout_rate=0.1, learning_rate=0.1;, score=0.747 total time=   2.8s\n",
      "[CV 2/5; 6/9] START dropout_rate=0.1, learning_rate=0.1.........................\n",
      "[CV 2/5; 6/9] END dropout_rate=0.1, learning_rate=0.1;, score=0.688 total time=   2.8s\n",
      "[CV 3/5; 6/9] START dropout_rate=0.1, learning_rate=0.1.........................\n",
      "[CV 3/5; 6/9] END dropout_rate=0.1, learning_rate=0.1;, score=0.740 total time=   3.3s\n",
      "[CV 4/5; 6/9] START dropout_rate=0.1, learning_rate=0.1.........................\n",
      "[CV 4/5; 6/9] END dropout_rate=0.1, learning_rate=0.1;, score=0.804 total time=   2.8s\n",
      "[CV 5/5; 6/9] START dropout_rate=0.1, learning_rate=0.1.........................\n",
      "[CV 5/5; 6/9] END dropout_rate=0.1, learning_rate=0.1;, score=0.758 total time=   2.8s\n",
      "[CV 1/5; 7/9] START dropout_rate=0.2, learning_rate=0.001.......................\n",
      "[CV 1/5; 7/9] END dropout_rate=0.2, learning_rate=0.001;, score=0.734 total time=   2.8s\n",
      "[CV 2/5; 7/9] START dropout_rate=0.2, learning_rate=0.001.......................\n",
      "[CV 2/5; 7/9] END dropout_rate=0.2, learning_rate=0.001;, score=0.714 total time=   2.8s\n",
      "[CV 3/5; 7/9] START dropout_rate=0.2, learning_rate=0.001.......................\n",
      "[CV 3/5; 7/9] END dropout_rate=0.2, learning_rate=0.001;, score=0.747 total time=   2.8s\n",
      "[CV 4/5; 7/9] START dropout_rate=0.2, learning_rate=0.001.......................\n",
      "[CV 4/5; 7/9] END dropout_rate=0.2, learning_rate=0.001;, score=0.837 total time=   2.8s\n",
      "[CV 5/5; 7/9] START dropout_rate=0.2, learning_rate=0.001.......................\n",
      "[CV 5/5; 7/9] END dropout_rate=0.2, learning_rate=0.001;, score=0.771 total time=   2.8s\n",
      "[CV 1/5; 8/9] START dropout_rate=0.2, learning_rate=0.01........................\n",
      "[CV 1/5; 8/9] END dropout_rate=0.2, learning_rate=0.01;, score=0.760 total time=   3.0s\n",
      "[CV 2/5; 8/9] START dropout_rate=0.2, learning_rate=0.01........................\n",
      "[CV 2/5; 8/9] END dropout_rate=0.2, learning_rate=0.01;, score=0.662 total time=   2.9s\n",
      "[CV 3/5; 8/9] START dropout_rate=0.2, learning_rate=0.01........................\n",
      "[CV 3/5; 8/9] END dropout_rate=0.2, learning_rate=0.01;, score=0.760 total time=   3.1s\n",
      "[CV 4/5; 8/9] START dropout_rate=0.2, learning_rate=0.01........................\n",
      "[CV 4/5; 8/9] END dropout_rate=0.2, learning_rate=0.01;, score=0.830 total time=   2.8s\n",
      "[CV 5/5; 8/9] START dropout_rate=0.2, learning_rate=0.01........................\n",
      "[CV 5/5; 8/9] END dropout_rate=0.2, learning_rate=0.01;, score=0.758 total time=   2.9s\n",
      "[CV 1/5; 9/9] START dropout_rate=0.2, learning_rate=0.1.........................\n",
      "[CV 1/5; 9/9] END dropout_rate=0.2, learning_rate=0.1;, score=0.734 total time=   2.8s\n",
      "[CV 2/5; 9/9] START dropout_rate=0.2, learning_rate=0.1.........................\n",
      "[CV 2/5; 9/9] END dropout_rate=0.2, learning_rate=0.1;, score=0.714 total time=   2.8s\n",
      "[CV 3/5; 9/9] START dropout_rate=0.2, learning_rate=0.1.........................\n",
      "[CV 3/5; 9/9] END dropout_rate=0.2, learning_rate=0.1;, score=0.727 total time=   2.8s\n",
      "[CV 4/5; 9/9] START dropout_rate=0.2, learning_rate=0.1.........................\n",
      "[CV 4/5; 9/9] END dropout_rate=0.2, learning_rate=0.1;, score=0.817 total time=   2.8s\n",
      "[CV 5/5; 9/9] START dropout_rate=0.2, learning_rate=0.1.........................\n",
      "[CV 5/5; 9/9] END dropout_rate=0.2, learning_rate=0.1;, score=0.752 total time=   2.8s\n"
     ]
    }
   ],
   "source": [
    "from keras.layers import Dropout\n",
    "\n",
    "# Defining the model\n",
    "\n",
    "def create_model(learning_rate,dropout_rate):\n",
    "    model = Sequential()\n",
    "    model.add(Dense(8,input_dim = 8,kernel_initializer = 'normal',activation = 'relu'))\n",
    "    model.add(Dropout(dropout_rate))\n",
    "    model.add(Dense(12,input_dim = 8,kernel_initializer = 'normal',activation = 'relu'))\n",
    "    model.add(Dropout(dropout_rate))\n",
    "    model.add(Dense(1,activation = 'sigmoid'))\n",
    "    \n",
    "    adam = Adam(learning_rate = learning_rate)\n",
    "    model.compile(loss = 'binary_crossentropy',optimizer = adam,metrics = ['accuracy'])\n",
    "    return model\n",
    "\n",
    "# Create the model\n",
    "\n",
    "model = KerasClassifier(build_fn = create_model,verbose = 0,batch_size = 40,epochs = 50)\n",
    "\n",
    "# Define the grid search parameters\n",
    "\n",
    "learning_rate = [0.001,0.01,0.1]\n",
    "dropout_rate = [0.0,0.1,0.2]\n",
    "\n",
    "# Make a dictionary of the grid search parameters\n",
    "\n",
    "param_grids = dict(learning_rate = learning_rate,dropout_rate = dropout_rate)\n",
    "\n",
    "# Build and fit the GridSearchCV\n",
    "\n",
    "grid = GridSearchCV(estimator = model,param_grid = param_grids,cv = KFold(),verbose = 10)\n",
    "grid_result = grid.fit(X_standardized,y)\n"
   ]
  },
  {
   "cell_type": "code",
   "execution_count": 12,
   "metadata": {
    "colab": {
     "base_uri": "https://localhost:8080/"
    },
    "executionInfo": {
     "elapsed": 12,
     "status": "ok",
     "timestamp": 1664206452187,
     "user": {
      "displayName": "Salem Sameer Shaikh",
      "userId": "05291575250389740253"
     },
     "user_tz": -330
    },
    "id": "ooRTPFt5hADs",
    "outputId": "2dfa4bbc-fef0-4ffc-991c-c3cb566a9c37"
   },
   "outputs": [
    {
     "name": "stdout",
     "output_type": "stream",
     "text": [
      "Best : 0.7748238682746887, using {'dropout_rate': 0.1, 'learning_rate': 0.001}\n",
      "0.7722264647483825,0.04009141855413296 with: {'dropout_rate': 0.0, 'learning_rate': 0.001}\n",
      "0.7578728437423706,0.029561298325359524 with: {'dropout_rate': 0.0, 'learning_rate': 0.01}\n",
      "0.7344707608222961,0.04843749517686428 with: {'dropout_rate': 0.0, 'learning_rate': 0.1}\n",
      "0.7748238682746887,0.03964970078414785 with: {'dropout_rate': 0.1, 'learning_rate': 0.001}\n",
      "0.7526780486106872,0.03905937483735646 with: {'dropout_rate': 0.1, 'learning_rate': 0.01}\n",
      "0.7474832534790039,0.037022898421406186 with: {'dropout_rate': 0.1, 'learning_rate': 0.1}\n",
      "0.7605296850204468,0.04229944983046996 with: {'dropout_rate': 0.2, 'learning_rate': 0.001}\n",
      "0.7540106892585754,0.053425112720747896 with: {'dropout_rate': 0.2, 'learning_rate': 0.01}\n",
      "0.748790442943573,0.03616366082867292 with: {'dropout_rate': 0.2, 'learning_rate': 0.1}\n"
     ]
    }
   ],
   "source": [
    "# Summarize the results\n",
    "print('Best : {}, using {}'.format(grid_result.best_score_,grid_result.best_params_))\n",
    "means = grid_result.cv_results_['mean_test_score']\n",
    "stds = grid_result.cv_results_['std_test_score']\n",
    "params = grid_result.cv_results_['params']\n",
    "for mean, stdev, param in zip(means, stds, params):\n",
    "  print('{},{} with: {}'.format(mean, stdev, param))"
   ]
  },
  {
   "cell_type": "markdown",
   "metadata": {
    "id": "9gAJQvBUhADs"
   },
   "source": [
    "#### Tuning of Hyperparameters:- Activation Function and Kernel Initializer"
   ]
  },
  {
   "cell_type": "code",
   "execution_count": 13,
   "metadata": {
    "colab": {
     "base_uri": "https://localhost:8080/"
    },
    "executionInfo": {
     "elapsed": 125579,
     "status": "ok",
     "timestamp": 1664206577757,
     "user": {
      "displayName": "Salem Sameer Shaikh",
      "userId": "05291575250389740253"
     },
     "user_tz": -330
    },
    "id": "Eiyc5PvFhADt",
    "outputId": "d49bf6bf-d315-41a5-ad22-0dadc2bfebfb"
   },
   "outputs": [
    {
     "name": "stdout",
     "output_type": "stream",
     "text": [
      "Fitting 5 folds for each of 9 candidates, totalling 45 fits\n",
      "[CV 1/5; 1/9] START activation_function=softmax, init=uniform...................\n",
      "[CV 1/5; 1/9] END activation_function=softmax, init=uniform;, score=0.649 total time=   2.5s\n",
      "[CV 2/5; 1/9] START activation_function=softmax, init=uniform...................\n",
      "[CV 2/5; 1/9] END activation_function=softmax, init=uniform;, score=0.584 total time=   2.7s\n",
      "[CV 3/5; 1/9] START activation_function=softmax, init=uniform...................\n",
      "[CV 3/5; 1/9] END activation_function=softmax, init=uniform;, score=0.630 total time=   3.3s\n",
      "[CV 4/5; 1/9] START activation_function=softmax, init=uniform...................\n",
      "[CV 4/5; 1/9] END activation_function=softmax, init=uniform;, score=0.745 total time=   2.8s\n",
      "[CV 5/5; 1/9] START activation_function=softmax, init=uniform...................\n",
      "[CV 5/5; 1/9] END activation_function=softmax, init=uniform;, score=0.647 total time=   2.5s\n",
      "[CV 1/5; 2/9] START activation_function=softmax, init=normal....................\n",
      "[CV 1/5; 2/9] END activation_function=softmax, init=normal;, score=0.649 total time=   2.9s\n",
      "[CV 2/5; 2/9] START activation_function=softmax, init=normal....................\n",
      "[CV 2/5; 2/9] END activation_function=softmax, init=normal;, score=0.584 total time=   2.9s\n",
      "[CV 3/5; 2/9] START activation_function=softmax, init=normal....................\n",
      "[CV 3/5; 2/9] END activation_function=softmax, init=normal;, score=0.630 total time=   2.9s\n",
      "[CV 4/5; 2/9] START activation_function=softmax, init=normal....................\n",
      "[CV 4/5; 2/9] END activation_function=softmax, init=normal;, score=0.797 total time=   2.9s\n",
      "[CV 5/5; 2/9] START activation_function=softmax, init=normal....................\n",
      "[CV 5/5; 2/9] END activation_function=softmax, init=normal;, score=0.647 total time=   2.9s\n",
      "[CV 1/5; 3/9] START activation_function=softmax, init=zero......................\n",
      "[CV 1/5; 3/9] END activation_function=softmax, init=zero;, score=0.649 total time=   2.9s\n",
      "[CV 2/5; 3/9] START activation_function=softmax, init=zero......................\n",
      "[CV 2/5; 3/9] END activation_function=softmax, init=zero;, score=0.584 total time=   2.9s\n",
      "[CV 3/5; 3/9] START activation_function=softmax, init=zero......................\n",
      "[CV 3/5; 3/9] END activation_function=softmax, init=zero;, score=0.630 total time=   3.4s\n",
      "[CV 4/5; 3/9] START activation_function=softmax, init=zero......................\n",
      "[CV 4/5; 3/9] END activation_function=softmax, init=zero;, score=0.745 total time=   3.0s\n",
      "[CV 5/5; 3/9] START activation_function=softmax, init=zero......................\n",
      "[CV 5/5; 3/9] END activation_function=softmax, init=zero;, score=0.647 total time=   2.9s\n",
      "[CV 1/5; 4/9] START activation_function=relu, init=uniform......................\n",
      "[CV 1/5; 4/9] END activation_function=relu, init=uniform;, score=0.753 total time=   2.8s\n",
      "[CV 2/5; 4/9] START activation_function=relu, init=uniform......................\n",
      "[CV 2/5; 4/9] END activation_function=relu, init=uniform;, score=0.695 total time=   2.8s\n",
      "[CV 3/5; 4/9] START activation_function=relu, init=uniform......................\n",
      "[CV 3/5; 4/9] END activation_function=relu, init=uniform;, score=0.747 total time=   2.8s\n",
      "[CV 4/5; 4/9] START activation_function=relu, init=uniform......................\n",
      "[CV 4/5; 4/9] END activation_function=relu, init=uniform;, score=0.837 total time=   2.8s\n",
      "[CV 5/5; 4/9] START activation_function=relu, init=uniform......................\n",
      "[CV 5/5; 4/9] END activation_function=relu, init=uniform;, score=0.765 total time=   2.8s\n",
      "[CV 1/5; 5/9] START activation_function=relu, init=normal.......................\n",
      "[CV 1/5; 5/9] END activation_function=relu, init=normal;, score=0.721 total time=   2.8s\n",
      "[CV 2/5; 5/9] START activation_function=relu, init=normal.......................\n",
      "[CV 2/5; 5/9] END activation_function=relu, init=normal;, score=0.701 total time=   2.8s\n",
      "[CV 3/5; 5/9] START activation_function=relu, init=normal.......................\n",
      "[CV 3/5; 5/9] END activation_function=relu, init=normal;, score=0.760 total time=   3.1s\n",
      "[CV 4/5; 5/9] START activation_function=relu, init=normal.......................\n",
      "[CV 4/5; 5/9] END activation_function=relu, init=normal;, score=0.830 total time=   2.8s\n",
      "[CV 5/5; 5/9] START activation_function=relu, init=normal.......................\n",
      "[CV 5/5; 5/9] END activation_function=relu, init=normal;, score=0.758 total time=   2.8s\n",
      "[CV 1/5; 6/9] START activation_function=relu, init=zero.........................\n",
      "[CV 1/5; 6/9] END activation_function=relu, init=zero;, score=0.649 total time=   2.8s\n",
      "[CV 2/5; 6/9] START activation_function=relu, init=zero.........................\n",
      "[CV 2/5; 6/9] END activation_function=relu, init=zero;, score=0.584 total time=   2.8s\n",
      "[CV 3/5; 6/9] START activation_function=relu, init=zero.........................\n",
      "[CV 3/5; 6/9] END activation_function=relu, init=zero;, score=0.630 total time=   2.8s\n",
      "[CV 4/5; 6/9] START activation_function=relu, init=zero.........................\n",
      "[CV 4/5; 6/9] END activation_function=relu, init=zero;, score=0.745 total time=   2.8s\n",
      "[CV 5/5; 6/9] START activation_function=relu, init=zero.........................\n",
      "[CV 5/5; 6/9] END activation_function=relu, init=zero;, score=0.647 total time=   2.9s\n",
      "[CV 1/5; 7/9] START activation_function=tanh, init=uniform......................\n",
      "[CV 1/5; 7/9] END activation_function=tanh, init=uniform;, score=0.760 total time=   2.9s\n",
      "[CV 2/5; 7/9] START activation_function=tanh, init=uniform......................\n",
      "[CV 2/5; 7/9] END activation_function=tanh, init=uniform;, score=0.734 total time=   2.9s\n",
      "[CV 3/5; 7/9] START activation_function=tanh, init=uniform......................\n",
      "[CV 3/5; 7/9] END activation_function=tanh, init=uniform;, score=0.760 total time=   3.1s\n",
      "[CV 4/5; 7/9] START activation_function=tanh, init=uniform......................\n",
      "[CV 4/5; 7/9] END activation_function=tanh, init=uniform;, score=0.837 total time=   2.9s\n",
      "[CV 5/5; 7/9] START activation_function=tanh, init=uniform......................\n",
      "[CV 5/5; 7/9] END activation_function=tanh, init=uniform;, score=0.745 total time=   2.9s\n",
      "[CV 1/5; 8/9] START activation_function=tanh, init=normal.......................\n",
      "[CV 1/5; 8/9] END activation_function=tanh, init=normal;, score=0.766 total time=   3.1s\n",
      "[CV 2/5; 8/9] START activation_function=tanh, init=normal.......................\n",
      "[CV 2/5; 8/9] END activation_function=tanh, init=normal;, score=0.727 total time=   2.8s\n",
      "[CV 3/5; 8/9] START activation_function=tanh, init=normal.......................\n",
      "[CV 3/5; 8/9] END activation_function=tanh, init=normal;, score=0.760 total time=   3.0s\n",
      "[CV 4/5; 8/9] START activation_function=tanh, init=normal.......................\n",
      "[CV 4/5; 8/9] END activation_function=tanh, init=normal;, score=0.837 total time=   3.2s\n",
      "[CV 5/5; 8/9] START activation_function=tanh, init=normal.......................\n",
      "[CV 5/5; 8/9] END activation_function=tanh, init=normal;, score=0.745 total time=   2.8s\n",
      "[CV 1/5; 9/9] START activation_function=tanh, init=zero.........................\n",
      "[CV 1/5; 9/9] END activation_function=tanh, init=zero;, score=0.649 total time=   2.9s\n",
      "[CV 2/5; 9/9] START activation_function=tanh, init=zero.........................\n",
      "[CV 2/5; 9/9] END activation_function=tanh, init=zero;, score=0.584 total time=   2.8s\n",
      "[CV 3/5; 9/9] START activation_function=tanh, init=zero.........................\n",
      "[CV 3/5; 9/9] END activation_function=tanh, init=zero;, score=0.630 total time=   2.8s\n",
      "[CV 4/5; 9/9] START activation_function=tanh, init=zero.........................\n",
      "[CV 4/5; 9/9] END activation_function=tanh, init=zero;, score=0.745 total time=   3.2s\n",
      "[CV 5/5; 9/9] START activation_function=tanh, init=zero.........................\n",
      "[CV 5/5; 9/9] END activation_function=tanh, init=zero;, score=0.647 total time=   2.8s\n"
     ]
    }
   ],
   "source": [
    "# Defining the model\n",
    "\n",
    "def create_model(activation_function,init):\n",
    "    model = Sequential()\n",
    "    model.add(Dense(8,input_dim = 8,kernel_initializer = init,activation = activation_function))\n",
    "    model.add(Dropout(0.2))\n",
    "    model.add(Dense(12,input_dim = 8,kernel_initializer = init,activation = activation_function))\n",
    "    model.add(Dropout(0.2))\n",
    "    model.add(Dense(1,activation = 'sigmoid'))\n",
    "    \n",
    "    adam = Adam(learning_rate = 0.001)\n",
    "    model.compile(loss = 'binary_crossentropy',optimizer = adam,metrics = ['accuracy'])\n",
    "    return model\n",
    "\n",
    "# Create the model\n",
    "\n",
    "model = KerasClassifier(build_fn = create_model,verbose = 0,batch_size = 40,epochs = 50)\n",
    "\n",
    "# Define the grid search parameters\n",
    "activation_function = ['softmax','relu','tanh']\n",
    "init = ['uniform','normal','zero']\n",
    "\n",
    "# Make a dictionary of the grid search parameters\n",
    "param_grids = dict(activation_function = activation_function,init = init)\n",
    "\n",
    "# Build and fit the GridSearchCV\n",
    "\n",
    "grid = GridSearchCV(estimator = model,param_grid = param_grids,cv = KFold(),verbose = 10)\n",
    "grid_result = grid.fit(X_standardized,y)\n",
    "\n"
   ]
  },
  {
   "cell_type": "code",
   "execution_count": 14,
   "metadata": {
    "colab": {
     "base_uri": "https://localhost:8080/"
    },
    "executionInfo": {
     "elapsed": 15,
     "status": "ok",
     "timestamp": 1664206577758,
     "user": {
      "displayName": "Salem Sameer Shaikh",
      "userId": "05291575250389740253"
     },
     "user_tz": -330
    },
    "id": "BL_CFga_hADt",
    "outputId": "91406ec9-2ece-4898-ace9-21ecd7ff46d0"
   },
   "outputs": [
    {
     "name": "stdout",
     "output_type": "stream",
     "text": [
      "Best : 0.7669892191886902, using {'activation_function': 'tanh', 'init': 'uniform'}\n",
      "0.6511586427688598,0.05244526932680711 with: {'activation_function': 'softmax', 'init': 'uniform'}\n",
      "0.6616161584854126,0.0717822440570832 with: {'activation_function': 'softmax', 'init': 'normal'}\n",
      "0.6511586427688598,0.05244526932680711 with: {'activation_function': 'softmax', 'init': 'zero'}\n",
      "0.7592224836349487,0.04551555406902966 with: {'activation_function': 'relu', 'init': 'uniform'}\n",
      "0.7540107011795044,0.044084743622199205 with: {'activation_function': 'relu', 'init': 'normal'}\n",
      "0.6511586427688598,0.05244526932680711 with: {'activation_function': 'relu', 'init': 'zero'}\n",
      "0.7669892191886902,0.036149489629613486 with: {'activation_function': 'tanh', 'init': 'uniform'}\n",
      "0.7669892191886902,0.03729767766423352 with: {'activation_function': 'tanh', 'init': 'normal'}\n",
      "0.6511586427688598,0.05244526932680711 with: {'activation_function': 'tanh', 'init': 'zero'}\n"
     ]
    }
   ],
   "source": [
    "# Summarize the results\n",
    "print('Best : {}, using {}'.format(grid_result.best_score_,grid_result.best_params_))\n",
    "means = grid_result.cv_results_['mean_test_score']\n",
    "stds = grid_result.cv_results_['std_test_score']\n",
    "params = grid_result.cv_results_['params']\n",
    "for mean, stdev, param in zip(means, stds, params):\n",
    "  print('{},{} with: {}'.format(mean, stdev, param))"
   ]
  },
  {
   "cell_type": "markdown",
   "metadata": {
    "id": "D555viWqhADv"
   },
   "source": [
    "#### Tuning of Hyperparameter :-Number of Neurons in activation layer"
   ]
  },
  {
   "cell_type": "code",
   "execution_count": 15,
   "metadata": {
    "colab": {
     "base_uri": "https://localhost:8080/"
    },
    "executionInfo": {
     "elapsed": 94140,
     "status": "ok",
     "timestamp": 1664206671886,
     "user": {
      "displayName": "Salem Sameer Shaikh",
      "userId": "05291575250389740253"
     },
     "user_tz": -330
    },
    "id": "4DMDNVaShADv",
    "outputId": "9caa0061-bd6b-4971-f002-b9b8f1603756"
   },
   "outputs": [
    {
     "name": "stdout",
     "output_type": "stream",
     "text": [
      "Fitting 5 folds for each of 9 candidates, totalling 45 fits\n",
      "[CV 1/5; 1/9] START neuron1=4, neuron2=2........................................\n",
      "[CV 1/5; 1/9] END .........neuron1=4, neuron2=2;, score=0.786 total time=   2.4s\n",
      "[CV 2/5; 1/9] START neuron1=4, neuron2=2........................................\n",
      "[CV 2/5; 1/9] END .........neuron1=4, neuron2=2;, score=0.721 total time=   2.4s\n",
      "[CV 3/5; 1/9] START neuron1=4, neuron2=2........................................\n",
      "[CV 3/5; 1/9] END .........neuron1=4, neuron2=2;, score=0.766 total time=   2.7s\n",
      "[CV 4/5; 1/9] START neuron1=4, neuron2=2........................................\n",
      "[CV 4/5; 1/9] END .........neuron1=4, neuron2=2;, score=0.830 total time=   2.4s\n",
      "[CV 5/5; 1/9] START neuron1=4, neuron2=2........................................\n",
      "[CV 5/5; 1/9] END .........neuron1=4, neuron2=2;, score=0.758 total time=   2.4s\n",
      "[CV 1/5; 2/9] START neuron1=4, neuron2=4........................................\n",
      "[CV 1/5; 2/9] END .........neuron1=4, neuron2=4;, score=0.773 total time=   2.7s\n",
      "[CV 2/5; 2/9] START neuron1=4, neuron2=4........................................\n",
      "[CV 2/5; 2/9] END .........neuron1=4, neuron2=4;, score=0.721 total time=   2.8s\n",
      "[CV 3/5; 2/9] START neuron1=4, neuron2=4........................................\n",
      "[CV 3/5; 2/9] END .........neuron1=4, neuron2=4;, score=0.760 total time=   2.8s\n",
      "[CV 4/5; 2/9] START neuron1=4, neuron2=4........................................\n",
      "[CV 4/5; 2/9] END .........neuron1=4, neuron2=4;, score=0.830 total time=   3.1s\n",
      "[CV 5/5; 2/9] START neuron1=4, neuron2=4........................................\n",
      "[CV 5/5; 2/9] END .........neuron1=4, neuron2=4;, score=0.765 total time=   2.8s\n",
      "[CV 1/5; 3/9] START neuron1=4, neuron2=8........................................\n",
      "[CV 1/5; 3/9] END .........neuron1=4, neuron2=8;, score=0.773 total time=   2.8s\n",
      "[CV 2/5; 3/9] START neuron1=4, neuron2=8........................................\n",
      "[CV 2/5; 3/9] END .........neuron1=4, neuron2=8;, score=0.727 total time=   2.8s\n",
      "[CV 3/5; 3/9] START neuron1=4, neuron2=8........................................\n",
      "[CV 3/5; 3/9] END .........neuron1=4, neuron2=8;, score=0.766 total time=   2.8s\n",
      "[CV 4/5; 3/9] START neuron1=4, neuron2=8........................................\n",
      "[CV 4/5; 3/9] END .........neuron1=4, neuron2=8;, score=0.837 total time=   2.7s\n",
      "[CV 5/5; 3/9] START neuron1=4, neuron2=8........................................\n",
      "[CV 5/5; 3/9] END .........neuron1=4, neuron2=8;, score=0.752 total time=   2.8s\n",
      "[CV 1/5; 4/9] START neuron1=8, neuron2=2........................................\n",
      "[CV 1/5; 4/9] END .........neuron1=8, neuron2=2;, score=0.779 total time=   2.8s\n",
      "[CV 2/5; 4/9] START neuron1=8, neuron2=2........................................\n",
      "[CV 2/5; 4/9] END .........neuron1=8, neuron2=2;, score=0.721 total time=   2.8s\n",
      "[CV 3/5; 4/9] START neuron1=8, neuron2=2........................................\n",
      "[CV 3/5; 4/9] END .........neuron1=8, neuron2=2;, score=0.766 total time=   2.8s\n",
      "[CV 4/5; 4/9] START neuron1=8, neuron2=2........................................\n",
      "[CV 4/5; 4/9] END .........neuron1=8, neuron2=2;, score=0.837 total time=   2.7s\n",
      "[CV 5/5; 4/9] START neuron1=8, neuron2=2........................................\n",
      "[CV 5/5; 4/9] END .........neuron1=8, neuron2=2;, score=0.739 total time=   3.1s\n",
      "[CV 1/5; 5/9] START neuron1=8, neuron2=4........................................\n",
      "[CV 1/5; 5/9] END .........neuron1=8, neuron2=4;, score=0.773 total time=   2.8s\n",
      "[CV 2/5; 5/9] START neuron1=8, neuron2=4........................................\n",
      "[CV 2/5; 5/9] END .........neuron1=8, neuron2=4;, score=0.721 total time=   2.8s\n",
      "[CV 3/5; 5/9] START neuron1=8, neuron2=4........................................\n",
      "[CV 3/5; 5/9] END .........neuron1=8, neuron2=4;, score=0.766 total time=   2.8s\n",
      "[CV 4/5; 5/9] START neuron1=8, neuron2=4........................................\n",
      "[CV 4/5; 5/9] END .........neuron1=8, neuron2=4;, score=0.830 total time=   2.8s\n",
      "[CV 5/5; 5/9] START neuron1=8, neuron2=4........................................\n",
      "[CV 5/5; 5/9] END .........neuron1=8, neuron2=4;, score=0.778 total time=   2.8s\n",
      "[CV 1/5; 6/9] START neuron1=8, neuron2=8........................................\n",
      "[CV 1/5; 6/9] END .........neuron1=8, neuron2=8;, score=0.773 total time=   2.8s\n",
      "[CV 2/5; 6/9] START neuron1=8, neuron2=8........................................\n",
      "[CV 2/5; 6/9] END .........neuron1=8, neuron2=8;, score=0.714 total time=   2.7s\n",
      "[CV 3/5; 6/9] START neuron1=8, neuron2=8........................................\n",
      "[CV 3/5; 6/9] END .........neuron1=8, neuron2=8;, score=0.760 total time=   3.0s\n",
      "[CV 4/5; 6/9] START neuron1=8, neuron2=8........................................\n",
      "[CV 4/5; 6/9] END .........neuron1=8, neuron2=8;, score=0.830 total time=   2.8s\n",
      "[CV 5/5; 6/9] START neuron1=8, neuron2=8........................................\n",
      "[CV 5/5; 6/9] END .........neuron1=8, neuron2=8;, score=0.771 total time=   2.7s\n",
      "[CV 1/5; 7/9] START neuron1=16, neuron2=2.......................................\n",
      "[CV 1/5; 7/9] END ........neuron1=16, neuron2=2;, score=0.773 total time=   3.1s\n",
      "[CV 2/5; 7/9] START neuron1=16, neuron2=2.......................................\n",
      "[CV 2/5; 7/9] END ........neuron1=16, neuron2=2;, score=0.734 total time=   2.8s\n",
      "[CV 3/5; 7/9] START neuron1=16, neuron2=2.......................................\n",
      "[CV 3/5; 7/9] END ........neuron1=16, neuron2=2;, score=0.760 total time=   2.8s\n",
      "[CV 4/5; 7/9] START neuron1=16, neuron2=2.......................................\n",
      "[CV 4/5; 7/9] END ........neuron1=16, neuron2=2;, score=0.830 total time=   2.8s\n",
      "[CV 5/5; 7/9] START neuron1=16, neuron2=2.......................................\n",
      "[CV 5/5; 7/9] END ........neuron1=16, neuron2=2;, score=0.745 total time=   2.8s\n",
      "[CV 1/5; 8/9] START neuron1=16, neuron2=4.......................................\n",
      "[CV 1/5; 8/9] END ........neuron1=16, neuron2=4;, score=0.766 total time=   2.8s\n",
      "[CV 2/5; 8/9] START neuron1=16, neuron2=4.......................................\n",
      "[CV 2/5; 8/9] END ........neuron1=16, neuron2=4;, score=0.727 total time=   2.8s\n",
      "[CV 3/5; 8/9] START neuron1=16, neuron2=4.......................................\n",
      "[CV 3/5; 8/9] END ........neuron1=16, neuron2=4;, score=0.760 total time=   2.8s\n",
      "[CV 4/5; 8/9] START neuron1=16, neuron2=4.......................................\n",
      "[CV 4/5; 8/9] END ........neuron1=16, neuron2=4;, score=0.830 total time=   2.8s\n",
      "[CV 5/5; 8/9] START neuron1=16, neuron2=4.......................................\n",
      "[CV 5/5; 8/9] END ........neuron1=16, neuron2=4;, score=0.778 total time=   2.8s\n",
      "[CV 1/5; 9/9] START neuron1=16, neuron2=8.......................................\n",
      "[CV 1/5; 9/9] END ........neuron1=16, neuron2=8;, score=0.766 total time=   2.8s\n",
      "[CV 2/5; 9/9] START neuron1=16, neuron2=8.......................................\n",
      "[CV 2/5; 9/9] END ........neuron1=16, neuron2=8;, score=0.714 total time=   3.2s\n",
      "[CV 3/5; 9/9] START neuron1=16, neuron2=8.......................................\n",
      "[CV 3/5; 9/9] END ........neuron1=16, neuron2=8;, score=0.766 total time=   2.8s\n",
      "[CV 4/5; 9/9] START neuron1=16, neuron2=8.......................................\n",
      "[CV 4/5; 9/9] END ........neuron1=16, neuron2=8;, score=0.830 total time=   2.8s\n",
      "[CV 5/5; 9/9] START neuron1=16, neuron2=8.......................................\n",
      "[CV 5/5; 9/9] END ........neuron1=16, neuron2=8;, score=0.758 total time=   2.8s\n"
     ]
    }
   ],
   "source": [
    "# Defining the model\n",
    "\n",
    "def create_model(neuron1,neuron2):\n",
    "    model = Sequential()\n",
    "    model.add(Dense(neuron1,input_dim = 8,kernel_initializer = 'uniform',activation = 'linear'))\n",
    "    model.add(Dropout(0.2))\n",
    "    model.add(Dense(neuron2,input_dim = neuron1,kernel_initializer = 'uniform',activation = 'linear'))\n",
    "    model.add(Dropout(0.2))\n",
    "    model.add(Dense(1,activation = 'sigmoid'))\n",
    "    \n",
    "    adam = Adam(learning_rate = 0.001)\n",
    "    #adam = Adam(lr = 0.001)\n",
    "    model.compile(loss = 'binary_crossentropy',optimizer = adam,metrics = ['accuracy'])\n",
    "    return model\n",
    "\n",
    "# Create the model\n",
    "\n",
    "model = KerasClassifier(build_fn = create_model,verbose = 0,batch_size = 40,epochs = 50)\n",
    "\n",
    "# Define the grid search parameters\n",
    "\n",
    "neuron1 = [4,8,16]\n",
    "neuron2 = [2,4,8]\n",
    "\n",
    "# Make a dictionary of the grid search parameters\n",
    "\n",
    "param_grids = dict(neuron1 = neuron1,neuron2 = neuron2)\n",
    "\n",
    "# Build and fit the GridSearchCV\n",
    "\n",
    "grid = GridSearchCV(estimator = model,param_grid = param_grids,cv = KFold(),verbose = 10)\n",
    "grid_result = grid.fit(X_standardized,y)\n"
   ]
  },
  {
   "cell_type": "code",
   "execution_count": 16,
   "metadata": {
    "colab": {
     "base_uri": "https://localhost:8080/"
    },
    "executionInfo": {
     "elapsed": 12,
     "status": "ok",
     "timestamp": 1664206671886,
     "user": {
      "displayName": "Salem Sameer Shaikh",
      "userId": "05291575250389740253"
     },
     "user_tz": -330
    },
    "id": "5jZaaz3LhADw",
    "outputId": "a7e01b25-894e-4bec-f86e-655eed86b880"
   },
   "outputs": [
    {
     "name": "stdout",
     "output_type": "stream",
     "text": [
      "Best : 0.7735166788101197, using {'neuron1': 8, 'neuron2': 4}\n",
      "0.7721925139427185,0.03579823818066126 with: {'neuron1': 4, 'neuron2': 2}\n",
      "0.7696035981178284,0.03512968658388637 with: {'neuron1': 4, 'neuron2': 4}\n",
      "0.7708938121795654,0.03637661717740639 with: {'neuron1': 4, 'neuron2': 8}\n",
      "0.7682794332504272,0.03982754094833611 with: {'neuron1': 8, 'neuron2': 2}\n",
      "0.7735166788101197,0.03478739227860509 with: {'neuron1': 8, 'neuron2': 4}\n",
      "0.7696120858192443,0.036947040093127693 with: {'neuron1': 8, 'neuron2': 8}\n",
      "0.7682794332504272,0.03358195514106587 with: {'neuron1': 16, 'neuron2': 2}\n",
      "0.7722179770469666,0.03343295092726336 with: {'neuron1': 16, 'neuron2': 4}\n",
      "0.7669977068901062,0.03697344734210317 with: {'neuron1': 16, 'neuron2': 8}\n"
     ]
    }
   ],
   "source": [
    "# Summarize the results\n",
    "print('Best : {}, using {}'.format(grid_result.best_score_,grid_result.best_params_))\n",
    "means = grid_result.cv_results_['mean_test_score']\n",
    "stds = grid_result.cv_results_['std_test_score']\n",
    "params = grid_result.cv_results_['params']\n",
    "for mean, stdev, param in zip(means, stds, params):\n",
    "  print('{},{} with: {}'.format(mean, stdev, param))"
   ]
  },
  {
   "cell_type": "markdown",
   "metadata": {
    "id": "-Rly6iwghADx"
   },
   "source": [
    "#### Training model with optimum values of Hyperparameters"
   ]
  },
  {
   "cell_type": "code",
   "execution_count": 17,
   "metadata": {
    "colab": {
     "base_uri": "https://localhost:8080/"
    },
    "executionInfo": {
     "elapsed": 769,
     "status": "ok",
     "timestamp": 1664206672645,
     "user": {
      "displayName": "Salem Sameer Shaikh",
      "userId": "05291575250389740253"
     },
     "user_tz": -330
    },
    "id": "R7pFt47ghADx",
    "outputId": "d804f167-5a8b-4a2f-92c4-56dc0064d985"
   },
   "outputs": [
    {
     "name": "stdout",
     "output_type": "stream",
     "text": [
      "24/24 [==============================] - 0s 2ms/step\n",
      "0.7786458333333334\n"
     ]
    }
   ],
   "source": [
    "from sklearn.metrics import classification_report, accuracy_score\n",
    "\n",
    "# Defining the model\n",
    "\n",
    "def create_model():\n",
    "    model = Sequential()\n",
    "    model.add(Dense(16,input_dim = 8,kernel_initializer = 'uniform',activation = 'tanh'))\n",
    "    model.add(Dropout(0.1))\n",
    "    model.add(Dense(4,input_dim = 16,kernel_initializer = 'uniform',activation = 'tanh'))\n",
    "    model.add(Dropout(0.1))\n",
    "    model.add(Dense(1,activation = 'sigmoid'))\n",
    "    \n",
    "    adam = Adam(learning_rate = 0.001)\n",
    "    model.compile(loss = 'binary_crossentropy',optimizer = adam,metrics = ['accuracy'])\n",
    "    return model\n",
    "\n",
    "# Create the model\n",
    "\n",
    "model = KerasClassifier(build_fn = create_model,verbose = 0,batch_size = 40,epochs = 10)\n",
    "\n",
    "# Fitting the model\n",
    "\n",
    "model.fit(X_standardized,y)\n",
    "\n",
    "# Predicting using trained model\n",
    "\n",
    "y_predict = model.predict(X_standardized)\n",
    "\n",
    "# Printing the metrics\n",
    "print(accuracy_score(y,y_predict))"
   ]
  },
  {
   "cell_type": "code",
   "execution_count": null,
   "metadata": {
    "id": "1dV_g88ShADy"
   },
   "outputs": [],
   "source": []
  }
 ],
 "metadata": {
  "colab": {
   "provenance": []
  },
  "kernelspec": {
   "display_name": "Python 3 (ipykernel)",
   "language": "python",
   "name": "python3"
  },
  "language_info": {
   "codemirror_mode": {
    "name": "ipython",
    "version": 3
   },
   "file_extension": ".py",
   "mimetype": "text/x-python",
   "name": "python",
   "nbconvert_exporter": "python",
   "pygments_lexer": "ipython3",
   "version": "3.10.9"
  }
 },
 "nbformat": 4,
 "nbformat_minor": 1
}
