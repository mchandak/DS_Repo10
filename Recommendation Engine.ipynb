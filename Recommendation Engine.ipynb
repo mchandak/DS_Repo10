{
 "cells": [
  {
   "cell_type": "code",
   "execution_count": 1,
   "metadata": {
    "executionInfo": {
     "elapsed": 10,
     "status": "ok",
     "timestamp": 1679589861113,
     "user": {
      "displayName": "Kishore S",
      "userId": "00693853530715046850"
     },
     "user_tz": -330
    },
    "id": "e03E18HJ7x18"
   },
   "outputs": [],
   "source": [
    "import pandas as pd\n",
    "import numpy as np"
   ]
  },
  {
   "cell_type": "code",
   "execution_count": 2,
   "metadata": {
    "colab": {
     "base_uri": "https://localhost:8080/",
     "height": 427
    },
    "executionInfo": {
     "elapsed": 49397,
     "status": "error",
     "timestamp": 1679589933836,
     "user": {
      "displayName": "Kishore S",
      "userId": "00693853530715046850"
     },
     "user_tz": -330
    },
    "id": "YBzXzTi07x2C",
    "outputId": "cf265648-109a-4006-ea2b-e39e13e3e609"
   },
   "outputs": [
    {
     "data": {
      "text/html": [
       "<div>\n",
       "<style scoped>\n",
       "    .dataframe tbody tr th:only-of-type {\n",
       "        vertical-align: middle;\n",
       "    }\n",
       "\n",
       "    .dataframe tbody tr th {\n",
       "        vertical-align: top;\n",
       "    }\n",
       "\n",
       "    .dataframe thead th {\n",
       "        text-align: right;\n",
       "    }\n",
       "</style>\n",
       "<table border=\"1\" class=\"dataframe\">\n",
       "  <thead>\n",
       "    <tr style=\"text-align: right;\">\n",
       "      <th></th>\n",
       "      <th>userId</th>\n",
       "      <th>movie</th>\n",
       "      <th>rating</th>\n",
       "    </tr>\n",
       "  </thead>\n",
       "  <tbody>\n",
       "    <tr>\n",
       "      <th>0</th>\n",
       "      <td>3</td>\n",
       "      <td>Toy Story (1995)</td>\n",
       "      <td>4.0</td>\n",
       "    </tr>\n",
       "    <tr>\n",
       "      <th>1</th>\n",
       "      <td>6</td>\n",
       "      <td>Toy Story (1995)</td>\n",
       "      <td>5.0</td>\n",
       "    </tr>\n",
       "    <tr>\n",
       "      <th>2</th>\n",
       "      <td>8</td>\n",
       "      <td>Toy Story (1995)</td>\n",
       "      <td>4.0</td>\n",
       "    </tr>\n",
       "    <tr>\n",
       "      <th>3</th>\n",
       "      <td>10</td>\n",
       "      <td>Toy Story (1995)</td>\n",
       "      <td>4.0</td>\n",
       "    </tr>\n",
       "    <tr>\n",
       "      <th>4</th>\n",
       "      <td>11</td>\n",
       "      <td>Toy Story (1995)</td>\n",
       "      <td>4.5</td>\n",
       "    </tr>\n",
       "  </tbody>\n",
       "</table>\n",
       "</div>"
      ],
      "text/plain": [
       "   userId             movie  rating\n",
       "0       3  Toy Story (1995)     4.0\n",
       "1       6  Toy Story (1995)     5.0\n",
       "2       8  Toy Story (1995)     4.0\n",
       "3      10  Toy Story (1995)     4.0\n",
       "4      11  Toy Story (1995)     4.5"
      ]
     },
     "execution_count": 2,
     "metadata": {},
     "output_type": "execute_result"
    }
   ],
   "source": [
    "movies_df = pd.read_csv('https://raw.githubusercontent.com/mchandak/DS_Repo10/main/Data/Movie.csv')\n",
    "movies_df.head()"
   ]
  },
  {
   "cell_type": "code",
   "execution_count": null,
   "metadata": {},
   "outputs": [],
   "source": [
    "movies_df.info()"
   ]
  },
  {
   "cell_type": "code",
   "execution_count": null,
   "metadata": {
    "colab": {
     "base_uri": "https://localhost:8080/"
    },
    "executionInfo": {
     "elapsed": 366,
     "status": "ok",
     "timestamp": 1671166478088,
     "user": {
      "displayName": "ANANYA GHOSH",
      "userId": "07636421272032694955"
     },
     "user_tz": -330
    },
    "id": "P-N4kOHo7x2D",
    "outputId": "6354de97-4ea0-4597-cfa2-91643f4a11fb"
   },
   "outputs": [],
   "source": [
    "movies_df.sort_values('userId')\n",
    "movies_df.shape"
   ]
  },
  {
   "cell_type": "code",
   "execution_count": null,
   "metadata": {
    "colab": {
     "base_uri": "https://localhost:8080/"
    },
    "executionInfo": {
     "elapsed": 669,
     "status": "ok",
     "timestamp": 1671166482963,
     "user": {
      "displayName": "ANANYA GHOSH",
      "userId": "07636421272032694955"
     },
     "user_tz": -330
    },
    "id": "sD6HOOaV7x2E",
    "outputId": "6e7fa8c2-90ac-4c43-d0e1-8206f5cfa1ce"
   },
   "outputs": [],
   "source": [
    "#number of unique users in the dataset\n",
    "len(movies_df.userId.unique())"
   ]
  },
  {
   "cell_type": "code",
   "execution_count": null,
   "metadata": {
    "colab": {
     "base_uri": "https://localhost:8080/"
    },
    "executionInfo": {
     "elapsed": 798,
     "status": "ok",
     "timestamp": 1671166489788,
     "user": {
      "displayName": "ANANYA GHOSH",
      "userId": "07636421272032694955"
     },
     "user_tz": -330
    },
    "id": "N1Xhc5cs8HLu",
    "outputId": "22e7aac1-a8e0-4091-e937-f2d174d807a6"
   },
   "outputs": [],
   "source": [
    "movies_df['rating'].value_counts()"
   ]
  },
  {
   "cell_type": "code",
   "execution_count": null,
   "metadata": {
    "colab": {
     "base_uri": "https://localhost:8080/"
    },
    "executionInfo": {
     "elapsed": 425,
     "status": "ok",
     "timestamp": 1671166496715,
     "user": {
      "displayName": "ANANYA GHOSH",
      "userId": "07636421272032694955"
     },
     "user_tz": -330
    },
    "id": "g39lZyiE7x2F",
    "outputId": "71042a5d-770f-49ef-edb1-a9fa1c99cf2f"
   },
   "outputs": [],
   "source": [
    "len(movies_df.movie.unique())"
   ]
  },
  {
   "cell_type": "code",
   "execution_count": null,
   "metadata": {
    "colab": {
     "base_uri": "https://localhost:8080/"
    },
    "executionInfo": {
     "elapsed": 686,
     "status": "ok",
     "timestamp": 1671166500561,
     "user": {
      "displayName": "ANANYA GHOSH",
      "userId": "07636421272032694955"
     },
     "user_tz": -330
    },
    "id": "tdyrCDlK8l3b",
    "outputId": "14323cbe-47a2-4cf4-a1db-f6cd9d55f4d1"
   },
   "outputs": [],
   "source": [
    "movies_df.movie.value_counts()"
   ]
  },
  {
   "cell_type": "code",
   "execution_count": null,
   "metadata": {
    "id": "6wmjEoLS7x2F"
   },
   "outputs": [],
   "source": [
    "user_movies_df = movies_df.pivot(index='userId',\n",
    "                                 columns='movie',\n",
    "                                 values='rating')"
   ]
  },
  {
   "cell_type": "code",
   "execution_count": null,
   "metadata": {
    "id": "K5ysKNvU7x2K"
   },
   "outputs": [],
   "source": [
    "user_movies_df"
   ]
  },
  {
   "cell_type": "code",
   "execution_count": null,
   "metadata": {
    "id": "QV7G_zHN7x2K"
   },
   "outputs": [],
   "source": [
    "#Impute those NaNs with 0 values\n",
    "user_movies_df.fillna(0, inplace=True)"
   ]
  },
  {
   "cell_type": "code",
   "execution_count": null,
   "metadata": {
    "colab": {
     "base_uri": "https://localhost:8080/",
     "height": 551
    },
    "executionInfo": {
     "elapsed": 653,
     "status": "ok",
     "timestamp": 1671166536677,
     "user": {
      "displayName": "ANANYA GHOSH",
      "userId": "07636421272032694955"
     },
     "user_tz": -330
    },
    "id": "c1AmBb0N7x2L",
    "outputId": "ee7750d5-2a31-42c9-9432-2fd8d044268a"
   },
   "outputs": [],
   "source": [
    "user_movies_df"
   ]
  },
  {
   "cell_type": "code",
   "execution_count": null,
   "metadata": {
    "id": "MtdosGFq7x2L"
   },
   "outputs": [],
   "source": [
    "#Calculating Cosine Similarity between Users\n",
    "from sklearn.metrics import pairwise_distances\n",
    "#from scipy.spatial.distance import cosine, correlation"
   ]
  },
  {
   "cell_type": "code",
   "execution_count": null,
   "metadata": {
    "id": "-VX9pjgX7x2L"
   },
   "outputs": [],
   "source": [
    "user_sim = 1 - pairwise_distances(user_movies_df.values,metric='cosine')    #subtracted from 1 to get Similarity"
   ]
  },
  {
   "cell_type": "code",
   "execution_count": null,
   "metadata": {
    "colab": {
     "base_uri": "https://localhost:8080/"
    },
    "executionInfo": {
     "elapsed": 371,
     "status": "ok",
     "timestamp": 1671166613489,
     "user": {
      "displayName": "ANANYA GHOSH",
      "userId": "07636421272032694955"
     },
     "user_tz": -330
    },
    "id": "PZHrpgKz7x2M",
    "outputId": "c9ad333f-4640-4065-fe9e-f63933f73509"
   },
   "outputs": [],
   "source": [
    "user_sim"
   ]
  },
  {
   "cell_type": "code",
   "execution_count": null,
   "metadata": {
    "id": "lPvxGyPd7x2M"
   },
   "outputs": [],
   "source": [
    "#Store the results in a dataframe\n",
    "user_sim_df = pd.DataFrame(user_sim)"
   ]
  },
  {
   "cell_type": "code",
   "execution_count": null,
   "metadata": {
    "id": "FFkx838H7x2M"
   },
   "outputs": [],
   "source": [
    "#Set the index and column names to user ids \n",
    "user_sim_df.index = movies_df.userId.unique()\n",
    "user_sim_df.columns = movies_df.userId.unique()\n"
   ]
  },
  {
   "cell_type": "code",
   "execution_count": null,
   "metadata": {
    "colab": {
     "base_uri": "https://localhost:8080/",
     "height": 206
    },
    "executionInfo": {
     "elapsed": 434,
     "status": "ok",
     "timestamp": 1671166651330,
     "user": {
      "displayName": "ANANYA GHOSH",
      "userId": "07636421272032694955"
     },
     "user_tz": -330
    },
    "id": "WI88Bxkx7x2N",
    "outputId": "f5b2b889-1aac-43fb-852d-bd1c00c36ac9"
   },
   "outputs": [],
   "source": [
    "user_sim_df.iloc[0:5, 0:5]"
   ]
  },
  {
   "cell_type": "code",
   "execution_count": null,
   "metadata": {
    "colab": {
     "base_uri": "https://localhost:8080/",
     "height": 206
    },
    "executionInfo": {
     "elapsed": 601,
     "status": "ok",
     "timestamp": 1671166668172,
     "user": {
      "displayName": "ANANYA GHOSH",
      "userId": "07636421272032694955"
     },
     "user_tz": -330
    },
    "id": "UeZOVP-i7x2N",
    "outputId": "6e3f26c1-2f1c-4903-dbcd-c60b9f3ead58"
   },
   "outputs": [],
   "source": [
    "np.fill_diagonal(user_sim, 0)\n",
    "user_sim_df.iloc[0:5, 0:5]"
   ]
  },
  {
   "cell_type": "code",
   "execution_count": null,
   "metadata": {
    "colab": {
     "base_uri": "https://localhost:8080/"
    },
    "executionInfo": {
     "elapsed": 380,
     "status": "ok",
     "timestamp": 1671166676864,
     "user": {
      "displayName": "ANANYA GHOSH",
      "userId": "07636421272032694955"
     },
     "user_tz": -330
    },
    "id": "h57yAdu77x2N",
    "outputId": "a5eda0af-d703-4402-c6c5-b0f47f8cd6ff"
   },
   "outputs": [],
   "source": [
    "#Most Similar Users\n",
    "user_sim_df.idxmax(axis=1)[0:5]"
   ]
  },
  {
   "cell_type": "code",
   "execution_count": null,
   "metadata": {
    "colab": {
     "base_uri": "https://localhost:8080/",
     "height": 175
    },
    "executionInfo": {
     "elapsed": 387,
     "status": "ok",
     "timestamp": 1671166698781,
     "user": {
      "displayName": "ANANYA GHOSH",
      "userId": "07636421272032694955"
     },
     "user_tz": -330
    },
    "id": "soXEAudU7x2N",
    "outputId": "995ecd30-b8cc-4c10-8863-ec9100abc139"
   },
   "outputs": [],
   "source": [
    "movies_df[(movies_df['userId']==6) | (movies_df['userId']==168)]"
   ]
  },
  {
   "cell_type": "code",
   "execution_count": null,
   "metadata": {
    "id": "WnE767dz7x2O"
   },
   "outputs": [],
   "source": [
    "user_1=movies_df[movies_df['userId']==6]"
   ]
  },
  {
   "cell_type": "code",
   "execution_count": null,
   "metadata": {
    "id": "L8n8rpJE7x2O"
   },
   "outputs": [],
   "source": [
    "user_2=movies_df[movies_df['userId']==168]"
   ]
  },
  {
   "cell_type": "code",
   "execution_count": null,
   "metadata": {
    "colab": {
     "base_uri": "https://localhost:8080/"
    },
    "executionInfo": {
     "elapsed": 359,
     "status": "ok",
     "timestamp": 1671166719003,
     "user": {
      "displayName": "ANANYA GHOSH",
      "userId": "07636421272032694955"
     },
     "user_tz": -330
    },
    "id": "xVy5HS0l7x2O",
    "outputId": "bd79b720-cf10-460b-df9b-bff08861f6f8"
   },
   "outputs": [],
   "source": [
    "user_2.movie"
   ]
  },
  {
   "cell_type": "code",
   "execution_count": null,
   "metadata": {
    "colab": {
     "base_uri": "https://localhost:8080/"
    },
    "executionInfo": {
     "elapsed": 506,
     "status": "ok",
     "timestamp": 1671166728190,
     "user": {
      "displayName": "ANANYA GHOSH",
      "userId": "07636421272032694955"
     },
     "user_tz": -330
    },
    "id": "TawLGMf47x2O",
    "outputId": "f0374ee1-283a-4341-c14d-73c394489677"
   },
   "outputs": [],
   "source": [
    "user_1.movie"
   ]
  },
  {
   "cell_type": "code",
   "execution_count": null,
   "metadata": {
    "colab": {
     "base_uri": "https://localhost:8080/",
     "height": 143
    },
    "executionInfo": {
     "elapsed": 378,
     "status": "ok",
     "timestamp": 1671166736041,
     "user": {
      "displayName": "ANANYA GHOSH",
      "userId": "07636421272032694955"
     },
     "user_tz": -330
    },
    "id": "M85rN-OY7x2P",
    "outputId": "36b2d323-76aa-438a-f598-ae8baf22d176"
   },
   "outputs": [],
   "source": [
    "pd.merge(user_1,user_2,on='movie',how='outer')"
   ]
  },
  {
   "cell_type": "code",
   "execution_count": null,
   "metadata": {
    "id": "t3kdlieH7x2P"
   },
   "outputs": [],
   "source": []
  }
 ],
 "metadata": {
  "colab": {
   "provenance": []
  },
  "kernelspec": {
   "display_name": "Python 3 (ipykernel)",
   "language": "python",
   "name": "python3"
  },
  "language_info": {
   "codemirror_mode": {
    "name": "ipython",
    "version": 3
   },
   "file_extension": ".py",
   "mimetype": "text/x-python",
   "name": "python",
   "nbconvert_exporter": "python",
   "pygments_lexer": "ipython3",
   "version": "3.10.9"
  }
 },
 "nbformat": 4,
 "nbformat_minor": 1
}
