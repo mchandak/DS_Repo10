{
 "cells": [
  {
   "cell_type": "code",
   "execution_count": null,
   "metadata": {
    "id": "43W-WucrgSeW"
   },
   "outputs": [],
   "source": [
    "import pandas as pd\n",
    "from sklearn.linear_model import LogisticRegression"
   ]
  },
  {
   "cell_type": "code",
   "execution_count": null,
   "metadata": {
    "colab": {
     "base_uri": "https://localhost:8080/",
     "height": 263
    },
    "executionInfo": {
     "elapsed": 9689,
     "status": "ok",
     "timestamp": 1670901848140,
     "user": {
      "displayName": "ANANYA GHOSH",
      "userId": "07636421272032694955"
     },
     "user_tz": -330
    },
    "id": "dNSIIPUQgSed",
    "outputId": "c1afc24b-1f12-44fc-bfdd-331e58a39f21"
   },
   "outputs": [],
   "source": [
    "claimants = pd.read_csv(\"https://raw.githubusercontent.com/mchandak/DS_Repo10/main/Data/claimants.csv\")\n",
    "claimants.head()"
   ]
  },
  {
   "cell_type": "code",
   "execution_count": null,
   "metadata": {
    "colab": {
     "base_uri": "https://localhost:8080/"
    },
    "executionInfo": {
     "elapsed": 721,
     "status": "ok",
     "timestamp": 1670901858750,
     "user": {
      "displayName": "ANANYA GHOSH",
      "userId": "07636421272032694955"
     },
     "user_tz": -330
    },
    "id": "Dr9JZDPVUnXN",
    "outputId": "476c1788-49b5-4363-fb46-0462a5ff3612"
   },
   "outputs": [],
   "source": [
    "claimants.shape"
   ]
  },
  {
   "cell_type": "code",
   "execution_count": null,
   "metadata": {
    "colab": {
     "base_uri": "https://localhost:8080/"
    },
    "executionInfo": {
     "elapsed": 789,
     "status": "ok",
     "timestamp": 1670901864342,
     "user": {
      "displayName": "ANANYA GHOSH",
      "userId": "07636421272032694955"
     },
     "user_tz": -330
    },
    "id": "R-ax-SVnUY-z",
    "outputId": "6060496e-4bf4-4a22-a644-0d06e814423c"
   },
   "outputs": [],
   "source": [
    "len(claimants['CASENUM'].unique())"
   ]
  },
  {
   "cell_type": "code",
   "execution_count": null,
   "metadata": {
    "id": "RMhkK8ejgSee"
   },
   "outputs": [],
   "source": [
    "# dropping the case number columns as it is not required\n",
    "claimants.drop([\"CASENUM\"],inplace=True,axis = 1)"
   ]
  },
  {
   "cell_type": "code",
   "execution_count": null,
   "metadata": {
    "colab": {
     "base_uri": "https://localhost:8080/"
    },
    "executionInfo": {
     "elapsed": 702,
     "status": "ok",
     "timestamp": 1670901878792,
     "user": {
      "displayName": "ANANYA GHOSH",
      "userId": "07636421272032694955"
     },
     "user_tz": -330
    },
    "id": "1EqQiXUngSef",
    "outputId": "2313027d-ac6c-4fea-b502-6053ca733e32"
   },
   "outputs": [],
   "source": [
    "#Shape of the data set\n",
    "claimants.shape"
   ]
  },
  {
   "cell_type": "code",
   "execution_count": null,
   "metadata": {},
   "outputs": [],
   "source": [
    "#check for missing values\n",
    "claimants.isna().sum()"
   ]
  },
  {
   "cell_type": "code",
   "execution_count": null,
   "metadata": {
    "colab": {
     "base_uri": "https://localhost:8080/"
    },
    "executionInfo": {
     "elapsed": 34,
     "status": "ok",
     "timestamp": 1670901882646,
     "user": {
      "displayName": "ANANYA GHOSH",
      "userId": "07636421272032694955"
     },
     "user_tz": -330
    },
    "id": "AFZPh9yqgSeg",
    "outputId": "8898767a-06df-46d8-8125-4b848fa8cad4"
   },
   "outputs": [],
   "source": [
    "# Removing NA values in data set\n",
    "claimants = claimants.dropna()\n",
    "claimants.shape"
   ]
  },
  {
   "cell_type": "code",
   "execution_count": null,
   "metadata": {
    "id": "X_SHgA2UgSeg"
   },
   "outputs": [],
   "source": [
    "# Dividing our data into input and output variables \n",
    "X = claimants.iloc[:,1:]\n",
    "Y = claimants.iloc[:,0]"
   ]
  },
  {
   "cell_type": "code",
   "execution_count": null,
   "metadata": {},
   "outputs": [],
   "source": [
    "X.head()"
   ]
  },
  {
   "cell_type": "code",
   "execution_count": null,
   "metadata": {
    "colab": {
     "base_uri": "https://localhost:8080/"
    },
    "executionInfo": {
     "elapsed": 680,
     "status": "ok",
     "timestamp": 1670901896638,
     "user": {
      "displayName": "ANANYA GHOSH",
      "userId": "07636421272032694955"
     },
     "user_tz": -330
    },
    "id": "j49xapYzgSeh",
    "outputId": "55d45c5f-dc5c-49d1-90e0-53795dfb2027"
   },
   "outputs": [],
   "source": [
    "#Logistic regression and fit the model\n",
    "classifier = LogisticRegression()\n",
    "classifier.fit(X,Y)"
   ]
  },
  {
   "cell_type": "code",
   "execution_count": null,
   "metadata": {
    "id": "s0zRgneIgSej"
   },
   "outputs": [],
   "source": [
    "#Predict for X dataset\n",
    "y_pred = classifier.predict(X)"
   ]
  },
  {
   "cell_type": "code",
   "execution_count": null,
   "metadata": {
    "id": "0vgqAkcUgSek"
   },
   "outputs": [],
   "source": [
    "y_pred_df= pd.DataFrame({'actual': Y,'predicted': classifier.predict(X)})"
   ]
  },
  {
   "cell_type": "code",
   "execution_count": null,
   "metadata": {
    "colab": {
     "base_uri": "https://localhost:8080/",
     "height": 424
    },
    "executionInfo": {
     "elapsed": 861,
     "status": "ok",
     "timestamp": 1670901946084,
     "user": {
      "displayName": "ANANYA GHOSH",
      "userId": "07636421272032694955"
     },
     "user_tz": -330
    },
    "id": "0LL-o9gJgSel",
    "outputId": "19ce438e-0e47-4c0f-d430-06c39546ff32"
   },
   "outputs": [],
   "source": [
    "y_pred_df"
   ]
  },
  {
   "cell_type": "code",
   "execution_count": null,
   "metadata": {
    "colab": {
     "base_uri": "https://localhost:8080/"
    },
    "executionInfo": {
     "elapsed": 512,
     "status": "ok",
     "timestamp": 1670901954693,
     "user": {
      "displayName": "ANANYA GHOSH",
      "userId": "07636421272032694955"
     },
     "user_tz": -330
    },
    "id": "h4W52M5VgSem",
    "outputId": "c1b6c0cd-f90e-4c94-c940-d4953acc33a8"
   },
   "outputs": [],
   "source": [
    "# Confusion Matrix for the model accuracy\n",
    "from sklearn.metrics import confusion_matrix\n",
    "cm = confusion_matrix(Y,y_pred)\n",
    "print (cm)"
   ]
  },
  {
   "cell_type": "code",
   "execution_count": null,
   "metadata": {},
   "outputs": [],
   "source": [
    "cm1 = confusion_matrix(Y,y_pred,labels=[1, 0])\n",
    "print (cm1)"
   ]
  },
  {
   "cell_type": "code",
   "execution_count": null,
   "metadata": {},
   "outputs": [],
   "source": [
    "y_pred_df[(y_pred_df.actual==1) & (y_pred_df.predicted==1)].count()"
   ]
  },
  {
   "cell_type": "code",
   "execution_count": null,
   "metadata": {},
   "outputs": [],
   "source": [
    "y_pred_df[(y_pred_df.actual==0) & (y_pred_df.predicted==0)].count()"
   ]
  },
  {
   "cell_type": "code",
   "execution_count": null,
   "metadata": {},
   "outputs": [],
   "source": [
    "y_pred_df[(y_pred_df.actual==1) & (y_pred_df.predicted==0)].count()"
   ]
  },
  {
   "cell_type": "code",
   "execution_count": null,
   "metadata": {},
   "outputs": [],
   "source": [
    "y_pred_df[(y_pred_df.actual==0) & (y_pred_df.predicted==1)].count()"
   ]
  },
  {
   "cell_type": "code",
   "execution_count": null,
   "metadata": {},
   "outputs": [],
   "source": [
    "acc=(381+395)/(381+197+123+395)\n",
    "round(acc,2)"
   ]
  },
  {
   "cell_type": "code",
   "execution_count": null,
   "metadata": {},
   "outputs": [],
   "source": [
    "round(classifier.score(X, Y),2)"
   ]
  },
  {
   "cell_type": "code",
   "execution_count": null,
   "metadata": {
    "colab": {
     "base_uri": "https://localhost:8080/"
    },
    "executionInfo": {
     "elapsed": 553,
     "status": "ok",
     "timestamp": 1670901960492,
     "user": {
      "displayName": "ANANYA GHOSH",
      "userId": "07636421272032694955"
     },
     "user_tz": -330
    },
    "id": "6D5uhLDfgSen",
    "outputId": "c933e5f5-aad1-4bda-f2ed-9fee49020166"
   },
   "outputs": [],
   "source": [
    "#Classification report\n",
    "## Precision – What percent of your predictions were correct?\n",
    "## Recall – What percent of the positive cases did you catch? \n",
    "## F1 score – What percent of positive predictions were correct?\n",
    "from sklearn.metrics import classification_report\n",
    "print(classification_report(Y,y_pred))"
   ]
  },
  {
   "cell_type": "code",
   "execution_count": null,
   "metadata": {
    "colab": {
     "base_uri": "https://localhost:8080/"
    },
    "executionInfo": {
     "elapsed": 771,
     "status": "ok",
     "timestamp": 1670902380532,
     "user": {
      "displayName": "ANANYA GHOSH",
      "userId": "07636421272032694955"
     },
     "user_tz": -330
    },
    "id": "4ha5ZCdhhmNC",
    "outputId": "0fb12651-7214-408a-feb7-7415ba2f27a9"
   },
   "outputs": [],
   "source": [
    "import numpy as np\n",
    "pred_p= classifier.predict_proba(X)[:,1]\n",
    "y_pred_df['predicted prob']= pred_p.round(3)\n",
    "y_pred_df"
   ]
  },
  {
   "cell_type": "code",
   "execution_count": null,
   "metadata": {
    "id": "G7gpJaDsgSen"
   },
   "outputs": [],
   "source": [
    "# ROC Curve"
   ]
  },
  {
   "cell_type": "code",
   "execution_count": null,
   "metadata": {
    "colab": {
     "base_uri": "https://localhost:8080/",
     "height": 279
    },
    "executionInfo": {
     "elapsed": 616,
     "status": "ok",
     "timestamp": 1670901980740,
     "user": {
      "displayName": "ANANYA GHOSH",
      "userId": "07636421272032694955"
     },
     "user_tz": -330
    },
    "id": "Rxi9EzrbgSeo",
    "outputId": "4c9408d9-f384-42d2-ab16-65c2f92b1ee9"
   },
   "outputs": [],
   "source": [
    "from sklearn.metrics import roc_curve\n",
    "from sklearn.metrics import roc_auc_score\n",
    "\n",
    "fpr, tpr, thresholds = roc_curve(Y, classifier.predict_proba (X)[:,1])\n",
    "\n",
    "auc = roc_auc_score(Y, y_pred)\n",
    "\n",
    "import matplotlib.pyplot as plt\n",
    "plt.plot(fpr, tpr, color='red', label='logit model ( area  = %0.2f)'%auc)\n",
    "plt.plot([0, 1], [0, 1], 'k--')\n",
    "plt.xlabel('False Positive Rate (FPR)]')\n",
    "plt.ylabel('True Positive Rate (TPR)')\n",
    "plt.legend()\n",
    "plt.show()"
   ]
  },
  {
   "cell_type": "code",
   "execution_count": null,
   "metadata": {
    "colab": {
     "base_uri": "https://localhost:8080/"
    },
    "executionInfo": {
     "elapsed": 568,
     "status": "ok",
     "timestamp": 1670902011514,
     "user": {
      "displayName": "ANANYA GHOSH",
      "userId": "07636421272032694955"
     },
     "user_tz": -330
    },
    "id": "HF-swMWxgSeo",
    "outputId": "d73c16ec-b587-4a1c-d5d0-660246dc2f87"
   },
   "outputs": [],
   "source": [
    "auc"
   ]
  },
  {
   "cell_type": "code",
   "execution_count": null,
   "metadata": {
    "id": "taueBa5uBd-t"
   },
   "outputs": [],
   "source": [
    "import statsmodels.api as sm"
   ]
  },
  {
   "cell_type": "code",
   "execution_count": null,
   "metadata": {
    "colab": {
     "base_uri": "https://localhost:8080/",
     "height": 364
    },
    "executionInfo": {
     "elapsed": 616,
     "status": "ok",
     "timestamp": 1670902020938,
     "user": {
      "displayName": "ANANYA GHOSH",
      "userId": "07636421272032694955"
     },
     "user_tz": -330
    },
    "id": "XxNGhstLBi59",
    "outputId": "bbca7ba5-c95e-4eb1-ab37-8b0e0e58d15c",
    "scrolled": true
   },
   "outputs": [],
   "source": [
    "sm.Logit(Y,X).fit().summary()"
   ]
  },
  {
   "cell_type": "code",
   "execution_count": null,
   "metadata": {},
   "outputs": [],
   "source": []
  },
  {
   "cell_type": "code",
   "execution_count": null,
   "metadata": {},
   "outputs": [],
   "source": [
    "#Recall  (tp/(tp+fn))\n",
    "r=np.round(cm1[0,0]/(cm1[0,0]+cm1[0,1]),2)\n",
    "#Precision\n",
    "p=np.round(cm1[0,0]/(cm1[0,0]+cm1[1,0]),2)\n",
    "print('Recall :',r )\n",
    "print('Precision :' , p)"
   ]
  },
  {
   "cell_type": "code",
   "execution_count": null,
   "metadata": {},
   "outputs": [],
   "source": [
    "from sklearn.metrics import *\n",
    "recall_score(Y, y_pred,pos_label=1).round(2)"
   ]
  },
  {
   "cell_type": "code",
   "execution_count": null,
   "metadata": {},
   "outputs": [],
   "source": [
    "precision_score(Y, y_pred,pos_label=1).round(2)"
   ]
  },
  {
   "cell_type": "code",
   "execution_count": null,
   "metadata": {},
   "outputs": [],
   "source": []
  },
  {
   "cell_type": "code",
   "execution_count": null,
   "metadata": {},
   "outputs": [],
   "source": [
    "pd.set_option('display.max_rows', None)"
   ]
  },
  {
   "cell_type": "code",
   "execution_count": null,
   "metadata": {},
   "outputs": [],
   "source": []
  }
 ],
 "metadata": {
  "colab": {
   "provenance": []
  },
  "kernelspec": {
   "display_name": "Python 3 (ipykernel)",
   "language": "python",
   "name": "python3"
  },
  "language_info": {
   "codemirror_mode": {
    "name": "ipython",
    "version": 3
   },
   "file_extension": ".py",
   "mimetype": "text/x-python",
   "name": "python",
   "nbconvert_exporter": "python",
   "pygments_lexer": "ipython3",
   "version": "3.10.9"
  }
 },
 "nbformat": 4,
 "nbformat_minor": 1
}
