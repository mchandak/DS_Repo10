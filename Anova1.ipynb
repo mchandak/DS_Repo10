{
 "cells": [
  {
   "cell_type": "code",
   "execution_count": 1,
   "id": "67f9ba0a",
   "metadata": {},
   "outputs": [],
   "source": [
    "import numpy as np\n",
    "import scipy.stats as stats"
   ]
  },
  {
   "cell_type": "code",
   "execution_count": 2,
   "id": "4f974793",
   "metadata": {},
   "outputs": [],
   "source": [
    "a1 = np.array([6,2,3,4,2,3,3,2,7,8,10,4])\n",
    "a2 = np.array([4,4,5,7,8,5,3,7,10,4,5,2])\n",
    "a3 = np.array([6,7,5,6,8,7,8,9,6,5,5,12])"
   ]
  },
  {
   "cell_type": "code",
   "execution_count": 3,
   "id": "956b2402",
   "metadata": {},
   "outputs": [],
   "source": [
    "a123=np.concatenate((a1,a2,a3))"
   ]
  },
  {
   "cell_type": "code",
   "execution_count": 4,
   "id": "6241d7e5",
   "metadata": {},
   "outputs": [
    {
     "data": {
      "text/plain": [
       "array([ 6,  2,  3,  4,  2,  3,  3,  2,  7,  8, 10,  4,  4,  4,  5,  7,  8,\n",
       "        5,  3,  7, 10,  4,  5,  2,  6,  7,  5,  6,  8,  7,  8,  9,  6,  5,\n",
       "        5, 12])"
      ]
     },
     "execution_count": 4,
     "metadata": {},
     "output_type": "execute_result"
    }
   ],
   "source": [
    "a123"
   ]
  },
  {
   "cell_type": "code",
   "execution_count": 5,
   "id": "8f389b84",
   "metadata": {},
   "outputs": [
    {
     "data": {
      "text/plain": [
       "5.611111111111111"
      ]
     },
     "execution_count": 5,
     "metadata": {},
     "output_type": "execute_result"
    }
   ],
   "source": [
    "gm = np.mean(a123)\n",
    "gm"
   ]
  },
  {
   "cell_type": "code",
   "execution_count": 6,
   "id": "fc8d7c88",
   "metadata": {},
   "outputs": [
    {
     "data": {
      "text/plain": [
       "4.5"
      ]
     },
     "execution_count": 6,
     "metadata": {},
     "output_type": "execute_result"
    }
   ],
   "source": [
    "m1=np.mean(a1)\n",
    "m1\n"
   ]
  },
  {
   "cell_type": "code",
   "execution_count": 7,
   "id": "b2c1ef08",
   "metadata": {},
   "outputs": [
    {
     "data": {
      "text/plain": [
       "5.333333333333333"
      ]
     },
     "execution_count": 7,
     "metadata": {},
     "output_type": "execute_result"
    }
   ],
   "source": [
    "m2=np.mean(a2)\n",
    "m2"
   ]
  },
  {
   "cell_type": "code",
   "execution_count": 8,
   "id": "820364a1",
   "metadata": {},
   "outputs": [
    {
     "data": {
      "text/plain": [
       "7.0"
      ]
     },
     "execution_count": 8,
     "metadata": {},
     "output_type": "execute_result"
    }
   ],
   "source": [
    "m3=np.mean(a3)\n",
    "m3"
   ]
  },
  {
   "cell_type": "code",
   "execution_count": 9,
   "id": "b413306d",
   "metadata": {},
   "outputs": [
    {
     "data": {
      "text/plain": [
       "38.888888888888886"
      ]
     },
     "execution_count": 9,
     "metadata": {},
     "output_type": "execute_result"
    }
   ],
   "source": [
    "#SSB -> sum of square between\n",
    "SSB = 12*((gm-m1)**2+(gm-m2)**2+(gm-m3)**2)\n",
    "nb = 2 # DoF -> 3-1\n",
    "SSB"
   ]
  },
  {
   "cell_type": "code",
   "execution_count": 10,
   "id": "03552d30",
   "metadata": {},
   "outputs": [
    {
     "data": {
      "text/plain": [
       "179.66666666666669"
      ]
     },
     "execution_count": 10,
     "metadata": {},
     "output_type": "execute_result"
    }
   ],
   "source": [
    "#SSW -> sum of square within\n",
    "SSW = sum((a1 - m1)**2 ) +sum((a2 - m2)**2) + sum((a3 - m3)**2)\n",
    "nw = 33 # DoF -> 3*(12-1)\n",
    "SSW"
   ]
  },
  {
   "cell_type": "code",
   "execution_count": 11,
   "id": "f1d76af2",
   "metadata": {},
   "outputs": [
    {
     "data": {
      "text/plain": [
       "19.444444444444443"
      ]
     },
     "execution_count": 11,
     "metadata": {},
     "output_type": "execute_result"
    }
   ],
   "source": [
    "MSB = SSB/nb\n",
    "MSB\n"
   ]
  },
  {
   "cell_type": "code",
   "execution_count": 12,
   "id": "e9a8587d",
   "metadata": {},
   "outputs": [
    {
     "data": {
      "text/plain": [
       "5.444444444444445"
      ]
     },
     "execution_count": 12,
     "metadata": {},
     "output_type": "execute_result"
    }
   ],
   "source": [
    "MSE = SSW/nw\n",
    "MSE"
   ]
  },
  {
   "cell_type": "code",
   "execution_count": 13,
   "id": "d17658e2",
   "metadata": {},
   "outputs": [
    {
     "data": {
      "text/plain": [
       "3.571428571428571"
      ]
     },
     "execution_count": 13,
     "metadata": {},
     "output_type": "execute_result"
    }
   ],
   "source": [
    "FStat =  MSB/MSE\n",
    "FStat"
   ]
  },
  {
   "cell_type": "code",
   "execution_count": 14,
   "id": "b588a748",
   "metadata": {},
   "outputs": [
    {
     "data": {
      "text/plain": [
       "0.0394405887982584"
      ]
     },
     "execution_count": 14,
     "metadata": {},
     "output_type": "execute_result"
    }
   ],
   "source": [
    "p = 1-stats.f.cdf(FStat, nb, nw)\n",
    "p"
   ]
  },
  {
   "cell_type": "code",
   "execution_count": 15,
   "id": "2651ee66",
   "metadata": {},
   "outputs": [
    {
     "data": {
      "text/plain": [
       "F_onewayResult(statistic=3.5714285714285716, pvalue=0.039440588798258305)"
      ]
     },
     "execution_count": 15,
     "metadata": {},
     "output_type": "execute_result"
    }
   ],
   "source": [
    "#Using library\n",
    "FStat1=stats.f_oneway(a1, a2,a3)\n",
    "FStat1\n"
   ]
  },
  {
   "cell_type": "code",
   "execution_count": null,
   "id": "a7a4f836",
   "metadata": {},
   "outputs": [],
   "source": []
  },
  {
   "cell_type": "code",
   "execution_count": null,
   "id": "26380339",
   "metadata": {},
   "outputs": [],
   "source": []
  },
  {
   "cell_type": "code",
   "execution_count": null,
   "id": "2a5533c9",
   "metadata": {},
   "outputs": [],
   "source": []
  },
  {
   "cell_type": "code",
   "execution_count": null,
   "id": "d46283e9",
   "metadata": {},
   "outputs": [],
   "source": [
    "stats.f.ppf(0.95, nb, nw)"
   ]
  }
 ],
 "metadata": {
  "kernelspec": {
   "display_name": "Python 3 (ipykernel)",
   "language": "python",
   "name": "python3"
  },
  "language_info": {
   "codemirror_mode": {
    "name": "ipython",
    "version": 3
   },
   "file_extension": ".py",
   "mimetype": "text/x-python",
   "name": "python",
   "nbconvert_exporter": "python",
   "pygments_lexer": "ipython3",
   "version": "3.10.9"
  }
 },
 "nbformat": 4,
 "nbformat_minor": 5
}
